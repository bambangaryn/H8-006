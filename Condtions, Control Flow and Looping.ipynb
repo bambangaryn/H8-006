{
 "cells": [
  {
   "cell_type": "markdown",
   "id": "aebe35da",
   "metadata": {},
   "source": [
    "# introdouction if statements"
   ]
  },
  {
   "cell_type": "code",
   "execution_count": null,
   "id": "1cee6aed",
   "metadata": {},
   "outputs": [],
   "source": [
    "x = 0\n",
    "y = 5\n",
    "\n",
    "if x < y:\n",
    "    print('Yes')\n",
    "if y < x:\n",
    "    print('Yes')\n",
    "    \n",
    "if x:\n",
    "    print('Yes')\n",
    "    \n",
    "if y:\n",
    "    print('Yes')\n",
    "    \n",
    "if 'aul' in 'graults':\n",
    "    print('Yes')\n",
    "    \n",
    "if 'quux' in ['foo', 'bar', 'baz']:\n",
    "    print('yes')"
   ]
  },
  {
   "cell_type": "markdown",
   "id": "d8aca11b",
   "metadata": {},
   "source": [
    "# Grouping statements: indentation and blocks"
   ]
  },
  {
   "cell_type": "code",
   "execution_count": null,
   "id": "58214150",
   "metadata": {},
   "outputs": [],
   "source": [
    "if 'foo' in['foo', 'bar', 'baz']:\n",
    "    print('Outer Condition is true')\n",
    "    \n",
    "    if 10 > 20:\n",
    "        print('Inner condition 1')\n",
    "        \n",
    "    print('Beetwen inner conditions')\n",
    "    \n",
    "    if 10< 20:\n",
    "        print('Inner conditions 2')\n",
    "    \n",
    "    print('End of outer conditions')\n",
    "\n",
    "print('After outer conditions')\n"
   ]
  },
  {
   "cell_type": "markdown",
   "id": "5a53b251",
   "metadata": {},
   "source": [
    "# The else and elif"
   ]
  },
  {
   "cell_type": "code",
   "execution_count": null,
   "id": "0e26e5b1",
   "metadata": {},
   "outputs": [],
   "source": [
    "x = 20\n",
    "\n",
    "if x < 50:\n",
    "    print('(first suite)')\n",
    "    print('(x is small)')\n",
    "    \n",
    "else:\n",
    "    print('(second suite)')\n",
    "    print('(s is large)')"
   ]
  },
  {
   "cell_type": "code",
   "execution_count": null,
   "id": "8721a5eb",
   "metadata": {},
   "outputs": [],
   "source": [
    "hargaBuku = 20000\n",
    "hargaMajalah = 5000\n",
    "uang =2000\n",
    "\n",
    "if uang > hargaBuku:\n",
    "    print('Beli buku')\n",
    "else:\n",
    "    print('Uang tidak cukup')"
   ]
  },
  {
   "cell_type": "code",
   "execution_count": null,
   "id": "5f8c4301",
   "metadata": {},
   "outputs": [],
   "source": [
    "number1 = int(input(\"Enter the first number: \"))\n",
    "number2 = int(input(\"Enter the second number: \"))\n",
    "\n",
    "#choise the larger number\n",
    "if number1 > number2:\n",
    "    larger_number = number1\n",
    "else:\n",
    "    larger_number =number2\n",
    "    \n",
    "#print ther result\n",
    "print(\"The larger number is:\", larger_number)"
   ]
  },
  {
   "cell_type": "code",
   "execution_count": null,
   "id": "5c8e2ffd",
   "metadata": {},
   "outputs": [],
   "source": [
    "largest_number = -9999999\n",
    "\n",
    "number = int(input())\n",
    "\n",
    "if number == -1:\n",
    "    print(largest_number)\n",
    "    exit()\n",
    "    \n",
    "if number > largest_number:\n",
    "    largest_number = number"
   ]
  },
  {
   "cell_type": "code",
   "execution_count": null,
   "id": "c21d0c6b",
   "metadata": {},
   "outputs": [],
   "source": [
    "hargaBuku = 20000\n",
    "hargaMajalah = 5000\n",
    "uang =2000\n",
    "\n",
    "if uang > hargaBuku:\n",
    "    print('Beli buku')\n",
    "elif uang > hargaMajalah:\n",
    "    print('Beli Majalah')\n",
    "else:\n",
    "    print('Uang tidak cukup')"
   ]
  },
  {
   "cell_type": "code",
   "execution_count": null,
   "id": "d78980df",
   "metadata": {},
   "outputs": [],
   "source": [
    "name = 'Hactiv8'\n",
    "\n",
    "if name == 'Fred':\n",
    "    print('Hello Fred')\n",
    "elif name == 'Xander':\n",
    "    print('Hello xander')\n",
    "elif name == 'Hactiv8':\n",
    "    print('Hello Hactiv8')\n",
    "elif name == 'Arnold':\n",
    "    print('Hello Arnold')\n",
    "else:\n",
    "    print(\"I don't know who you are!\")\n",
    "\n",
    "\n"
   ]
  },
  {
   "cell_type": "code",
   "execution_count": null,
   "id": "989a0599",
   "metadata": {},
   "outputs": [],
   "source": [
    "if 'a' in 'bar':\n",
    "    print('foo')\n",
    "elif 1/0:\n",
    "    print(\"This won't happen\")\n",
    "elif var:\n",
    "    print(\"This won't either\")"
   ]
  },
  {
   "cell_type": "code",
   "execution_count": null,
   "id": "9ecd97cd",
   "metadata": {},
   "outputs": [],
   "source": [
    "jam = 13\n",
    "if jam >=5 and jam < 12:\n",
    "    print(\"Selamat pagi\")\n",
    "elif jam >= 12 and jam < 17:\n",
    "    print(\"Selamat Siang\")\n",
    "elif jam >=17 and jam < 19:\n",
    "    print(\"Selamat Sore\")\n",
    "else:    #Selain Kondisi di atas\n",
    "    print(\"Selamat malam\")"
   ]
  },
  {
   "cell_type": "markdown",
   "id": "4ad6406b",
   "metadata": {},
   "source": [
    "# One-Line if Statements"
   ]
  },
  {
   "cell_type": "code",
   "execution_count": null,
   "id": "89b9f2b7",
   "metadata": {},
   "outputs": [],
   "source": [
    "if 'f' in 'foo': print('1'); print('2'); print('3')"
   ]
  },
  {
   "cell_type": "code",
   "execution_count": null,
   "id": "0278b59d",
   "metadata": {},
   "outputs": [],
   "source": [
    "x = 2\n",
    "\n",
    "if x == 1: print('foo'); print('bar'); print('baz')\n",
    "elif x == 2: print('qux'); print('quux')\n",
    "else: print('corge'); print('graulth')"
   ]
  },
  {
   "cell_type": "code",
   "execution_count": null,
   "id": "7d650b6f",
   "metadata": {},
   "outputs": [],
   "source": [
    "x = 3\n",
    "\n",
    "if x == 1: print('foo'); print('bar'); print('baz')\n",
    "elif x == 2: print('qux'); print('quux')\n",
    "else: print('corge'); print('graulth')"
   ]
  },
  {
   "cell_type": "markdown",
   "id": "4f2e2b68",
   "metadata": {},
   "source": [
    "# Conditional Expression"
   ]
  },
  {
   "cell_type": "code",
   "execution_count": null,
   "id": "9c74acbc",
   "metadata": {},
   "outputs": [],
   "source": [
    "raining = False\n",
    "print(\"Let's go to the\", 'Beach' if not raining else 'library')\n"
   ]
  },
  {
   "cell_type": "code",
   "execution_count": null,
   "id": "d2d6ea4c",
   "metadata": {},
   "outputs": [],
   "source": [
    "raining = True\n",
    "print(\"Let's go to the\", 'beach' if not raining else 'library')"
   ]
  },
  {
   "cell_type": "code",
   "execution_count": null,
   "id": "0c05c617",
   "metadata": {},
   "outputs": [],
   "source": [
    "age = 12\n",
    "s = 'teen' if age < 21 else 'adult'\n",
    "s"
   ]
  },
  {
   "cell_type": "code",
   "execution_count": null,
   "id": "88c1922d",
   "metadata": {},
   "outputs": [],
   "source": [
    "'yes' if ('qux' in ['foo', 'bar', 'baz']) else 'no'"
   ]
  },
  {
   "cell_type": "markdown",
   "id": "95da6296",
   "metadata": {},
   "source": [
    "# The Python pass statements"
   ]
  },
  {
   "cell_type": "code",
   "execution_count": null,
   "id": "0fdddd8a",
   "metadata": {},
   "outputs": [],
   "source": [
    "if True:            # Error\n",
    "print('foo')"
   ]
  },
  {
   "cell_type": "code",
   "execution_count": null,
   "id": "6683b336",
   "metadata": {},
   "outputs": [],
   "source": [
    "if True:             #Tidak error\n",
    "    pass\n",
    "print('foo')"
   ]
  },
  {
   "cell_type": "markdown",
   "id": "02b6d2d8",
   "metadata": {},
   "source": [
    "# Python \"while\" Loops"
   ]
  },
  {
   "cell_type": "code",
   "execution_count": null,
   "id": "4a35fdce",
   "metadata": {},
   "outputs": [],
   "source": [
    "n = 5\n",
    "while n > 10:\n",
    "    n -= 1\n",
    "    print(n)"
   ]
  },
  {
   "cell_type": "code",
   "execution_count": null,
   "id": "a677784b",
   "metadata": {},
   "outputs": [],
   "source": [
    "i = 1\n",
    "while 1 < 6:\n",
    "    print(i)\n",
    "    i += 1\n"
   ]
  },
  {
   "cell_type": "code",
   "execution_count": null,
   "id": "11034b92",
   "metadata": {},
   "outputs": [],
   "source": [
    "a = int(input(\"Masukan angka: \"))"
   ]
  },
  {
   "cell_type": "markdown",
   "id": "c997f76d",
   "metadata": {},
   "source": [
    "## an infinite loop\n"
   ]
  },
  {
   "cell_type": "code",
   "execution_count": null,
   "id": "0c35ef37",
   "metadata": {},
   "outputs": [],
   "source": [
    "largest_number = -9999999\n",
    "\n",
    "#input the first value\n",
    "number = int(input(\"Enter a number type -1 or stop: \"))\n",
    "\n",
    "#if number is not equal to -1, continue\n",
    "while number != -1:\n",
    "    #Is number largest than largest_number?\n",
    "    if number > largest_number:\n",
    "        # Yes, update largest_number\n",
    "        largest_number = number\n",
    "    #Input the next number\n",
    "    number = int(input(\"Enter a number type -1 or stop: \"))\n",
    "\n",
    "#print the largest_number\n",
    "print(\"The largest_number is: \", largest_number)"
   ]
  },
  {
   "cell_type": "code",
   "execution_count": null,
   "id": "7a381cf9",
   "metadata": {},
   "outputs": [],
   "source": [
    "odd_numbers = 0\n",
    "even_numbers = 0\n",
    "\n",
    "# Read the first number\n",
    "number = int(input(\"Enter a number or type 0 to stop: \"))\n",
    "\n",
    "while number != 0:\n",
    "    #check if number is odd\n",
    "    if number % 2 == 1:\n",
    "        #increase the odd_numbers counter\n",
    "        odd_numbers += 1\n",
    "    else:\n",
    "        even_numbers += 1\n",
    "    #Read the next number\n",
    "    number = int(input(\"ENter a number or type o to stop: \"))\n",
    "    \n",
    "#print result\n",
    "print(\"odd numbers count: \", odd_numbers)\n",
    "print(\"Even numbers count: \", even_numbers )"
   ]
  },
  {
   "cell_type": "code",
   "execution_count": null,
   "id": "d36e7f45",
   "metadata": {},
   "outputs": [],
   "source": [
    "counter = 5\n",
    "while counter != 0:\n",
    "    print(\"Inside the loop.\", counter)\n",
    "    counter -= 1\n",
    "print(\"Outside the loop.\", counter)\n",
    "\n",
    "\n",
    "\n"
   ]
  },
  {
   "cell_type": "markdown",
   "id": "09131349",
   "metadata": {},
   "source": [
    "## The Python break and continue statements"
   ]
  },
  {
   "cell_type": "code",
   "execution_count": null,
   "id": "846723f8",
   "metadata": {},
   "outputs": [],
   "source": [
    "n = 5\n",
    "while n > 0:\n",
    "    n -= 1\n",
    "    if n == 2:\n",
    "        break\n",
    "    print(n)\n",
    "print('Loop ended')\n"
   ]
  },
  {
   "cell_type": "code",
   "execution_count": null,
   "id": "240a8c12",
   "metadata": {},
   "outputs": [],
   "source": [
    "n = 5\n",
    "while n > 0:\n",
    "    n -= 1\n",
    "    if n == 2:\n",
    "        continue\n",
    "    print(n)\n",
    "print('Loop ended')"
   ]
  },
  {
   "cell_type": "markdown",
   "id": "5c9da40e",
   "metadata": {},
   "source": [
    "##### break satetments - more example"
   ]
  },
  {
   "cell_type": "code",
   "execution_count": null,
   "id": "04d4efde",
   "metadata": {},
   "outputs": [],
   "source": [
    "largest_number = -999999\n",
    "counter = 0\n",
    "\n",
    "while True:\n",
    "    number = int(input(\"Eter a number or type -1 to end program: \"))\n",
    "    if number == -1:\n",
    "        break\n",
    "    counter += 1\n",
    "    if number > largest_number:\n",
    "        largest_number = number\n",
    "        \n",
    "if counter != 0:\n",
    "    print(\"The largest_number is\", largest_number)\n",
    "else:\n",
    "    print(\"You haven't enteres anu number\")\n",
    "    "
   ]
  },
  {
   "cell_type": "markdown",
   "id": "81a9b7dd",
   "metadata": {},
   "source": [
    "##### continue statements - more example"
   ]
  },
  {
   "cell_type": "code",
   "execution_count": null,
   "id": "eb43e64f",
   "metadata": {},
   "outputs": [],
   "source": [
    "largest_number = -999999\n",
    "counter = 0\n",
    "\n",
    "while number != -1:\n",
    "    if number == -1:\n",
    "        continue\n",
    "    counter += 1\n",
    "    if number > largest_number:\n",
    "        largest_number = number\n",
    "    number = int(input(\"Eter a number or type -1 to end program: \"))  \n",
    "if counter:\n",
    "    print(\"The largest_number is\", largest_number)\n",
    "else:\n",
    "    print(\"You haven't enteres anu number\")"
   ]
  },
  {
   "cell_type": "markdown",
   "id": "248177f7",
   "metadata": {},
   "source": [
    "## Infinite Loops"
   ]
  },
  {
   "cell_type": "markdown",
   "id": "7d9e334a",
   "metadata": {},
   "source": [
    "### Nested while Loops"
   ]
  },
  {
   "cell_type": "code",
   "execution_count": null,
   "id": "64080502",
   "metadata": {},
   "outputs": [],
   "source": [
    "age = 20\n",
    "gender = 'M'\n",
    "\n",
    "if age < 18:\n",
    "    if gender == 'M':\n",
    "        print('son')\n",
    "    else:\n",
    "        print('daughter')\n",
    "elif age >= 18 and age < 65:\n",
    "    if gender == 'M':\n",
    "        print('father')\n",
    "    else:\n",
    "        print('Mother')\n",
    "else:\n",
    "    if gender == 'M':\n",
    "        print('grandfather')\n",
    "    else:\n",
    "        print('grandmodther')\n",
    "    "
   ]
  },
  {
   "cell_type": "code",
   "execution_count": null,
   "id": "fa4b32aa",
   "metadata": {},
   "outputs": [],
   "source": [
    "a = ['foo', 'bar']\n",
    "\n",
    "while len(a):\n",
    "    print(a.pop(0))\n",
    "    \n",
    "    b = ['baz', 'qux']\n",
    "    \n",
    "    while len(b):\n",
    "        print('>', b.pop(0))"
   ]
  },
  {
   "cell_type": "markdown",
   "id": "18d9b6bf",
   "metadata": {},
   "source": [
    "# The Python for Loop"
   ]
  },
  {
   "cell_type": "code",
   "execution_count": null,
   "id": "326a630f",
   "metadata": {},
   "outputs": [],
   "source": [
    "a = ['foo', 'bar', 'baz']\n",
    "for i in a:\n",
    "    print(i)"
   ]
  },
  {
   "cell_type": "code",
   "execution_count": null,
   "id": "330f00d6",
   "metadata": {},
   "outputs": [],
   "source": [
    "d = {'foo': 1, 'bar':2, 'baz':3}\n",
    "for k in d:\n",
    "    print(k)"
   ]
  },
  {
   "cell_type": "code",
   "execution_count": null,
   "id": "9b8a4f47",
   "metadata": {},
   "outputs": [],
   "source": [
    "for k in d:\n",
    "    print(d[k])"
   ]
  },
  {
   "cell_type": "code",
   "execution_count": null,
   "id": "7e055884",
   "metadata": {},
   "outputs": [],
   "source": [
    "for k in d.values():\n",
    "    print(k)"
   ]
  },
  {
   "cell_type": "markdown",
   "id": "cd3d3dd0",
   "metadata": {},
   "source": [
    "### More about the gor loop and the range() function"
   ]
  },
  {
   "cell_type": "code",
   "execution_count": null,
   "id": "b31c2548",
   "metadata": {},
   "outputs": [],
   "source": [
    "for i in range(2, 8, 3):\n",
    "    print(\"The value of i is currently\", i)"
   ]
  },
  {
   "cell_type": "code",
   "execution_count": null,
   "id": "ef3fcca9",
   "metadata": {},
   "outputs": [],
   "source": [
    "power = 1\n",
    "for expo in range(16):\n",
    "    print(\"2 to the power of\", expo, \"is\", power)\n",
    "    power *= 2"
   ]
  },
  {
   "cell_type": "markdown",
   "id": "efa6b140",
   "metadata": {},
   "source": [
    "### The break and continue statements"
   ]
  },
  {
   "cell_type": "code",
   "execution_count": null,
   "id": "a79c1b9a",
   "metadata": {},
   "outputs": [],
   "source": []
  },
  {
   "cell_type": "code",
   "execution_count": null,
   "id": "9dc9ef13",
   "metadata": {},
   "outputs": [],
   "source": [
    "# break - statements\n",
    "print(\"The break instructions\")\n",
    "for i in range (1, 6):\n",
    "    if i == 3:\n",
    "        break\n",
    "    print(\"Inside teh loop\", i)\n",
    "print(\"Outside the loop\")\n",
    "\n",
    "\n",
    "#continue - example\n",
    "print(\"\\nThe continue statemnets\")\n",
    "for i in range(1, 6):\n",
    "    if i == 3:\n",
    "        continue\n",
    "    print(\"Inside the loop\", i)\n",
    "print(\"Outside the loop.\")"
   ]
  },
  {
   "cell_type": "markdown",
   "id": "fdf3a0a7",
   "metadata": {},
   "source": [
    "### Iterating Through a Dictionary"
   ]
  },
  {
   "cell_type": "code",
   "execution_count": null,
   "id": "ca2a8203",
   "metadata": {},
   "outputs": [],
   "source": [
    "d = {'foo': 1, 'bar': 2, 'baz': 3}\n",
    "for k in d:\n",
    "    print(k)"
   ]
  },
  {
   "cell_type": "markdown",
   "id": "fe5e4c0e",
   "metadata": {},
   "source": [
    "## The range() Function"
   ]
  },
  {
   "cell_type": "code",
   "execution_count": null,
   "id": "2f622104",
   "metadata": {},
   "outputs": [],
   "source": [
    "for n in(0, 1, 2, 3, 4):\n",
    "    print(n)\n"
   ]
  },
  {
   "cell_type": "markdown",
   "id": "69276eb5",
   "metadata": {},
   "source": [
    "# Altering for Loop Behavior"
   ]
  },
  {
   "cell_type": "markdown",
   "id": "e323a29a",
   "metadata": {},
   "source": [
    "### The break and continue Statements"
   ]
  },
  {
   "cell_type": "code",
   "execution_count": null,
   "id": "67cc710c",
   "metadata": {},
   "outputs": [],
   "source": [
    "for i in ['foo', 'bar', 'baz', 'qux']:\n",
    "    if 'b' in i:\n",
    "        break\n",
    "    print(i)\n",
    "        "
   ]
  },
  {
   "cell_type": "code",
   "execution_count": null,
   "id": "0fcbf280",
   "metadata": {},
   "outputs": [],
   "source": [
    "for i in ['foo', 'bar', 'baz','quz']:\n",
    "    if 'b' in i:\n",
    "        continue\n",
    "    print(i)\n"
   ]
  },
  {
   "cell_type": "markdown",
   "id": "73825ac1",
   "metadata": {},
   "source": [
    "## The else Clause"
   ]
  },
  {
   "cell_type": "code",
   "execution_count": null,
   "id": "679b38ea",
   "metadata": {},
   "outputs": [],
   "source": [
    "for i in ['foo', 'bar', 'baz','quz']:\n",
    "    print(i)\n",
    "else:\n",
    "    print('Done.') # will execute"
   ]
  },
  {
   "cell_type": "code",
   "execution_count": null,
   "id": "081052da",
   "metadata": {},
   "outputs": [],
   "source": [
    "for i in ['foo', 'bar','baz', 'qux']:\n",
    "    if i == 'bar':\n",
    "        break\n",
    "    print(i)\n",
    "else:\n",
    "    print('Done.') #will not execute"
   ]
  },
  {
   "cell_type": "code",
   "execution_count": null,
   "id": "1c792abf",
   "metadata": {},
   "outputs": [],
   "source": [
    "# contoh penggunaan\n",
    "temp = input(\"Ketikan temperatur yang ingin dikonversi, eg. 45F, 120C: \")\n",
    "degree = int(temp[:-1])\n",
    "i_convertion = temp[-1]\n",
    "\n",
    "if i_convertion == \"C\":\n",
    "    result = int(round((9 * degree) / 5 + 32))\n",
    "elif i_convertion ==\"F\":\n",
    "    result = int(round((degree - 32) * 5 / 9))\n",
    "else:\n",
    "    print(\"Masukan Input yang benar\")\n",
    "print(\"Temperaturnya adalah\", result , \"derajat\")"
   ]
  }
 ],
 "metadata": {
  "kernelspec": {
   "display_name": "Python 3 (ipykernel)",
   "language": "python",
   "name": "python3"
  },
  "language_info": {
   "codemirror_mode": {
    "name": "ipython",
    "version": 3
   },
   "file_extension": ".py",
   "mimetype": "text/x-python",
   "name": "python",
   "nbconvert_exporter": "python",
   "pygments_lexer": "ipython3",
   "version": "3.9.7"
  }
 },
 "nbformat": 4,
 "nbformat_minor": 5
}
