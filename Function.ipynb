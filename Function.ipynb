{
 "cells": [
  {
   "cell_type": "code",
   "execution_count": null,
   "metadata": {},
   "outputs": [],
   "source": [
    "def message():\n",
    "    print(\"Enter a value\")\n",
    "    \n",
    "print(\"We start here\")\n",
    "message()\n",
    "print(\"We end here\")"
   ]
  },
  {
   "cell_type": "code",
   "execution_count": null,
   "metadata": {},
   "outputs": [],
   "source": [
    "def message():\n",
    "    print(\"Enter a value: \")\n",
    "\n",
    "message()\n",
    "a = int(input())\n",
    "message()\n",
    "b = int(input())\n",
    "message()\n",
    "c = int(input())"
   ]
  },
  {
   "cell_type": "markdown",
   "metadata": {},
   "source": [
    "### Parameterized functions"
   ]
  },
  {
   "cell_type": "code",
   "execution_count": null,
   "metadata": {},
   "outputs": [],
   "source": [
    "def message(number):\n",
    "    print(\"Enter a value: \", number)\n",
    "message(1)"
   ]
  },
  {
   "cell_type": "code",
   "execution_count": null,
   "metadata": {},
   "outputs": [],
   "source": [
    "# 2 parameters , bahkan bisa sebanyak mungkin\n",
    "def message(what, number):\n",
    "    print(\"Enter\", what, \"number\", number)\n",
    "\n",
    "#invoke the function\n",
    "message('this', 123)"
   ]
  },
  {
   "cell_type": "markdown",
   "metadata": {},
   "source": [
    "### Positional Parameter passing"
   ]
  },
  {
   "cell_type": "code",
   "execution_count": null,
   "metadata": {},
   "outputs": [],
   "source": [
    "def my_function(a, b, c):\n",
    "    print(a, b, c)\n",
    "my_function(1, 2, 3)"
   ]
  },
  {
   "cell_type": "markdown",
   "metadata": {},
   "source": [
    "### Keyword aargument passing"
   ]
  },
  {
   "cell_type": "code",
   "execution_count": null,
   "metadata": {},
   "outputs": [],
   "source": [
    "def introduction(first_name, last_name):\n",
    "    print(\"Hello, my name is\", first_name, last_name)\n",
    "    \n",
    "introduction(\"Ary\", \"budi\")\n",
    "introduction(first_name = \"Uzui\", last_name = \"Tengen\")   # Menggunakan keyword\n",
    "introduction(last_name=\"Tengen\", first_name = \"Uzui\")     # Keuntungan menggunakan keyword adalah bisa di balik\n"
   ]
  },
  {
   "cell_type": "markdown",
   "metadata": {},
   "source": [
    "### mixing positional and keyword argumrnts"
   ]
  },
  {
   "cell_type": "code",
   "execution_count": null,
   "metadata": {},
   "outputs": [],
   "source": [
    "# Aturannya positional dulu baru keyword\n",
    "def adding(a, b, c):\n",
    "    print(a, \"+\", b, \"+\", c, \"=\", a + b + c)\n",
    "\n",
    "# full positioning\n",
    "adding(1,2,3)\n",
    "# full keyword\n",
    "adding(a=1, b=2, c=3)\n",
    "#mixing\n",
    "adding(1, b = 2, c = 3)"
   ]
  },
  {
   "cell_type": "markdown",
   "metadata": {},
   "source": [
    "### parametrized functions - more details"
   ]
  },
  {
   "cell_type": "code",
   "execution_count": null,
   "metadata": {},
   "outputs": [],
   "source": [
    "def introduction(first_name, last_name = \"Smith\"):\n",
    "    print(\"Hello, my name is\", first_name, last_name)\n",
    "    \n",
    "# Call the functions here'\n",
    "introduction(\"John\")\n"
   ]
  },
  {
   "cell_type": "code",
   "execution_count": null,
   "metadata": {},
   "outputs": [],
   "source": [
    "def introduction(first_name, last_name = \"Smith\"):\n",
    "    print(\"Hello, my name is\", first_name, last_name)\n",
    "    \n",
    "# Call the functions here'\n",
    "introduction(\"Dr\", \"John\")"
   ]
  },
  {
   "cell_type": "code",
   "execution_count": null,
   "metadata": {},
   "outputs": [],
   "source": [
    "def introduction(first_name = \"John\", last_name = \"Smith\"):\n",
    "    print(\"Hello, my name is\", first_name, last_name)\n",
    "    \n",
    "# Call the functions here'\n",
    "introduction()"
   ]
  },
  {
   "cell_type": "markdown",
   "metadata": {},
   "source": [
    "### return instructions"
   ]
  },
  {
   "cell_type": "markdown",
   "metadata": {},
   "source": [
    "##### return without expression"
   ]
  },
  {
   "cell_type": "code",
   "execution_count": null,
   "metadata": {},
   "outputs": [],
   "source": [
    "def happy_new_year(wishes = True):\n",
    "    print(\"Three..\")\n",
    "    print(\"Two..\")\n",
    "    print(\"one..\")\n",
    "    if not wishes:\n",
    "        return\n",
    "    \n",
    "    print(\"Happy new year\")"
   ]
  },
  {
   "cell_type": "markdown",
   "metadata": {},
   "source": [
    "##### return with an expression"
   ]
  },
  {
   "cell_type": "code",
   "execution_count": null,
   "metadata": {},
   "outputs": [],
   "source": [
    "def boring_function():\n",
    "    return 123\n",
    "x = boring_function()\n",
    "\n",
    "print(\"The boring function has returned its result\")"
   ]
  },
  {
   "cell_type": "code",
   "execution_count": null,
   "metadata": {},
   "outputs": [],
   "source": [
    "def boring_function():\n",
    "    print(\"'Horedom mode' ON\")\n",
    "    return 123\n",
    "print(\"This lesson is interisting\")\n",
    "boring_function()   #nilai 123 akan disimpan disni\n",
    "print(\"This lesson is boring.\")"
   ]
  },
  {
   "cell_type": "markdown",
   "metadata": {},
   "source": [
    "### A few words about None: continues"
   ]
  },
  {
   "cell_type": "code",
   "execution_count": null,
   "metadata": {},
   "outputs": [],
   "source": [
    "def strange_function(n):\n",
    "    if(n % 2 == 0):\n",
    "        return True\n",
    "    \n",
    "print(strange_function(2))  # mengembalikan nilai True\n",
    "print(strange_function(1))  # secara default akan nge-return None "
   ]
  },
  {
   "cell_type": "markdown",
   "metadata": {},
   "source": [
    "### Effect and result: list and functions"
   ]
  },
  {
   "cell_type": "code",
   "execution_count": null,
   "metadata": {},
   "outputs": [],
   "source": [
    "def strange_list_fun(n):\n",
    "    strange_list = []\n",
    "    \n",
    "    for i in range(0, n):\n",
    "        strange_list.insert(0, i)\n",
    "        \n",
    "    return strange_list\n",
    "print(strange_list_fun(5))"
   ]
  },
  {
   "cell_type": "markdown",
   "metadata": {},
   "source": [
    "## Scope in Python\n",
    "### function and scopes"
   ]
  },
  {
   "cell_type": "code",
   "execution_count": null,
   "metadata": {},
   "outputs": [],
   "source": [
    "# Ini akan error karena tidak bisa mengakses di luar function\n",
    "def scope_test():\n",
    "    x = 123\n",
    "    \n",
    "scope_test()\n",
    "print(x)"
   ]
  },
  {
   "cell_type": "markdown",
   "metadata": {},
   "source": [
    "### Functions and scopes: continued"
   ]
  },
  {
   "cell_type": "code",
   "execution_count": null,
   "metadata": {},
   "outputs": [],
   "source": [
    "# Varibale yang diluar function bisa diakses ke dalam function\n",
    "# Sedangkan variable yang di dalam function tidak bisa di akses di luar function\n",
    "def my_function():\n",
    "    print(\"Do i know that varables: \", var)\n",
    "    \n",
    "var = 1\n",
    "my_function()\n",
    "print(var)"
   ]
  },
  {
   "cell_type": "code",
   "execution_count": null,
   "metadata": {},
   "outputs": [],
   "source": [
    "def my_function():\n",
    "    var = 2\n",
    "    print(\"Do i know that varables: \", var)  # Nilai var akan 2\n",
    "    \n",
    "var = 1\n",
    "my_function()\n",
    "print(var)      # nilai var tetap 1"
   ]
  },
  {
   "cell_type": "markdown",
   "metadata": {},
   "source": [
    "### Functions and scope: the global keyword"
   ]
  },
  {
   "cell_type": "code",
   "execution_count": null,
   "metadata": {},
   "outputs": [],
   "source": [
    "def my_function():\n",
    "    global var\n",
    "    var = 2\n",
    "    print(\"Do i know that varables: \", var)  # Nilai var akan 2\n",
    "    \n",
    "var = 1        # nilai var akan terganti menjadi 2\n",
    "my_function()\n",
    "print(var)     # nilai var akan terganti menjadi 2"
   ]
  },
  {
   "cell_type": "code",
   "execution_count": null,
   "metadata": {},
   "outputs": [],
   "source": [
    "# Cara lain\n",
    "def my_function():\n",
    "    #global var\n",
    "    #var = 2\n",
    "    print(\"Do i know that varables: \", var)  # Nilai var akan 2\n",
    "    return 2\n",
    "var = 1        # nilai var akan terganti menjadi 2\n",
    "var = my_function()\n",
    "print(var)     # nilai var akan terganti menjadi 2"
   ]
  },
  {
   "cell_type": "markdown",
   "metadata": {},
   "source": [
    "### How the function interacts with its arguments"
   ]
  },
  {
   "cell_type": "code",
   "execution_count": null,
   "metadata": {},
   "outputs": [],
   "source": [
    "def my_function(n):\n",
    "    print(\"i got\", n)\n",
    "    n += 1\n",
    "    print(\"i have\", n)\n",
    "\n",
    "var = 1\n",
    "my_function(var)\n",
    "print(var)"
   ]
  },
  {
   "cell_type": "markdown",
   "metadata": {},
   "source": [
    "##### 1. Variable dari luar function, bisa diakses di dalam function. Kecuali, ketika di dalam function di declare variable baru dengan nama yang sama\n",
    "##### 2. Varibale dari dalam function, hanya bisa diakses  di dalam function. Kecuali, dengan keyword global"
   ]
  },
  {
   "cell_type": "markdown",
   "metadata": {},
   "source": [
    "#### Some simple Functions"
   ]
  },
  {
   "cell_type": "code",
   "execution_count": 7,
   "metadata": {},
   "outputs": [
    {
     "data": {
      "text/plain": [
       "19.283746556473833"
      ]
     },
     "execution_count": 7,
     "metadata": {},
     "output_type": "execute_result"
    }
   ],
   "source": [
    "def bmi(weight, height):\n",
    "    # bisa juga seperti ini\n",
    "    #bmi_value = weight / height ** 2\n",
    "    #return bmi_value\n",
    "    return weight / height ** 2\n",
    "\n",
    "bmi(52.5, 1.65) "
   ]
  },
  {
   "cell_type": "markdown",
   "metadata": {},
   "source": [
    "#### some sinple functions: evaluating BMI and converting imperial units to metric units"
   ]
  },
  {
   "cell_type": "code",
   "execution_count": 11,
   "metadata": {},
   "outputs": [
    {
     "name": "stdout",
     "output_type": "stream",
     "text": [
      "27.565214082533313\n"
     ]
    }
   ],
   "source": [
    "def ft_and_inch_to_m(ft, inch = 0.0):\n",
    "    return ft * 0.3048 + inch * 0.0254\n",
    "\n",
    "def lb_to_kg(lb):\n",
    "    return lb * 0.45359237\n",
    "\n",
    "def bmi(weight, height):\n",
    "    # Protection\n",
    "    if height < 1.0 or height > 2.5 or \\\n",
    "    weight < 20 or weight > 200:\n",
    "        return None\n",
    "    # \n",
    "    return weight / height ** 2\n",
    "\n",
    "print(bmi(weight = lb_to_kg(176), height = ft_and_inch_to_m(5, 7)))\n",
    "        "
   ]
  },
  {
   "cell_type": "markdown",
   "metadata": {},
   "source": [
    "#### some simple functions: factorials"
   ]
  },
  {
   "cell_type": "code",
   "execution_count": 19,
   "metadata": {},
   "outputs": [
    {
     "name": "stdout",
     "output_type": "stream",
     "text": [
      "1 1\n",
      "2 2\n",
      "3 6\n",
      "4 24\n",
      "5 120\n"
     ]
    }
   ],
   "source": [
    "def factorial_function(n):\n",
    "    # Ketika n < 0 maka selesai, tidak ada jawabannya\n",
    "    if n < 0:\n",
    "        return None\n",
    "    \n",
    "    # Kalau 0 dan 1, hasilnya fix 1\n",
    "    if n < 2:\n",
    "        return 1\n",
    "    \n",
    "    fact = 1\n",
    "    for i in range(2, n + 1):\n",
    "        fact *= i\n",
    "    return fact\n",
    "\n",
    "for n in range(1, 6):  # testing\n",
    "    print(n, factorial_function(n))\n",
    "    "
   ]
  },
  {
   "cell_type": "code",
   "execution_count": 18,
   "metadata": {},
   "outputs": [
    {
     "name": "stdout",
     "output_type": "stream",
     "text": [
      "1 1\n",
      "2 2\n",
      "3 6\n",
      "4 24\n",
      "5 120\n"
     ]
    }
   ],
   "source": [
    "def factorial_function(n):\n",
    "    if n < 0:\n",
    "        return None\n",
    "    if n < 2:\n",
    "        return 1\n",
    "    \n",
    "    product = 1\n",
    "    for i in range(2, n + 1):\n",
    "        product *= i\n",
    "    return product\n",
    "\n",
    "\n",
    "for n in range(1, 6):  # testing\n",
    "    print(n, factorial_function(n))\n",
    "\n"
   ]
  },
  {
   "cell_type": "markdown",
   "metadata": {},
   "source": [
    "#### some simple functions: Fibonacci numbers"
   ]
  },
  {
   "cell_type": "code",
   "execution_count": 1,
   "metadata": {},
   "outputs": [
    {
     "name": "stdout",
     "output_type": "stream",
     "text": [
      "1 -> 1\n",
      "2 -> 1\n",
      "3 -> 2\n",
      "4 -> 3\n",
      "5 -> 5\n",
      "6 -> 8\n",
      "7 -> 13\n",
      "8 -> 21\n",
      "9 -> 34\n"
     ]
    }
   ],
   "source": [
    "def fib(n):\n",
    "    if n < 1:\n",
    "        return None\n",
    "    if n < 3:\n",
    "        return 1\n",
    "    \n",
    "    elem_1 = elem_2 = 1\n",
    "    the_sum = 0\n",
    "    for i in range(3, n + 1):\n",
    "        the_sum = elem_1 + elem_2\n",
    "        elem_1, elem_2 = elem_2, the_sum\n",
    "    return the_sum\n",
    "\n",
    "for n in range(1, 10):\n",
    "    print(n, \"->\", fib(n))"
   ]
  },
  {
   "cell_type": "markdown",
   "metadata": {},
   "source": [
    "#### Some simple functions: recursion "
   ]
  },
  {
   "cell_type": "code",
   "execution_count": 7,
   "metadata": {},
   "outputs": [
    {
     "name": "stdout",
     "output_type": "stream",
     "text": [
      "1 -> 1\n",
      "2 -> 1\n",
      "3 -> 2\n",
      "4 -> 3\n",
      "5 -> 5\n",
      "6 -> 8\n",
      "7 -> 13\n",
      "8 -> 21\n",
      "9 -> 34\n"
     ]
    }
   ],
   "source": [
    "def fib(n):\n",
    "    if n < 1:\n",
    "        return None\n",
    "    if n < 3:\n",
    "        return 1\n",
    "    # Cara biasa fibonacci\n",
    "    #elem_1 = elem_2 = 1\n",
    "    #the_sum = 0\n",
    "    #for i in range(3, n + 1):\n",
    "    #    the_sum = elem_1 + elem_2\n",
    "    #   elem_1, elem_2 = elem_2, the_sum\n",
    "    #return the_sum\n",
    "    \n",
    "    \n",
    "    # rekursi\n",
    "    return fib(n - 1) + fib(n - 2)\n",
    "\n",
    "for n in range(1, 10):\n",
    "    print(n, \"->\", fib(n))"
   ]
  },
  {
   "cell_type": "markdown",
   "metadata": {},
   "source": [
    "## Tuples and dictionaries"
   ]
  },
  {
   "cell_type": "markdown",
   "metadata": {},
   "source": [
    "##### Tuple"
   ]
  },
  {
   "cell_type": "code",
   "execution_count": null,
   "metadata": {},
   "outputs": [],
   "source": [
    "my_tuple = (1, 10, 100, 1000)\n",
    "\n",
    "print(my_tuple[0])\n",
    "print(my_tuple[-1])\n",
    "print(my_tuple[1:])\n",
    "print(my_tuple[:-2])\n",
    "\n",
    "for elem in my_tuple:\n",
    "    print(elem)"
   ]
  },
  {
   "cell_type": "code",
   "execution_count": null,
   "metadata": {},
   "outputs": [],
   "source": [
    "my_tuple = (1, 10, 100, 1000)\n",
    "\n",
    "#Ini akan error karena tupple sifatnya imutable atau tidak bisa di modifikasi, berbeda dengan list yang siftanya mutable artinya bisa di modifikasi\n",
    "my_tuple.append(100000)\n",
    "del my_tuple[0]\n",
    "my_tuple[1] = -10"
   ]
  },
  {
   "cell_type": "markdown",
   "metadata": {},
   "source": [
    "#### How to use a tuple: continued"
   ]
  },
  {
   "cell_type": "code",
   "execution_count": null,
   "metadata": {},
   "outputs": [],
   "source": [
    "my_tuple = (1, 10, 100)\n",
    "\n",
    "t1 = my_tuple + (1000, 100000)\n",
    "t2 = my_tuple * 3\n",
    "\n",
    "print(len(t1))\n",
    "print(t1)\n",
    "print(t2)\n",
    "print(10 in my_tuple)\n",
    "print(-10 not in my_tuple)"
   ]
  },
  {
   "cell_type": "markdown",
   "metadata": {},
   "source": [
    "##### Dictionaries"
   ]
  },
  {
   "cell_type": "code",
   "execution_count": null,
   "metadata": {},
   "outputs": [],
   "source": [
    "dictionary = {\"cat\": \"chat\", \"dog\":\"chien\", \"horse\":\"cheval\"}\n",
    "phone_numbers = {'boas': 858587998, 'suzy':96968678587}\n",
    "empty_dictionary ={}\n",
    "\n",
    "print(dictionary)\n",
    "print(phone_numbers)\n",
    "print(empty_dictionary)\n"
   ]
  },
  {
   "cell_type": "code",
   "execution_count": null,
   "metadata": {},
   "outputs": [],
   "source": [
    "dictionary = {\"cat\": \"chat\", \"dog\":\"chien\", \"horse\":\"cheval\"}\n",
    "phone_numbers = {'boas': 858587998, 'suzy':96968678587}\n",
    "empty_dictionary ={}\n",
    "\n",
    "print(dictionary['cat'])\n",
    "print(phone_numbers['boas'])\n"
   ]
  },
  {
   "cell_type": "markdown",
   "metadata": {},
   "source": [
    "#### How to use a dictionary: the keys()"
   ]
  },
  {
   "cell_type": "code",
   "execution_count": null,
   "metadata": {},
   "outputs": [],
   "source": [
    "dictionary = {\"dog\":\"chien\",\"cat\":\"chat\", \"horse\":\"cheval\"}\n",
    "for key in dictionary.keys():\n",
    "    print(key, \"->\", dictionary[key])"
   ]
  },
  {
   "cell_type": "markdown",
   "metadata": {},
   "source": [
    "#### the sorted() function"
   ]
  },
  {
   "cell_type": "code",
   "execution_count": null,
   "metadata": {},
   "outputs": [],
   "source": [
    "dictionary = {\"dog\":\"chien\", \"cat\":\"chat\",\"horse\":\"cheval\"}\n",
    "for key in sorted(dictionary.keys()):\n",
    "    print(key, \"->\", dictionary[key])"
   ]
  },
  {
   "cell_type": "markdown",
   "metadata": {},
   "source": [
    "#### The items() and value() methods"
   ]
  },
  {
   "cell_type": "code",
   "execution_count": null,
   "metadata": {},
   "outputs": [],
   "source": [
    "dictionary = {\"cat\":\"chat\", \"dog\":\"chien\", \"horse\":\"cheval\"}\n",
    "for english, french in dictionary.items():\n",
    "    print(english, \"->\", french)\n",
    "    \n",
    "for i in dictionary.values():\n",
    "    print(i)"
   ]
  },
  {
   "cell_type": "code",
   "execution_count": null,
   "metadata": {},
   "outputs": [],
   "source": [
    "dictionary = {\"cat\": \"chat\", \"dog\": \"chien\", \"horse\": \"cheval\"}\n",
    "\n",
    "for english, french in dictionary.items():\n",
    "    print(english, \":\", french)\n",
    "    \n",
    "for i in dictionary.values():\n",
    "    print(i)\n"
   ]
  },
  {
   "cell_type": "markdown",
   "metadata": {},
   "source": [
    "#"
   ]
  }
 ],
 "metadata": {
  "interpreter": {
   "hash": "aa45304f70ae8036a3612989fe56b812936e25471e0e2293779c048f0363d872"
  },
  "kernelspec": {
   "display_name": "Python 3.9.7 ('base')",
   "language": "python",
   "name": "python3"
  },
  "language_info": {
   "codemirror_mode": {
    "name": "ipython",
    "version": 3
   },
   "file_extension": ".py",
   "mimetype": "text/x-python",
   "name": "python",
   "nbconvert_exporter": "python",
   "pygments_lexer": "ipython3",
   "version": "3.9.7"
  },
  "orig_nbformat": 4
 },
 "nbformat": 4,
 "nbformat_minor": 2
}
