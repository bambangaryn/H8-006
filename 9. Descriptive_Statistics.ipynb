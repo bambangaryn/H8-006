{
  "cells": [
    {
      "cell_type": "markdown",
      "metadata": {
        "id": "a0WN9cnRZvmn"
      },
      "source": [
        "\n",
        "# Measures of Central Tendency\n",
        "Measures of central tendency menunjukkan nilai tengah atau pusat dari kumpulan data. Ada beberapa definisi tentang apa yang dianggap sebagai pusat kumpulan data. Dalam sesi ini, kita akan mempelajari cara mengidentifikasi dan menghitung measures of central tendency berupa:\n",
        "\n",
        "* Mean\n",
        "* Weighted mean\n",
        "* Geometric mean\n",
        "* Harmonic mean\n",
        "* Median\n",
        "* Mode"
      ]
    },
    {
      "cell_type": "markdown",
      "metadata": {
        "id": "sqr5UYeUvheR"
      },
      "source": [
        "# Mean\n"
      ]
    },
    {
      "cell_type": "code",
      "execution_count": null,
      "metadata": {
        "id": "T9GVfWoIw1mf"
      },
      "outputs": [],
      "source": [
        "x = [8.0, 1, 2.5, 4, 28.0]\n",
        "x_with_nan = [8.0, 1, 2.5, math.nan, 4, 28.0]\n"
      ]
    },
    {
      "cell_type": "code",
      "execution_count": null,
      "metadata": {
        "colab": {
          "base_uri": "https://localhost:8080/"
        },
        "id": "MOWlAC19aFq1",
        "outputId": "1f089ada-11ef-45d5-b283-a55d74f46ad0"
      },
      "outputs": [
        {
          "data": {
            "text/plain": [
              "8.7"
            ]
          },
          "execution_count": 8,
          "metadata": {},
          "output_type": "execute_result"
        }
      ],
      "source": [
        "mean_ = sum(x) / len(x)\n",
        "mean_"
      ]
    },
    {
      "cell_type": "code",
      "execution_count": null,
      "metadata": {
        "colab": {
          "base_uri": "https://localhost:8080/"
        },
        "id": "ZyH17G8kaMSI",
        "outputId": "1269be67-369f-4439-b1bd-3e76ed092df5"
      },
      "outputs": [
        {
          "name": "stdout",
          "output_type": "stream",
          "text": [
            "8.7\n"
          ]
        }
      ],
      "source": [
        "mean_ = statistics.mean(x)\n",
        "print(mean_)\n"
      ]
    },
    {
      "cell_type": "code",
      "execution_count": null,
      "metadata": {
        "colab": {
          "base_uri": "https://localhost:8080/"
        },
        "id": "nkd0AVdRaPlJ",
        "outputId": "00944bd3-8353-461b-c217-605634143824"
      },
      "outputs": [
        {
          "name": "stdout",
          "output_type": "stream",
          "text": [
            "nan\n"
          ]
        }
      ],
      "source": [
        "mean_ = statistics.mean(x_with_nan)\n",
        "print(mean_)"
      ]
    },
    {
      "cell_type": "code",
      "execution_count": null,
      "metadata": {
        "colab": {
          "base_uri": "https://localhost:8080/"
        },
        "id": "PIGftkA4aSTH",
        "outputId": "35a44651-585f-47f5-bd4d-8a1bf225fb9a"
      },
      "outputs": [
        {
          "data": {
            "text/plain": [
              "8.7"
            ]
          },
          "execution_count": 11,
          "metadata": {},
          "output_type": "execute_result"
        }
      ],
      "source": [
        "mean_ = np.mean(y)\n",
        "mean_"
      ]
    },
    {
      "cell_type": "code",
      "execution_count": null,
      "metadata": {
        "colab": {
          "base_uri": "https://localhost:8080/"
        },
        "id": "kic0jlgDaWRw",
        "outputId": "c09a4577-c15b-4b95-a744-5f20005b71f2"
      },
      "outputs": [
        {
          "data": {
            "text/plain": [
              "8.7"
            ]
          },
          "execution_count": 25,
          "metadata": {},
          "output_type": "execute_result"
        }
      ],
      "source": [
        "mean_ = y.mean()\n",
        "mean_"
      ]
    },
    {
      "cell_type": "code",
      "execution_count": null,
      "metadata": {
        "colab": {
          "base_uri": "https://localhost:8080/"
        },
        "id": "9xgyNiftabOH",
        "outputId": "c79ea2dc-2efb-4887-9a18-da8d5741dd37"
      },
      "outputs": [
        {
          "name": "stdout",
          "output_type": "stream",
          "text": [
            "nan\n",
            "nan\n"
          ]
        }
      ],
      "source": [
        "print(np.mean(y_with_nan))\n",
        "print(y_with_nan.mean())"
      ]
    },
    {
      "cell_type": "code",
      "execution_count": null,
      "metadata": {
        "colab": {
          "base_uri": "https://localhost:8080/"
        },
        "id": "yeNjRTF9aeuh",
        "outputId": "7e6d7086-f84e-4815-cad0-41c70255d64e"
      },
      "outputs": [
        {
          "data": {
            "text/plain": [
              "8.7"
            ]
          },
          "execution_count": 12,
          "metadata": {},
          "output_type": "execute_result"
        }
      ],
      "source": [
        "np.nanmean(y_with_nan)\n"
      ]
    },
    {
      "cell_type": "code",
      "execution_count": null,
      "metadata": {
        "colab": {
          "base_uri": "https://localhost:8080/"
        },
        "id": "clVkeAjkaija",
        "outputId": "71f22933-ddf0-4459-9d85-8679c4b13843"
      },
      "outputs": [
        {
          "data": {
            "text/plain": [
              "8.7"
            ]
          },
          "execution_count": 13,
          "metadata": {},
          "output_type": "execute_result"
        }
      ],
      "source": [
        "mean_ = z.mean()\n",
        "mean_"
      ]
    },
    {
      "cell_type": "markdown",
      "metadata": {
        "id": "UlwYpymFakYy"
      },
      "source": [
        "Seperti yang kalian lihat, .mean() digunakan dengan cara yang sama seperti dalam kasus NumPy. Namun, .mean() dari Pandas mengabaikan nilai nan secara default:\n",
        "\n"
      ]
    },
    {
      "cell_type": "code",
      "execution_count": null,
      "metadata": {
        "id": "r_kGAI3XyEPc"
      },
      "outputs": [],
      "source": [
        "z, z_with_nan = pd.Series(x), pd.Series(x_with_nan)"
      ]
    },
    {
      "cell_type": "code",
      "execution_count": null,
      "metadata": {
        "colab": {
          "base_uri": "https://localhost:8080/"
        },
        "id": "Kj4ICRmyalDS",
        "outputId": "f3936a18-ddca-4e1d-f4e4-2ef10d169d48"
      },
      "outputs": [
        {
          "data": {
            "text/plain": [
              "8.7"
            ]
          },
          "execution_count": 15,
          "metadata": {},
          "output_type": "execute_result"
        }
      ],
      "source": [
        "z_with_nan.mean()\n"
      ]
    },
    {
      "cell_type": "markdown",
      "metadata": {
        "id": "LFmXQPexamiB"
      },
      "source": [
        "\n",
        "\n",
        "# Weighted Mean\n"
      ]
    },
    {
      "cell_type": "code",
      "execution_count": null,
      "metadata": {
        "colab": {
          "base_uri": "https://localhost:8080/"
        },
        "id": "Hp33RPb9asA7",
        "outputId": "bb5b5ac2-1ef4-4e4c-b429-71268a4c6b47"
      },
      "outputs": [
        {
          "data": {
            "text/plain": [
              "4.8"
            ]
          },
          "execution_count": 17,
          "metadata": {},
          "output_type": "execute_result"
        }
      ],
      "source": [
        "0.2 * 2 + 0.5 * 4 + 0.3 * 8\n"
      ]
    },
    {
      "cell_type": "code",
      "execution_count": null,
      "metadata": {
        "colab": {
          "base_uri": "https://localhost:8080/"
        },
        "id": "3oF-WA8EauJ8",
        "outputId": "c8de3d7a-f858-4a77-ea3a-53a6668a76b8"
      },
      "outputs": [
        {
          "name": "stdout",
          "output_type": "stream",
          "text": [
            "6.95\n"
          ]
        }
      ],
      "source": [
        "x = [8.0, 1, 2.5, 4, 28.0]\n",
        "w = [0.1, 0.2, 0.3, 0.25, 0.15]\n",
        "\n",
        "wmean = sum(w[i] * x[i] for i in range(len(x))) / sum(w)\n",
        "print(wmean)\n",
        "\n"
      ]
    },
    {
      "cell_type": "code",
      "execution_count": null,
      "metadata": {
        "colab": {
          "base_uri": "https://localhost:8080/"
        },
        "id": "YTYemV7Sz-vD",
        "outputId": "6100a558-21c6-4a7a-9fac-f0592e74f6eb"
      },
      "outputs": [
        {
          "name": "stdout",
          "output_type": "stream",
          "text": [
            "6.95\n"
          ]
        }
      ],
      "source": [
        "wmean = sum(x_ * w_ for (x_, w_) in zip(x, w)) / sum(w)\n",
        "print(wmean)"
      ]
    },
    {
      "cell_type": "code",
      "execution_count": null,
      "metadata": {
        "colab": {
          "base_uri": "https://localhost:8080/"
        },
        "id": "EHc6FlR5a2np",
        "outputId": "e5c6cbaa-749b-4d53-8852-9106726f77a1"
      },
      "outputs": [
        {
          "name": "stdout",
          "output_type": "stream",
          "text": [
            "6.95\n",
            "6.95\n"
          ]
        }
      ],
      "source": [
        "y, z, w = np.array(x), pd.Series(x), np.array(w)\n",
        "\n",
        "wmean = np.average(y, weights=w)\n",
        "print(wmean)\n",
        "\n",
        "wmean = np.average(z, weights=w)\n",
        "print(wmean)"
      ]
    },
    {
      "cell_type": "code",
      "execution_count": null,
      "metadata": {
        "colab": {
          "base_uri": "https://localhost:8080/"
        },
        "id": "Oq-ZTR1ca5-3",
        "outputId": "6b1ade93-073d-46cd-951b-2894bd856d63"
      },
      "outputs": [
        {
          "data": {
            "text/plain": [
              "6.95"
            ]
          },
          "execution_count": 22,
          "metadata": {},
          "output_type": "execute_result"
        }
      ],
      "source": [
        "(w * y).sum() / w.sum()\n"
      ]
    },
    {
      "cell_type": "markdown",
      "metadata": {
        "id": "M1b-DUTfa9GN"
      },
      "source": [
        "## Harmonic Mean\n",
        "\n"
      ]
    },
    {
      "cell_type": "code",
      "execution_count": null,
      "metadata": {
        "colab": {
          "base_uri": "https://localhost:8080/"
        },
        "id": "l_QXxrb_a8d3",
        "outputId": "06d83e4f-2a00-46ea-c327-db8851b9557f"
      },
      "outputs": [
        {
          "data": {
            "text/plain": [
              "2.7613412228796843"
            ]
          },
          "execution_count": 23,
          "metadata": {},
          "output_type": "execute_result"
        }
      ],
      "source": [
        "hmean = len(x) / sum(1 / item for item in x)\n",
        "hmean"
      ]
    },
    {
      "cell_type": "code",
      "execution_count": null,
      "metadata": {
        "colab": {
          "base_uri": "https://localhost:8080/"
        },
        "id": "XCHUmbqPbCbH",
        "outputId": "e3e72dee-2604-493c-8d1a-a7aab657e5e9"
      },
      "outputs": [
        {
          "data": {
            "text/plain": [
              "2.7613412228796843"
            ]
          },
          "execution_count": 24,
          "metadata": {},
          "output_type": "execute_result"
        }
      ],
      "source": [
        "hmean = statistics.harmonic_mean(x)\n",
        "hmean"
      ]
    },
    {
      "cell_type": "code",
      "execution_count": null,
      "metadata": {
        "colab": {
          "base_uri": "https://localhost:8080/"
        },
        "id": "_Lhw8WEcbFGZ",
        "outputId": "01edb07d-8c79-4b93-acc6-b254bcf2b906"
      },
      "outputs": [
        {
          "data": {
            "text/plain": [
              "2.7613412228796843"
            ]
          },
          "execution_count": 25,
          "metadata": {},
          "output_type": "execute_result"
        }
      ],
      "source": [
        "scipy.stats.hmean(y)\n"
      ]
    },
    {
      "cell_type": "code",
      "execution_count": null,
      "metadata": {
        "colab": {
          "base_uri": "https://localhost:8080/"
        },
        "id": "1wZF-r4kbFkt",
        "outputId": "83a466aa-7bd3-428b-f7c6-a16ecf69ce99"
      },
      "outputs": [
        {
          "data": {
            "text/plain": [
              "2.7613412228796843"
            ]
          },
          "execution_count": 26,
          "metadata": {},
          "output_type": "execute_result"
        }
      ],
      "source": [
        "scipy.stats.hmean(z)\n"
      ]
    },
    {
      "cell_type": "markdown",
      "metadata": {
        "id": "RGPZAfutbKf9"
      },
      "source": [
        "# Geometric Mean\n"
      ]
    },
    {
      "cell_type": "code",
      "execution_count": null,
      "metadata": {
        "id": "58I7vj8A3Odn"
      },
      "outputs": [],
      "source": [
        "x = [8.0, 1, 2.5, 4, 28.0]"
      ]
    },
    {
      "cell_type": "code",
      "execution_count": null,
      "metadata": {
        "colab": {
          "base_uri": "https://localhost:8080/"
        },
        "id": "dMMyiOB0bYAY",
        "outputId": "cbccced2-ef7b-4b91-a4d2-fae2be6b28f0"
      },
      "outputs": [
        {
          "data": {
            "text/plain": [
              "4.677885674856041"
            ]
          },
          "execution_count": 27,
          "metadata": {},
          "output_type": "execute_result"
        }
      ],
      "source": [
        "gmean = 1\n",
        "\n",
        "for item in x:\n",
        "    gmean *= item\n",
        "\n",
        "gmean **= 1 / len(x)\n",
        "gmean"
      ]
    },
    {
      "cell_type": "code",
      "execution_count": null,
      "metadata": {
        "colab": {
          "base_uri": "https://localhost:8080/"
        },
        "id": "nLyB904Pbalv",
        "outputId": "674848d8-4ca7-48ae-c895-38bcf47f067e"
      },
      "outputs": [
        {
          "data": {
            "text/plain": [
              "4.67788567485604"
            ]
          },
          "execution_count": 39,
          "metadata": {},
          "output_type": "execute_result"
        }
      ],
      "source": [
        "scipy.stats.gmean(y)\n"
      ]
    },
    {
      "cell_type": "code",
      "execution_count": null,
      "metadata": {
        "colab": {
          "base_uri": "https://localhost:8080/"
        },
        "id": "YAXnbpxibbrH",
        "outputId": "423193f9-606f-41cc-da28-1bc315b109e5"
      },
      "outputs": [
        {
          "data": {
            "text/plain": [
              "4.67788567485604"
            ]
          },
          "execution_count": 28,
          "metadata": {},
          "output_type": "execute_result"
        }
      ],
      "source": [
        "scipy.stats.gmean(z)\n"
      ]
    },
    {
      "cell_type": "markdown",
      "metadata": {
        "id": "_p-rv15abfe5"
      },
      "source": [
        "# Median\n",
        "\n",
        "\n"
      ]
    },
    {
      "cell_type": "code",
      "execution_count": null,
      "metadata": {
        "colab": {
          "base_uri": "https://localhost:8080/"
        },
        "id": "8jfYyAFlbdVR",
        "outputId": "1f581078-2ed0-4eac-e2e9-c71a40ec2adf"
      },
      "outputs": [
        {
          "data": {
            "text/plain": [
              "4"
            ]
          },
          "execution_count": 29,
          "metadata": {},
          "output_type": "execute_result"
        }
      ],
      "source": [
        "n = len(x)\n",
        "if n % 2:\n",
        "    median_ = sorted(x)[round(0.5*(n-1))]\n",
        "else:\n",
        "    x_ord, index = sorted(x), round(0.5 * n)\n",
        "    median_ = 0.5 * (x_ord[index-1] + x_ord[index])\n",
        "\n",
        "median_"
      ]
    },
    {
      "cell_type": "code",
      "execution_count": null,
      "metadata": {
        "colab": {
          "base_uri": "https://localhost:8080/"
        },
        "id": "2YOap8ZAb1is",
        "outputId": "ba0d9ff7-a242-4de3-de9a-b64b7acebcec"
      },
      "outputs": [
        {
          "data": {
            "text/plain": [
              "[8.0, 1, 2.5, 4, 28.0]"
            ]
          },
          "execution_count": 30,
          "metadata": {},
          "output_type": "execute_result"
        }
      ],
      "source": [
        "x"
      ]
    },
    {
      "cell_type": "code",
      "execution_count": null,
      "metadata": {
        "colab": {
          "base_uri": "https://localhost:8080/"
        },
        "id": "3njtvlB0b4IO",
        "outputId": "4a4ac4bd-2723-46ec-8679-a032e5666da3"
      },
      "outputs": [
        {
          "data": {
            "text/plain": [
              "2.5"
            ]
          },
          "execution_count": 31,
          "metadata": {},
          "output_type": "execute_result"
        }
      ],
      "source": [
        "statistics.median_low(x[:-1])\n"
      ]
    },
    {
      "cell_type": "code",
      "execution_count": null,
      "metadata": {
        "colab": {
          "base_uri": "https://localhost:8080/"
        },
        "id": "45R29zWnb30F",
        "outputId": "888434be-a9e8-4fdd-80b1-79ef11b727b3"
      },
      "outputs": [
        {
          "data": {
            "text/plain": [
              "4"
            ]
          },
          "execution_count": 32,
          "metadata": {},
          "output_type": "execute_result"
        }
      ],
      "source": [
        "statistics.median_high(x[:-1])\n"
      ]
    },
    {
      "cell_type": "code",
      "execution_count": null,
      "metadata": {
        "colab": {
          "base_uri": "https://localhost:8080/"
        },
        "id": "3hmsqs4Sb9Wt",
        "outputId": "9e9eacf9-6a77-42f1-fee8-2668c344b883"
      },
      "outputs": [
        {
          "name": "stdout",
          "output_type": "stream",
          "text": [
            "6.0\n",
            "4\n",
            "8.0\n"
          ]
        }
      ],
      "source": [
        "print(statistics.median(x_with_nan))\n",
        "print(statistics.median_low(x_with_nan))\n",
        "print(statistics.median_high(x_with_nan))"
      ]
    },
    {
      "cell_type": "code",
      "execution_count": null,
      "metadata": {
        "colab": {
          "base_uri": "https://localhost:8080/"
        },
        "id": "j3usVeHTcAva",
        "outputId": "f20e7c43-fe52-465d-f999-e92dcf3dce66"
      },
      "outputs": [
        {
          "name": "stdout",
          "output_type": "stream",
          "text": [
            "4.0\n"
          ]
        }
      ],
      "source": [
        "median_ = np.median(y)\n",
        "print(median_)\n"
      ]
    },
    {
      "cell_type": "code",
      "execution_count": null,
      "metadata": {
        "colab": {
          "base_uri": "https://localhost:8080/"
        },
        "id": "Bds63CJ0cDpp",
        "outputId": "dd9b0c75-b0c1-4e6d-a912-14ac1bcb335d"
      },
      "outputs": [
        {
          "name": "stdout",
          "output_type": "stream",
          "text": [
            "3.25\n"
          ]
        }
      ],
      "source": [
        "median_ = np.median(y[:-1])\n",
        "print(median_)"
      ]
    },
    {
      "cell_type": "markdown",
      "metadata": {
        "id": "JttSTLjhcIgB"
      },
      "source": [
        "# Mode\n"
      ]
    },
    {
      "cell_type": "code",
      "execution_count": null,
      "metadata": {
        "colab": {
          "base_uri": "https://localhost:8080/"
        },
        "id": "nbQfD120cLsf",
        "outputId": "d8bb35e3-635f-4941-9d2d-83b4346695d6"
      },
      "outputs": [
        {
          "data": {
            "text/plain": [
              "2"
            ]
          },
          "execution_count": 36,
          "metadata": {},
          "output_type": "execute_result"
        }
      ],
      "source": [
        "u = [2, 3, 2, 8, 12]\n",
        "\n",
        "v = [12, 15, 12, 15, 21, 15, 12]\n",
        "\n",
        "mode_ = max((u.count(item), item) for item in set(u))[1]\n",
        "mode_\n",
        "# Kita bisa mendapatkan mode dengan statistics.mode()\n",
        "\n"
      ]
    },
    {
      "cell_type": "code",
      "execution_count": null,
      "metadata": {
        "colab": {
          "base_uri": "https://localhost:8080/"
        },
        "id": "8PiU7HYhcPh7",
        "outputId": "3dda9280-a704-4463-c9e7-31f35d0a1e47"
      },
      "outputs": [
        {
          "data": {
            "text/plain": [
              "2"
            ]
          },
          "execution_count": 37,
          "metadata": {},
          "output_type": "execute_result"
        }
      ],
      "source": [
        "mode_ = statistics.mode(u)\n",
        "mode_\n",
        "# Kita juga bisa mendapatkan mode dengan scipy.stats.mode():\n",
        "\n"
      ]
    },
    {
      "cell_type": "code",
      "execution_count": null,
      "metadata": {
        "colab": {
          "base_uri": "https://localhost:8080/"
        },
        "id": "uesjTKSVcUC2",
        "outputId": "ae8e4487-ed5f-4f8d-e596-be20ffa23986"
      },
      "outputs": [
        {
          "data": {
            "text/plain": [
              "ModeResult(mode=array([2]), count=array([2]))"
            ]
          },
          "execution_count": 38,
          "metadata": {},
          "output_type": "execute_result"
        }
      ],
      "source": [
        "u, v = np.array(u), np.array(v)\n",
        "\n",
        "mode_ = scipy.stats.mode(u)\n",
        "mode_\n"
      ]
    },
    {
      "cell_type": "code",
      "execution_count": null,
      "metadata": {
        "colab": {
          "base_uri": "https://localhost:8080/"
        },
        "id": "3C8WzrjecXGr",
        "outputId": "d388282f-58a4-4ab7-99c7-36dcaa13099c"
      },
      "outputs": [
        {
          "data": {
            "text/plain": [
              "ModeResult(mode=array([12]), count=array([3]))"
            ]
          },
          "execution_count": 39,
          "metadata": {},
          "output_type": "execute_result"
        }
      ],
      "source": [
        "mode_ = scipy.stats.mode(v)\n",
        "mode_\n"
      ]
    },
    {
      "cell_type": "code",
      "execution_count": null,
      "metadata": {
        "colab": {
          "base_uri": "https://localhost:8080/"
        },
        "id": "FSLs6BrLcdhP",
        "outputId": "c7209007-1c5b-472c-d21a-fa9ddc37e17d"
      },
      "outputs": [
        {
          "name": "stdout",
          "output_type": "stream",
          "text": [
            "[12]\n",
            "[3]\n"
          ]
        }
      ],
      "source": [
        "print(mode_.mode)\n",
        "print(mode_.count)\n"
      ]
    },
    {
      "cell_type": "code",
      "execution_count": null,
      "metadata": {
        "colab": {
          "base_uri": "https://localhost:8080/"
        },
        "id": "JhmRZxC9ciqw",
        "outputId": "71fc1359-d713-45db-8eb3-584246d93381"
      },
      "outputs": [
        {
          "name": "stdout",
          "output_type": "stream",
          "text": [
            "0    2\n",
            "dtype: int64\n",
            "0    12\n",
            "1    15\n",
            "dtype: int64\n",
            "0    2.0\n",
            "dtype: float64\n"
          ]
        }
      ],
      "source": [
        "u, v, w = pd.Series(u), pd.Series(v), pd.Series([2, 2, math.nan])\n",
        "\n",
        "print(u.mode())\n",
        "\n",
        "print(v.mode())\n",
        "\n",
        "print(w.mode())"
      ]
    },
    {
      "cell_type": "markdown",
      "metadata": {
        "id": "L6St4FEoclLN"
      },
      "source": [
        "\n",
        "\n",
        "# Variance\n"
      ]
    },
    {
      "cell_type": "code",
      "execution_count": null,
      "metadata": {
        "colab": {
          "base_uri": "https://localhost:8080/"
        },
        "id": "uBXDo4GjcqX6",
        "outputId": "4920c34f-87a6-46ae-c93c-5c308713e83f"
      },
      "outputs": [
        {
          "data": {
            "text/plain": [
              "123.19999999999999"
            ]
          },
          "execution_count": 42,
          "metadata": {},
          "output_type": "execute_result"
        }
      ],
      "source": [
        "n = len(x)\n",
        "\n",
        "mean_ = sum(x) / n\n",
        "\n",
        "var_ = sum((item - mean_)**2 for item in x) / (n - 1)\n",
        "var_\n"
      ]
    },
    {
      "cell_type": "code",
      "execution_count": null,
      "metadata": {
        "colab": {
          "base_uri": "https://localhost:8080/"
        },
        "id": "REuE_PvGctkO",
        "outputId": "5f3f16da-8d8f-4f04-973f-4439b01e74ca"
      },
      "outputs": [
        {
          "data": {
            "text/plain": [
              "123.2"
            ]
          },
          "execution_count": 43,
          "metadata": {},
          "output_type": "execute_result"
        }
      ],
      "source": [
        "var_ = statistics.variance(x)\n",
        "var_"
      ]
    },
    {
      "cell_type": "code",
      "execution_count": null,
      "metadata": {
        "colab": {
          "base_uri": "https://localhost:8080/"
        },
        "id": "XzId91m0cxXv",
        "outputId": "adfadf86-afde-47e9-87c8-33f1c57a32a0"
      },
      "outputs": [
        {
          "data": {
            "text/plain": [
              "123.19999999999999"
            ]
          },
          "execution_count": 57,
          "metadata": {},
          "output_type": "execute_result"
        }
      ],
      "source": [
        "var_ = np.var(y, ddof=1)\n",
        "var_\n"
      ]
    },
    {
      "cell_type": "code",
      "execution_count": null,
      "metadata": {
        "colab": {
          "base_uri": "https://localhost:8080/"
        },
        "id": "O6eboEsjcx-i",
        "outputId": "833b7b9e-3961-4165-de59-6c5655463268"
      },
      "outputs": [
        {
          "data": {
            "text/plain": [
              "123.19999999999999"
            ]
          },
          "execution_count": 44,
          "metadata": {},
          "output_type": "execute_result"
        }
      ],
      "source": [
        "var_ = y.var(ddof=1)\n",
        "var_\n"
      ]
    },
    {
      "cell_type": "code",
      "execution_count": null,
      "metadata": {
        "colab": {
          "base_uri": "https://localhost:8080/"
        },
        "id": "27f8WoXSc3dn",
        "outputId": "ac32b3fc-3b87-4bfc-fe2d-a6e074edb533"
      },
      "outputs": [
        {
          "data": {
            "text/plain": [
              "123.19999999999999"
            ]
          },
          "execution_count": 46,
          "metadata": {},
          "output_type": "execute_result"
        }
      ],
      "source": [
        "z.var(ddof=1)\n"
      ]
    },
    {
      "cell_type": "markdown",
      "metadata": {
        "id": "o5ysWlS0c7ih"
      },
      "source": [
        "\n",
        "# Standard Deviation\n"
      ]
    },
    {
      "cell_type": "code",
      "execution_count": null,
      "metadata": {
        "colab": {
          "base_uri": "https://localhost:8080/"
        },
        "id": "FSNa5oZ-fg0A",
        "outputId": "2b96fac4-a42d-4fa3-e1be-b65437e03835"
      },
      "outputs": [
        {
          "data": {
            "text/plain": [
              "11.099549540409285"
            ]
          },
          "execution_count": 60,
          "metadata": {},
          "output_type": "execute_result"
        }
      ],
      "source": [
        "std_ = var_ ** 0.5\n",
        "std_"
      ]
    },
    {
      "cell_type": "code",
      "execution_count": null,
      "metadata": {
        "colab": {
          "base_uri": "https://localhost:8080/"
        },
        "id": "4IWJBMOjfjLs",
        "outputId": "40d88cb6-df3b-4bfb-93a5-0470b371865c"
      },
      "outputs": [
        {
          "data": {
            "text/plain": [
              "11.099549540409287"
            ]
          },
          "execution_count": 47,
          "metadata": {},
          "output_type": "execute_result"
        }
      ],
      "source": [
        "# Meskipun solusi ini berhasil, kita juga dapat menggunakan statistics.stdev():\n",
        "std_ = statistics.stdev(x)\n",
        "std_\n"
      ]
    },
    {
      "cell_type": "code",
      "execution_count": null,
      "metadata": {
        "colab": {
          "base_uri": "https://localhost:8080/"
        },
        "id": "PW87f8z7fqbJ",
        "outputId": "67a8d63c-026c-4e15-a066-0f28ad671b5b"
      },
      "outputs": [
        {
          "data": {
            "text/plain": [
              "11.099549540409285"
            ]
          },
          "execution_count": 48,
          "metadata": {},
          "output_type": "execute_result"
        }
      ],
      "source": [
        "np.std(y, ddof=1)\n"
      ]
    },
    {
      "cell_type": "code",
      "execution_count": null,
      "metadata": {
        "colab": {
          "base_uri": "https://localhost:8080/"
        },
        "id": "YPC909_YfsDN",
        "outputId": "84f397ed-8c56-47ce-cd85-3ace7d6978c5"
      },
      "outputs": [
        {
          "data": {
            "text/plain": [
              "11.099549540409285"
            ]
          },
          "execution_count": 63,
          "metadata": {},
          "output_type": "execute_result"
        }
      ],
      "source": [
        "y.std(ddof=1)\n"
      ]
    },
    {
      "cell_type": "code",
      "execution_count": null,
      "metadata": {
        "colab": {
          "base_uri": "https://localhost:8080/"
        },
        "id": "Vzp3C8-dfuXZ",
        "outputId": "08f60f23-ae49-4637-9b67-de0328d7e496"
      },
      "outputs": [
        {
          "data": {
            "text/plain": [
              "11.099549540409285"
            ]
          },
          "execution_count": 49,
          "metadata": {},
          "output_type": "execute_result"
        }
      ],
      "source": [
        "# Objek pd.Series juga memiliki method .std() yang mengabaikan nan secara default:\n",
        "\n",
        "z.std(ddof=1)\n"
      ]
    },
    {
      "cell_type": "markdown",
      "metadata": {
        "id": "KAYXDK6je_Gr"
      },
      "source": [
        ".\n",
        "\n",
        "## Skewness\n",
        "\n"
      ]
    },
    {
      "cell_type": "code",
      "execution_count": null,
      "metadata": {
        "colab": {
          "base_uri": "https://localhost:8080/"
        },
        "id": "urxUUOdWf5XB",
        "outputId": "1d221919-4aba-4f43-bc99-fe4d1d67c012"
      },
      "outputs": [
        {
          "data": {
            "text/plain": [
              "1.9470432273905929"
            ]
          },
          "execution_count": 50,
          "metadata": {},
          "output_type": "execute_result"
        }
      ],
      "source": [
        "x = [8.0, 1, 2.5, 4, 28.0]\n",
        "\n",
        "n = len(x)\n",
        "\n",
        "mean_ = sum(x) / n\n",
        "var_ = sum((item - mean_)**2 for item in x) / (n-1)\n",
        "std_ = var_ ** 0.5\n",
        "\n",
        "skew_ = (sum((item - mean_)**3 for item in x) * n / ((n - 1) * (n - 2) * std_**3))\n",
        "skew_\n"
      ]
    },
    {
      "cell_type": "code",
      "execution_count": null,
      "metadata": {
        "colab": {
          "base_uri": "https://localhost:8080/"
        },
        "id": "ENdefX-3gD0p",
        "outputId": "07c29b51-2836-476a-ab98-5e23f4669328"
      },
      "outputs": [
        {
          "data": {
            "text/plain": [
              "1.9470432273905927"
            ]
          },
          "execution_count": 51,
          "metadata": {},
          "output_type": "execute_result"
        }
      ],
      "source": [
        "y, y_with_nan = np.array(x), np.array(x_with_nan)\n",
        "\n",
        "scipy.stats.skew(y, bias=False)"
      ]
    },
    {
      "cell_type": "code",
      "execution_count": null,
      "metadata": {
        "colab": {
          "base_uri": "https://localhost:8080/"
        },
        "id": "WLL0rCg7gFTW",
        "outputId": "111ad0af-58bf-47ae-affb-2824ba18ad0f"
      },
      "outputs": [
        {
          "data": {
            "text/plain": [
              "nan"
            ]
          },
          "execution_count": 52,
          "metadata": {},
          "output_type": "execute_result"
        }
      ],
      "source": [
        "scipy.stats.skew(y_with_nan, bias=False)\n"
      ]
    },
    {
      "cell_type": "code",
      "execution_count": null,
      "metadata": {
        "colab": {
          "base_uri": "https://localhost:8080/"
        },
        "id": "lSFe9G7JgOQA",
        "outputId": "3c441a91-4836-4553-f345-b239a04ba34d"
      },
      "outputs": [
        {
          "data": {
            "text/plain": [
              "1.9470432273905924"
            ]
          },
          "execution_count": 54,
          "metadata": {},
          "output_type": "execute_result"
        }
      ],
      "source": [
        "z, z_with_nan = pd.Series(x), pd.Series(x_with_nan)\n",
        "\n",
        "z.skew()"
      ]
    },
    {
      "cell_type": "code",
      "execution_count": null,
      "metadata": {
        "colab": {
          "base_uri": "https://localhost:8080/"
        },
        "id": "yZUVBUiLgP8o",
        "outputId": "4fe32fda-79e4-41fc-8a13-8fc83dac0847"
      },
      "outputs": [
        {
          "data": {
            "text/plain": [
              "1.9470432273905924"
            ]
          },
          "execution_count": 53,
          "metadata": {},
          "output_type": "execute_result"
        }
      ],
      "source": [
        "z_with_nan.skew()\n"
      ]
    },
    {
      "cell_type": "markdown",
      "metadata": {
        "id": "uDYTNKp_gJRS"
      },
      "source": [
        "# Percentiles\n"
      ]
    },
    {
      "cell_type": "markdown",
      "metadata": {
        "id": "v5WH57P8gJ5q"
      },
      "source": [
        "Percentiles\n"
      ]
    },
    {
      "cell_type": "code",
      "execution_count": null,
      "metadata": {
        "id": "jTBnreXSZ1pv"
      },
      "outputs": [],
      "source": [
        "import statistics\n",
        "import numpy as np "
      ]
    },
    {
      "cell_type": "code",
      "execution_count": null,
      "metadata": {
        "colab": {
          "base_uri": "https://localhost:8080/"
        },
        "id": "CuMIl6qJN6M6",
        "outputId": "884a7e03-16c8-4534-86f6-30c12a29d910"
      },
      "outputs": [
        {
          "data": {
            "text/plain": [
              "8.0"
            ]
          },
          "execution_count": 56,
          "metadata": {},
          "output_type": "execute_result"
        }
      ],
      "source": [
        "x = [-5.0, -1.1, 0.1, 2.0, 8.0, 12.8, 21.0, 25.8, 41.0]\n",
        "#statistics.quantiles(x, n=2)\n",
        "np.quantile(x, .50)"
      ]
    },
    {
      "cell_type": "code",
      "execution_count": null,
      "metadata": {
        "id": "K20DhBMUOEfI"
      },
      "outputs": [],
      "source": [
        "# statistics.quantiles(x, n=4, method='inclusive')"
      ]
    },
    {
      "cell_type": "code",
      "execution_count": null,
      "metadata": {
        "colab": {
          "base_uri": "https://localhost:8080/"
        },
        "id": "lRxym_HYcbvE",
        "outputId": "2b061c40-7b3a-4e65-e345-31269540b108"
      },
      "outputs": [
        {
          "data": {
            "text/plain": [
              "-3.44"
            ]
          },
          "execution_count": 57,
          "metadata": {},
          "output_type": "execute_result"
        }
      ],
      "source": [
        "y = np.array(x)\n",
        "np.percentile(y, 5)\n"
      ]
    },
    {
      "cell_type": "code",
      "execution_count": null,
      "metadata": {
        "colab": {
          "base_uri": "https://localhost:8080/"
        },
        "id": "zecPJrN-cgz_",
        "outputId": "4fcc7782-c5df-4e27-a67e-65f84d0a75dd"
      },
      "outputs": [
        {
          "data": {
            "text/plain": [
              "34.919999999999995"
            ]
          },
          "execution_count": 58,
          "metadata": {},
          "output_type": "execute_result"
        }
      ],
      "source": [
        "np.percentile(y, 95)\n"
      ]
    },
    {
      "cell_type": "code",
      "execution_count": null,
      "metadata": {
        "colab": {
          "base_uri": "https://localhost:8080/"
        },
        "id": "wBD_rvK7cze_",
        "outputId": "d0999e3b-cd54-405a-fad4-a5e030472236"
      },
      "outputs": [
        {
          "data": {
            "text/plain": [
              "array([ 0.1,  8. , 21. ])"
            ]
          },
          "execution_count": 59,
          "metadata": {},
          "output_type": "execute_result"
        }
      ],
      "source": [
        "np.percentile(y, [25, 50, 75])"
      ]
    },
    {
      "cell_type": "code",
      "execution_count": null,
      "metadata": {
        "colab": {
          "base_uri": "https://localhost:8080/"
        },
        "id": "GeMlvpaKc5S9",
        "outputId": "d1443355-5646-4bba-c5ae-897d0d3dce36"
      },
      "outputs": [
        {
          "data": {
            "text/plain": [
              "8.0"
            ]
          },
          "execution_count": 60,
          "metadata": {},
          "output_type": "execute_result"
        }
      ],
      "source": [
        "np.median(y)"
      ]
    },
    {
      "cell_type": "code",
      "execution_count": null,
      "metadata": {
        "colab": {
          "base_uri": "https://localhost:8080/"
        },
        "id": "34p724o9dRFS",
        "outputId": "bfcceeb1-e704-4b6c-8b38-409a72dcb8a5"
      },
      "outputs": [
        {
          "data": {
            "text/plain": [
              "array([-5. , -1.1,  nan,  0.1,  2. ,  8. , 12.8, 21. , 25.8, 41. ])"
            ]
          },
          "execution_count": 62,
          "metadata": {},
          "output_type": "execute_result"
        }
      ],
      "source": [
        "y_with_nan = np.insert(y, 2, np.nan)\n",
        "y_with_nan"
      ]
    },
    {
      "cell_type": "code",
      "execution_count": null,
      "metadata": {
        "colab": {
          "base_uri": "https://localhost:8080/"
        },
        "id": "CauGc8hddqmW",
        "outputId": "79cadd9b-9878-4edf-b6ed-84c7554e88ca"
      },
      "outputs": [
        {
          "data": {
            "text/plain": [
              "array([ 0.1,  8. , 21. ])"
            ]
          },
          "execution_count": 63,
          "metadata": {},
          "output_type": "execute_result"
        }
      ],
      "source": [
        "np.nanpercentile(y_with_nan, [25, 50, 75])"
      ]
    },
    {
      "cell_type": "code",
      "execution_count": null,
      "metadata": {
        "colab": {
          "base_uri": "https://localhost:8080/"
        },
        "id": "UFjamnARdWVn",
        "outputId": "daa0c6bc-0c91-44f2-d864-d0a91aa355ea"
      },
      "outputs": [
        {
          "data": {
            "text/plain": [
              "-3.44"
            ]
          },
          "execution_count": 64,
          "metadata": {},
          "output_type": "execute_result"
        }
      ],
      "source": [
        "np.quantile(y, 0.05)"
      ]
    },
    {
      "cell_type": "code",
      "execution_count": null,
      "metadata": {
        "colab": {
          "base_uri": "https://localhost:8080/"
        },
        "id": "FfQ-R-BkdyI0",
        "outputId": "80a42b31-71b1-401a-bfad-e50feed39b87"
      },
      "outputs": [
        {
          "data": {
            "text/plain": [
              "34.919999999999995"
            ]
          },
          "execution_count": 65,
          "metadata": {},
          "output_type": "execute_result"
        }
      ],
      "source": [
        "np.quantile(y, 0.95)"
      ]
    },
    {
      "cell_type": "code",
      "execution_count": null,
      "metadata": {
        "colab": {
          "base_uri": "https://localhost:8080/"
        },
        "id": "XVT8ruqTd0m9",
        "outputId": "583291ec-4602-444d-e3cd-d4f443f40b98"
      },
      "outputs": [
        {
          "data": {
            "text/plain": [
              "array([ 0.1,  8. , 21. ])"
            ]
          },
          "execution_count": 120,
          "metadata": {},
          "output_type": "execute_result"
        }
      ],
      "source": [
        "np.quantile(y, [0.25, 0.5, 0.75])"
      ]
    },
    {
      "cell_type": "code",
      "execution_count": null,
      "metadata": {
        "colab": {
          "base_uri": "https://localhost:8080/"
        },
        "id": "kFS-FPaTd33C",
        "outputId": "87d16736-f269-4a96-9ea0-f2408063c39f"
      },
      "outputs": [
        {
          "data": {
            "text/plain": [
              "array([ 0.1,  8. , 21. ])"
            ]
          },
          "execution_count": 121,
          "metadata": {},
          "output_type": "execute_result"
        }
      ],
      "source": [
        "np.nanquantile(y_with_nan, [0.25, 0.5, 0.75])"
      ]
    },
    {
      "cell_type": "code",
      "execution_count": null,
      "metadata": {
        "id": "9ZFAmwSvdelm"
      },
      "outputs": [],
      "source": [
        "z, z_with_nan = pd.Series(y), pd.Series(y_with_nan)"
      ]
    },
    {
      "cell_type": "code",
      "execution_count": null,
      "metadata": {
        "colab": {
          "base_uri": "https://localhost:8080/"
        },
        "id": "Vnvj7JumeE2h",
        "outputId": "94889307-1be3-418f-8a63-6e630c82cd0a"
      },
      "outputs": [
        {
          "data": {
            "text/plain": [
              "-3.44"
            ]
          },
          "execution_count": 67,
          "metadata": {},
          "output_type": "execute_result"
        }
      ],
      "source": [
        "z.quantile(0.05)"
      ]
    },
    {
      "cell_type": "code",
      "execution_count": null,
      "metadata": {
        "colab": {
          "base_uri": "https://localhost:8080/"
        },
        "id": "p1FQDA18eIZv",
        "outputId": "372759cb-fe73-45af-a2a1-07fabfdcfa48"
      },
      "outputs": [
        {
          "data": {
            "text/plain": [
              "34.919999999999995"
            ]
          },
          "execution_count": 124,
          "metadata": {},
          "output_type": "execute_result"
        }
      ],
      "source": [
        "z.quantile(0.95)"
      ]
    },
    {
      "cell_type": "code",
      "execution_count": null,
      "metadata": {
        "colab": {
          "base_uri": "https://localhost:8080/"
        },
        "id": "vYFfAy9ReRBy",
        "outputId": "e0d4053d-94fe-47d8-afd3-ee603625ccfc"
      },
      "outputs": [
        {
          "data": {
            "text/plain": [
              "0.25     0.1\n",
              "0.50     8.0\n",
              "0.75    21.0\n",
              "dtype: float64"
            ]
          },
          "execution_count": 125,
          "metadata": {},
          "output_type": "execute_result"
        }
      ],
      "source": [
        "z.quantile([0.25, 0.5, 0.75])"
      ]
    },
    {
      "cell_type": "code",
      "execution_count": null,
      "metadata": {
        "colab": {
          "base_uri": "https://localhost:8080/"
        },
        "id": "vYgZwTyueSQ0",
        "outputId": "a2b142ca-d61c-4e35-a9ed-36bc68e22a93"
      },
      "outputs": [
        {
          "data": {
            "text/plain": [
              "0.25     0.1\n",
              "0.50     8.0\n",
              "0.75    21.0\n",
              "dtype: float64"
            ]
          },
          "execution_count": 126,
          "metadata": {},
          "output_type": "execute_result"
        }
      ],
      "source": [
        "z_with_nan.quantile([0.25, 0.5, 0.75])"
      ]
    },
    {
      "cell_type": "markdown",
      "metadata": {
        "id": "AUfFgplpdh7k"
      },
      "source": [
        "## Ranges\n",
        "\n"
      ]
    },
    {
      "cell_type": "code",
      "execution_count": null,
      "metadata": {
        "colab": {
          "base_uri": "https://localhost:8080/"
        },
        "id": "ogdIxfLLeoO3",
        "outputId": "d6e22d6a-8a97-4bc8-91e9-12393ef15294"
      },
      "outputs": [
        {
          "data": {
            "text/plain": [
              "array([ 0.1,  8. , 21. ])"
            ]
          },
          "execution_count": 68,
          "metadata": {},
          "output_type": "execute_result"
        }
      ],
      "source": [
        "np.percentile(y, [25, 50, 75])"
      ]
    },
    {
      "cell_type": "code",
      "execution_count": null,
      "metadata": {
        "colab": {
          "base_uri": "https://localhost:8080/"
        },
        "id": "uEaFevNKfh41",
        "outputId": "4a2d9a0d-46f2-4921-eef0-44a4102189bb"
      },
      "outputs": [
        {
          "data": {
            "text/plain": [
              "8.0"
            ]
          },
          "execution_count": 69,
          "metadata": {},
          "output_type": "execute_result"
        }
      ],
      "source": [
        "np.median(y)"
      ]
    },
    {
      "cell_type": "code",
      "execution_count": null,
      "metadata": {
        "colab": {
          "base_uri": "https://localhost:8080/"
        },
        "id": "knJ0nqqMeuQp",
        "outputId": "db893e82-a103-4c54-cc2e-49fc3efbbb40"
      },
      "outputs": [
        {
          "data": {
            "text/plain": [
              "array([-5. , -1.1,  nan,  0.1,  2. ,  8. , 12.8, 21. , 25.8, 41. ])"
            ]
          },
          "execution_count": 129,
          "metadata": {},
          "output_type": "execute_result"
        }
      ],
      "source": [
        "y_with_nan = np.insert(y, 2, np.nan)\n",
        "y_with_nan"
      ]
    },
    {
      "cell_type": "code",
      "execution_count": null,
      "metadata": {
        "colab": {
          "base_uri": "https://localhost:8080/"
        },
        "id": "MF6wSTtVfqcN",
        "outputId": "35ecf443-deef-48d4-b790-50e16ea88156"
      },
      "outputs": [
        {
          "data": {
            "text/plain": [
              "array([ 0.1,  8. , 21. ])"
            ]
          },
          "execution_count": 130,
          "metadata": {},
          "output_type": "execute_result"
        }
      ],
      "source": [
        "np.nanpercentile(y_with_nan, [25, 50, 75])"
      ]
    },
    {
      "cell_type": "code",
      "execution_count": null,
      "metadata": {
        "colab": {
          "base_uri": "https://localhost:8080/"
        },
        "id": "BvJrbWGAe1L6",
        "outputId": "cef26323-8d6a-4ca6-94bd-623af3303c1e"
      },
      "outputs": [
        {
          "data": {
            "text/plain": [
              "-3.44"
            ]
          },
          "execution_count": 131,
          "metadata": {},
          "output_type": "execute_result"
        }
      ],
      "source": [
        "np.quantile(y, 0.05)"
      ]
    },
    {
      "cell_type": "code",
      "execution_count": null,
      "metadata": {
        "colab": {
          "base_uri": "https://localhost:8080/"
        },
        "id": "W9udeo42f2mW",
        "outputId": "fdfc1fbb-a6f8-4396-f0f5-3388d59b5feb"
      },
      "outputs": [
        {
          "data": {
            "text/plain": [
              "34.919999999999995"
            ]
          },
          "execution_count": 132,
          "metadata": {},
          "output_type": "execute_result"
        }
      ],
      "source": [
        "np.quantile(y, 0.95)"
      ]
    },
    {
      "cell_type": "code",
      "execution_count": null,
      "metadata": {
        "colab": {
          "base_uri": "https://localhost:8080/"
        },
        "id": "KD_4Z2DPf0vR",
        "outputId": "5d54ed91-d578-4b4f-d81d-cf2c1d608cdb"
      },
      "outputs": [
        {
          "data": {
            "text/plain": [
              "array([ 0.1,  8. , 21. ])"
            ]
          },
          "execution_count": 133,
          "metadata": {},
          "output_type": "execute_result"
        }
      ],
      "source": [
        "np.quantile(y, [0.25, 0.5, 0.75])"
      ]
    },
    {
      "cell_type": "code",
      "execution_count": null,
      "metadata": {
        "colab": {
          "base_uri": "https://localhost:8080/"
        },
        "id": "ErC2wfCwfzoL",
        "outputId": "90debc6b-2447-43a4-e595-e49a0450572b"
      },
      "outputs": [
        {
          "data": {
            "text/plain": [
              "array([ 0.1,  8. , 21. ])"
            ]
          },
          "execution_count": 134,
          "metadata": {},
          "output_type": "execute_result"
        }
      ],
      "source": [
        "np.nanquantile(y_with_nan, [0.25, 0.5, 0.75])"
      ]
    },
    {
      "cell_type": "code",
      "execution_count": null,
      "metadata": {
        "id": "gi-UEBjPe6L8"
      },
      "outputs": [],
      "source": [
        "z, z_with_nan = pd.Series(y), pd.Series(y_with_nan)"
      ]
    },
    {
      "cell_type": "code",
      "execution_count": null,
      "metadata": {
        "colab": {
          "base_uri": "https://localhost:8080/"
        },
        "id": "_o2RItjqgDZ_",
        "outputId": "f17a8a25-089c-4c4b-c1b6-c995cb7c91f3"
      },
      "outputs": [
        {
          "data": {
            "text/plain": [
              "-3.44"
            ]
          },
          "execution_count": 136,
          "metadata": {},
          "output_type": "execute_result"
        }
      ],
      "source": [
        "z.quantile(0.05)"
      ]
    },
    {
      "cell_type": "code",
      "execution_count": null,
      "metadata": {
        "colab": {
          "base_uri": "https://localhost:8080/"
        },
        "id": "5RW4FXuJgBvR",
        "outputId": "cc44c03b-61ad-4df6-bf35-37e353965500"
      },
      "outputs": [
        {
          "data": {
            "text/plain": [
              "34.919999999999995"
            ]
          },
          "execution_count": 137,
          "metadata": {},
          "output_type": "execute_result"
        }
      ],
      "source": [
        "z.quantile(0.95)"
      ]
    },
    {
      "cell_type": "code",
      "execution_count": null,
      "metadata": {
        "colab": {
          "base_uri": "https://localhost:8080/"
        },
        "id": "5IoZ81-ygADa",
        "outputId": "63c43894-b580-4ae2-80a8-0135feaa11fd"
      },
      "outputs": [
        {
          "data": {
            "text/plain": [
              "0.25     0.1\n",
              "0.50     8.0\n",
              "0.75    21.0\n",
              "dtype: float64"
            ]
          },
          "execution_count": 138,
          "metadata": {},
          "output_type": "execute_result"
        }
      ],
      "source": [
        "z.quantile([0.25, 0.5, 0.75])"
      ]
    },
    {
      "cell_type": "code",
      "execution_count": null,
      "metadata": {
        "colab": {
          "base_uri": "https://localhost:8080/"
        },
        "id": "tNhUPcnaf-BX",
        "outputId": "e22bed77-d6d2-45d6-ef3a-1a9b6c563386"
      },
      "outputs": [
        {
          "data": {
            "text/plain": [
              "0.25     0.1\n",
              "0.50     8.0\n",
              "0.75    21.0\n",
              "dtype: float64"
            ]
          },
          "execution_count": 139,
          "metadata": {},
          "output_type": "execute_result"
        }
      ],
      "source": [
        "z_with_nan.quantile([0.25, 0.5, 0.75])"
      ]
    },
    {
      "cell_type": "code",
      "execution_count": null,
      "metadata": {
        "colab": {
          "base_uri": "https://localhost:8080/"
        },
        "id": "-pciLP3IfAPm",
        "outputId": "bef46435-9b9e-4262-da8a-344f622f55cc"
      },
      "outputs": [
        {
          "data": {
            "text/plain": [
              "46.0"
            ]
          },
          "execution_count": 140,
          "metadata": {},
          "output_type": "execute_result"
        }
      ],
      "source": [
        "np.ptp(y)"
      ]
    },
    {
      "cell_type": "code",
      "execution_count": null,
      "metadata": {
        "colab": {
          "base_uri": "https://localhost:8080/"
        },
        "id": "XwuJhQvKgPRo",
        "outputId": "3036aa44-943e-4798-d736-34299a5b2e82"
      },
      "outputs": [
        {
          "data": {
            "text/plain": [
              "46.0"
            ]
          },
          "execution_count": 141,
          "metadata": {},
          "output_type": "execute_result"
        }
      ],
      "source": [
        "np.ptp(z)"
      ]
    },
    {
      "cell_type": "code",
      "execution_count": null,
      "metadata": {
        "colab": {
          "base_uri": "https://localhost:8080/"
        },
        "id": "aOeHq5PQgOBn",
        "outputId": "bd34fac5-57bf-4f8d-9e73-584d5c69af4d"
      },
      "outputs": [
        {
          "data": {
            "text/plain": [
              "nan"
            ]
          },
          "execution_count": 142,
          "metadata": {},
          "output_type": "execute_result"
        }
      ],
      "source": [
        "np.ptp(y_with_nan)"
      ]
    },
    {
      "cell_type": "code",
      "execution_count": null,
      "metadata": {
        "colab": {
          "base_uri": "https://localhost:8080/"
        },
        "id": "GSw2QFRIgMmt",
        "outputId": "76240373-be64-44af-8226-f2a191292009"
      },
      "outputs": [
        {
          "data": {
            "text/plain": [
              "nan"
            ]
          },
          "execution_count": 143,
          "metadata": {},
          "output_type": "execute_result"
        }
      ],
      "source": [
        "np.ptp(z_with_nan)"
      ]
    },
    {
      "cell_type": "code",
      "execution_count": null,
      "metadata": {
        "colab": {
          "base_uri": "https://localhost:8080/"
        },
        "id": "3Ze_W5tC9hYI",
        "outputId": "656b9654-6f47-4474-a753-f86b94d4e9f1"
      },
      "outputs": [
        {
          "name": "stdout",
          "output_type": "stream",
          "text": [
            "[-5.  -1.1  0.1  2.   8.  12.8 21.  25.8 41. ]\n"
          ]
        }
      ],
      "source": [
        "print(y)"
      ]
    },
    {
      "cell_type": "code",
      "execution_count": null,
      "metadata": {
        "colab": {
          "base_uri": "https://localhost:8080/"
        },
        "id": "t7FXKs1ofItG",
        "outputId": "f40638b2-c54f-4c09-9721-d1d58b3d7eec"
      },
      "outputs": [
        {
          "data": {
            "text/plain": [
              "46.0"
            ]
          },
          "execution_count": 72,
          "metadata": {},
          "output_type": "execute_result"
        }
      ],
      "source": [
        "np.amax(y) - np.amin(y)"
      ]
    },
    {
      "cell_type": "code",
      "execution_count": null,
      "metadata": {
        "colab": {
          "base_uri": "https://localhost:8080/"
        },
        "id": "4ZbEJAdagbW9",
        "outputId": "e1e9c8a5-afe2-4862-8e1d-9b4dbece9e8d"
      },
      "outputs": [
        {
          "data": {
            "text/plain": [
              "46.0"
            ]
          },
          "execution_count": 73,
          "metadata": {},
          "output_type": "execute_result"
        }
      ],
      "source": [
        "np.nanmax(y_with_nan) - np.nanmin(y_with_nan)"
      ]
    },
    {
      "cell_type": "code",
      "execution_count": null,
      "metadata": {
        "colab": {
          "base_uri": "https://localhost:8080/"
        },
        "id": "5mmnNEZ4gZpa",
        "outputId": "431f5842-5ad7-40f4-c2f1-355796f32867"
      },
      "outputs": [
        {
          "data": {
            "text/plain": [
              "46.0"
            ]
          },
          "execution_count": 74,
          "metadata": {},
          "output_type": "execute_result"
        }
      ],
      "source": [
        "y.max() - y.min()"
      ]
    },
    {
      "cell_type": "code",
      "execution_count": null,
      "metadata": {
        "colab": {
          "base_uri": "https://localhost:8080/"
        },
        "id": "BtYwIHfVgYVF",
        "outputId": "144968bc-d01b-492c-d082-e7c9dc552671"
      },
      "outputs": [
        {
          "data": {
            "text/plain": [
              "46.0"
            ]
          },
          "execution_count": 149,
          "metadata": {},
          "output_type": "execute_result"
        }
      ],
      "source": [
        "z.max() - z.min()"
      ]
    },
    {
      "cell_type": "code",
      "execution_count": null,
      "metadata": {
        "colab": {
          "base_uri": "https://localhost:8080/"
        },
        "id": "TWt_5wahgXC1",
        "outputId": "7292b64e-9317-477e-9408-101f01ea5671"
      },
      "outputs": [
        {
          "data": {
            "text/plain": [
              "46.0"
            ]
          },
          "execution_count": 148,
          "metadata": {},
          "output_type": "execute_result"
        }
      ],
      "source": [
        "z_with_nan.max() - z_with_nan.min()"
      ]
    },
    {
      "cell_type": "code",
      "execution_count": null,
      "metadata": {
        "id": "NhdSGsTCg-mq"
      },
      "outputs": [],
      "source": [
        "quartiles = np.quantile(y, [0.25, 0.75])"
      ]
    },
    {
      "cell_type": "code",
      "execution_count": null,
      "metadata": {
        "colab": {
          "base_uri": "https://localhost:8080/"
        },
        "id": "MXJuUZrkhCE-",
        "outputId": "3239ba93-6868-429b-8fa4-ca385d46fd88"
      },
      "outputs": [
        {
          "data": {
            "text/plain": [
              "20.9"
            ]
          },
          "execution_count": 76,
          "metadata": {},
          "output_type": "execute_result"
        }
      ],
      "source": [
        "quartiles[1] - quartiles[0]"
      ]
    },
    {
      "cell_type": "code",
      "execution_count": null,
      "metadata": {
        "id": "3vMuz7_ghEMN"
      },
      "outputs": [],
      "source": [
        "quartiles = z.quantile([0.25, 0.75])"
      ]
    },
    {
      "cell_type": "code",
      "execution_count": null,
      "metadata": {
        "colab": {
          "base_uri": "https://localhost:8080/"
        },
        "id": "7VAi2Ap7hGAs",
        "outputId": "fd6b66d4-dc0c-468c-910c-a6b43f4eb68f"
      },
      "outputs": [
        {
          "data": {
            "text/plain": [
              "20.9"
            ]
          },
          "execution_count": 78,
          "metadata": {},
          "output_type": "execute_result"
        }
      ],
      "source": [
        "quartiles[0.75] - quartiles[0.25]"
      ]
    },
    {
      "cell_type": "code",
      "execution_count": null,
      "metadata": {
        "colab": {
          "base_uri": "https://localhost:8080/"
        },
        "id": "wtql8UC0fX5z",
        "outputId": "df2a865e-8506-4c3a-e485-04b5df834972"
      },
      "outputs": [
        {
          "data": {
            "text/plain": [
              "DescribeResult(nobs=9, minmax=(-5.0, 41.0), mean=11.622222222222222, variance=228.75194444444446, skewness=0.9249043136685094, kurtosis=0.14770623629658886)"
            ]
          },
          "execution_count": 80,
          "metadata": {},
          "output_type": "execute_result"
        }
      ],
      "source": [
        "result = scipy.stats.describe(y, ddof=1, bias=False)\n",
        "result"
      ]
    },
    {
      "cell_type": "code",
      "execution_count": null,
      "metadata": {
        "colab": {
          "base_uri": "https://localhost:8080/"
        },
        "id": "Zka-jhgUhZ6s",
        "outputId": "51a5b0e0-650c-4d18-fcc4-e241bcc75c62"
      },
      "outputs": [
        {
          "data": {
            "text/plain": [
              "9"
            ]
          },
          "execution_count": 81,
          "metadata": {},
          "output_type": "execute_result"
        }
      ],
      "source": [
        " result.nobs"
      ]
    },
    {
      "cell_type": "code",
      "execution_count": null,
      "metadata": {
        "colab": {
          "base_uri": "https://localhost:8080/"
        },
        "id": "19c4-dFBhdgX",
        "outputId": "c22dd84b-c6aa-4725-efee-7938e8f4b704"
      },
      "outputs": [
        {
          "data": {
            "text/plain": [
              "-5.0"
            ]
          },
          "execution_count": 82,
          "metadata": {},
          "output_type": "execute_result"
        }
      ],
      "source": [
        "result.minmax[0]"
      ]
    },
    {
      "cell_type": "code",
      "execution_count": null,
      "metadata": {
        "colab": {
          "base_uri": "https://localhost:8080/"
        },
        "id": "XvCD7TKphgGk",
        "outputId": "fc8cbeac-6f6d-4b08-d605-6f46951be88f"
      },
      "outputs": [
        {
          "data": {
            "text/plain": [
              "41.0"
            ]
          },
          "execution_count": 83,
          "metadata": {},
          "output_type": "execute_result"
        }
      ],
      "source": [
        "result.minmax[1]"
      ]
    },
    {
      "cell_type": "code",
      "execution_count": null,
      "metadata": {
        "colab": {
          "base_uri": "https://localhost:8080/"
        },
        "id": "7kxDBebThka0",
        "outputId": "ce9631fa-f5bb-4eab-f3e6-9ee6a79cbc66"
      },
      "outputs": [
        {
          "data": {
            "text/plain": [
              "11.622222222222222"
            ]
          },
          "execution_count": 84,
          "metadata": {},
          "output_type": "execute_result"
        }
      ],
      "source": [
        "result.mean"
      ]
    },
    {
      "cell_type": "code",
      "execution_count": null,
      "metadata": {
        "colab": {
          "base_uri": "https://localhost:8080/"
        },
        "id": "zCBNXygohpIK",
        "outputId": "c67cedf6-8e2c-4133-eda8-f842896ac2a0"
      },
      "outputs": [
        {
          "data": {
            "text/plain": [
              "228.75194444444446"
            ]
          },
          "execution_count": 85,
          "metadata": {},
          "output_type": "execute_result"
        }
      ],
      "source": [
        "result.variance"
      ]
    },
    {
      "cell_type": "code",
      "execution_count": null,
      "metadata": {
        "id": "YO-mFZaBhrya"
      },
      "outputs": [],
      "source": [
        "result.skewness"
      ]
    },
    {
      "cell_type": "code",
      "execution_count": null,
      "metadata": {
        "colab": {
          "base_uri": "https://localhost:8080/"
        },
        "id": "epHapC4mhukc",
        "outputId": "d3892954-f77d-47cf-cd1f-485f65b213c0"
      },
      "outputs": [
        {
          "data": {
            "text/plain": [
              "0.14770623629658886"
            ]
          },
          "execution_count": 87,
          "metadata": {},
          "output_type": "execute_result"
        }
      ],
      "source": [
        "result.kurtosis"
      ]
    },
    {
      "cell_type": "code",
      "execution_count": null,
      "metadata": {
        "colab": {
          "base_uri": "https://localhost:8080/"
        },
        "id": "-8aLOyTVh2PL",
        "outputId": "d48a2f21-6d53-419f-d539-db15346c09b5"
      },
      "outputs": [
        {
          "data": {
            "text/plain": [
              "count     9.000000\n",
              "mean     11.622222\n",
              "std      15.124548\n",
              "min      -5.000000\n",
              "25%       0.100000\n",
              "50%       8.000000\n",
              "75%      21.000000\n",
              "max      41.000000\n",
              "dtype: float64"
            ]
          },
          "execution_count": 89,
          "metadata": {},
          "output_type": "execute_result"
        }
      ],
      "source": [
        "result = z.describe()\n",
        "result"
      ]
    },
    {
      "cell_type": "code",
      "execution_count": null,
      "metadata": {
        "colab": {
          "base_uri": "https://localhost:8080/"
        },
        "id": "kGUgDZP5iFr9",
        "outputId": "2ed6bcff-a71d-4953-839a-22867dc59b73"
      },
      "outputs": [
        {
          "data": {
            "text/plain": [
              "21.0"
            ]
          },
          "execution_count": 90,
          "metadata": {},
          "output_type": "execute_result"
        }
      ],
      "source": [
        "result['mean']\n",
        "result['std']\n",
        "result['min']\n",
        "result['max']\n",
        "result['25%']\n",
        "result['50%']\n",
        "result['75%']\n"
      ]
    },
    {
      "cell_type": "markdown",
      "metadata": {
        "id": "LwGUXoI4eXcX"
      },
      "source": [
        "\n",
        "\n",
        ">>> \n"
      ]
    },
    {
      "cell_type": "code",
      "execution_count": null,
      "metadata": {
        "id": "uxVD2d_CpCv6"
      },
      "outputs": [],
      "source": [
        "x = list(range(-10, 11))\n",
        "y = [0, 2, 2, 2, 2, 3, 3, 6, 7, 4, 7, 6, 6, 9, 4, 5, 5, 10, 11, 12, 14]"
      ]
    },
    {
      "cell_type": "code",
      "execution_count": null,
      "metadata": {
        "id": "NknZAQJnpCTt"
      },
      "outputs": [],
      "source": [
        "x_, y_ = np.array(x), np.array(y)"
      ]
    },
    {
      "cell_type": "code",
      "execution_count": null,
      "metadata": {
        "id": "dz-joUbjpBzn"
      },
      "outputs": [],
      "source": [
        "x__, y__ = pd.Series(x_), pd.Series(y_)"
      ]
    },
    {
      "cell_type": "code",
      "execution_count": null,
      "metadata": {
        "colab": {
          "base_uri": "https://localhost:8080/"
        },
        "id": "4PBe0nT_iU3f",
        "outputId": "31d5fcb3-6c17-4356-c9af-4914220f0dfb"
      },
      "outputs": [
        {
          "name": "stdout",
          "output_type": "stream",
          "text": [
            "[-10  -9  -8  -7  -6  -5  -4  -3  -2  -1   0   1   2   3   4   5   6   7\n",
            "   8   9  10]\n",
            "[ 0  2  2  2  2  3  3  6  7  4  7  6  6  9  4  5  5 10 11 12 14]\n",
            "0    -10\n",
            "1     -9\n",
            "2     -8\n",
            "3     -7\n",
            "4     -6\n",
            "5     -5\n",
            "6     -4\n",
            "7     -3\n",
            "8     -2\n",
            "9     -1\n",
            "10     0\n",
            "11     1\n",
            "12     2\n",
            "13     3\n",
            "14     4\n",
            "15     5\n",
            "16     6\n",
            "17     7\n",
            "18     8\n",
            "19     9\n",
            "20    10\n",
            "dtype: int64\n",
            "0      0\n",
            "1      2\n",
            "2      2\n",
            "3      2\n",
            "4      2\n",
            "5      3\n",
            "6      3\n",
            "7      6\n",
            "8      7\n",
            "9      4\n",
            "10     7\n",
            "11     6\n",
            "12     6\n",
            "13     9\n",
            "14     4\n",
            "15     5\n",
            "16     5\n",
            "17    10\n",
            "18    11\n",
            "19    12\n",
            "20    14\n",
            "dtype: int64\n"
          ]
        }
      ],
      "source": [
        "print(x_)\n",
        "print(y_)\n",
        "print(x__)\n",
        "print(y__)"
      ]
    },
    {
      "cell_type": "code",
      "execution_count": null,
      "metadata": {
        "colab": {
          "base_uri": "https://localhost:8080/"
        },
        "id": "9xcClz2Qpgyz",
        "outputId": "4e555a1a-6b8c-4011-e775-69755fafdd00"
      },
      "outputs": [
        {
          "data": {
            "text/plain": [
              "0.0"
            ]
          },
          "execution_count": 96,
          "metadata": {},
          "output_type": "execute_result"
        }
      ],
      "source": [
        "n = len(x)\n",
        "mean_x, mean_y = sum(x) / n, sum(y) / n \n",
        "mean_x"
      ]
    },
    {
      "cell_type": "code",
      "execution_count": null,
      "metadata": {
        "colab": {
          "base_uri": "https://localhost:8080/"
        },
        "id": "dwkbqrqSiW-6",
        "outputId": "b507b925-cbfd-4eea-c432-a66e34842dcd"
      },
      "outputs": [
        {
          "data": {
            "text/plain": [
              "19.95"
            ]
          },
          "execution_count": 95,
          "metadata": {},
          "output_type": "execute_result"
        }
      ],
      "source": [
        "cov_xy = (sum((x[k] - mean_x) * (y[k] - mean_y) for k in range(n))\n",
        "           / (n - 1))\n",
        "cov_xy"
      ]
    },
    {
      "cell_type": "code",
      "execution_count": null,
      "metadata": {
        "colab": {
          "base_uri": "https://localhost:8080/"
        },
        "id": "MtYCn8jyipQl",
        "outputId": "164f3930-07d2-47c0-b84e-34a50f382a1e"
      },
      "outputs": [
        {
          "data": {
            "text/plain": [
              "array([[38.5       , 19.95      ],\n",
              "       [19.95      , 13.91428571]])"
            ]
          },
          "execution_count": 97,
          "metadata": {},
          "output_type": "execute_result"
        }
      ],
      "source": [
        "cov_matrix = np.cov(x_, y_)\n",
        "cov_matrix"
      ]
    },
    {
      "cell_type": "code",
      "execution_count": null,
      "metadata": {
        "colab": {
          "base_uri": "https://localhost:8080/"
        },
        "id": "BN0ju10civx6",
        "outputId": "ec4126d6-9aee-4fd1-fac0-a61f1dc0f7f6"
      },
      "outputs": [
        {
          "data": {
            "text/plain": [
              "38.5"
            ]
          },
          "execution_count": 98,
          "metadata": {},
          "output_type": "execute_result"
        }
      ],
      "source": [
        "x_.var(ddof=1)"
      ]
    },
    {
      "cell_type": "code",
      "execution_count": null,
      "metadata": {
        "colab": {
          "base_uri": "https://localhost:8080/"
        },
        "id": "iq0N6F--pyCL",
        "outputId": "28742b4e-479d-4812-aeda-6ae00c8b898d"
      },
      "outputs": [
        {
          "data": {
            "text/plain": [
              "13.914285714285711"
            ]
          },
          "execution_count": 99,
          "metadata": {},
          "output_type": "execute_result"
        }
      ],
      "source": [
        "y_.var(ddof=1)"
      ]
    },
    {
      "cell_type": "code",
      "execution_count": null,
      "metadata": {
        "colab": {
          "base_uri": "https://localhost:8080/"
        },
        "id": "y9_sHd0-p2T5",
        "outputId": "34482910-5907-4db6-f628-cb9e15b4d0ad"
      },
      "outputs": [
        {
          "data": {
            "text/plain": [
              "19.95"
            ]
          },
          "execution_count": 174,
          "metadata": {},
          "output_type": "execute_result"
        }
      ],
      "source": [
        "cov_xy = cov_matrix[0, 1]\n",
        "cov_xy"
      ]
    },
    {
      "cell_type": "code",
      "execution_count": null,
      "metadata": {
        "colab": {
          "base_uri": "https://localhost:8080/"
        },
        "id": "GMbgLbl4i1Ku",
        "outputId": "48447559-48c3-4559-f463-f67a8f1a1ace"
      },
      "outputs": [
        {
          "data": {
            "text/plain": [
              "19.95"
            ]
          },
          "execution_count": 175,
          "metadata": {},
          "output_type": "execute_result"
        }
      ],
      "source": [
        "cov_xy = cov_matrix[1, 0]\n",
        "cov_xy"
      ]
    },
    {
      "cell_type": "code",
      "execution_count": null,
      "metadata": {
        "colab": {
          "base_uri": "https://localhost:8080/"
        },
        "id": "ov-NBjWZmDsH",
        "outputId": "9911258b-c9ad-4004-99ce-643e3033744c"
      },
      "outputs": [
        {
          "data": {
            "text/plain": [
              "19.95"
            ]
          },
          "execution_count": 100,
          "metadata": {},
          "output_type": "execute_result"
        }
      ],
      "source": [
        "cov_xy = x__.cov(y__)\n",
        "cov_xy "
      ]
    },
    {
      "cell_type": "code",
      "execution_count": null,
      "metadata": {
        "colab": {
          "base_uri": "https://localhost:8080/"
        },
        "id": "DZI4YCK4mEVn",
        "outputId": "fcc848e1-442d-4b86-9a02-2d2b53beea32"
      },
      "outputs": [
        {
          "data": {
            "text/plain": [
              "19.95"
            ]
          },
          "execution_count": 177,
          "metadata": {},
          "output_type": "execute_result"
        }
      ],
      "source": [
        "cov_xy = y__.cov(x__)\n",
        "cov_xy"
      ]
    },
    {
      "cell_type": "code",
      "execution_count": null,
      "metadata": {
        "id": "ec5LUNNYqERf"
      },
      "outputs": [],
      "source": [
        "var_x = sum((item - mean_x)**2 for item in x) / (n - 1)"
      ]
    },
    {
      "cell_type": "code",
      "execution_count": null,
      "metadata": {
        "id": "0ePypTagqFIX"
      },
      "outputs": [],
      "source": [
        "var_y = sum((item - mean_y)**2 for item in y) / (n - 1)"
      ]
    },
    {
      "cell_type": "code",
      "execution_count": null,
      "metadata": {
        "id": "Z7PmzeU0qHlB"
      },
      "outputs": [],
      "source": [
        " std_x, std_y = var_x ** 0.5, var_y ** 0.5"
      ]
    },
    {
      "cell_type": "code",
      "execution_count": null,
      "metadata": {
        "colab": {
          "base_uri": "https://localhost:8080/"
        },
        "id": "9DyuP2J_mVz4",
        "outputId": "9c9574d4-aef2-4219-e7d6-93c97ff62847"
      },
      "outputs": [
        {
          "data": {
            "text/plain": [
              "0.861950005631606"
            ]
          },
          "execution_count": 181,
          "metadata": {},
          "output_type": "execute_result"
        }
      ],
      "source": [
        "r = cov_xy / (std_x * std_y)\n",
        "r"
      ]
    },
    {
      "cell_type": "code",
      "execution_count": null,
      "metadata": {
        "colab": {
          "base_uri": "https://localhost:8080/"
        },
        "id": "ch3gk6ZamcOx",
        "outputId": "c54363a9-ef17-4e20-e214-dbff49140b55"
      },
      "outputs": [
        {
          "name": "stdout",
          "output_type": "stream",
          "text": [
            "0.861950005631606\n",
            "5.122760847201171e-07\n"
          ]
        }
      ],
      "source": [
        "r, p = scipy.stats.pearsonr(x_, y_)\n",
        "print(r)\n",
        "print(p)"
      ]
    },
    {
      "cell_type": "code",
      "execution_count": null,
      "metadata": {
        "colab": {
          "base_uri": "https://localhost:8080/"
        },
        "id": "_aCdGnGpmiOg",
        "outputId": "77e68df9-804e-4171-9bd9-d1f386265c51"
      },
      "outputs": [
        {
          "data": {
            "text/plain": [
              "array([[1.        , 0.86195001],\n",
              "       [0.86195001, 1.        ]])"
            ]
          },
          "execution_count": 101,
          "metadata": {},
          "output_type": "execute_result"
        }
      ],
      "source": [
        "corr_matrix = np.corrcoef(x_, y_)\n",
        "corr_matrix"
      ]
    },
    {
      "cell_type": "code",
      "execution_count": null,
      "metadata": {
        "colab": {
          "base_uri": "https://localhost:8080/"
        },
        "id": "Qozb1BdkqdId",
        "outputId": "43bf715b-39ee-4f69-bc8e-57ef854f89be"
      },
      "outputs": [
        {
          "data": {
            "text/plain": [
              "0.8619500056316061"
            ]
          },
          "execution_count": 184,
          "metadata": {},
          "output_type": "execute_result"
        }
      ],
      "source": [
        "r = corr_matrix[0, 1]\n",
        "r"
      ]
    },
    {
      "cell_type": "code",
      "execution_count": null,
      "metadata": {
        "colab": {
          "base_uri": "https://localhost:8080/"
        },
        "id": "MtjewilmmmM4",
        "outputId": "1ffa8935-d0d5-4e97-81ad-25ff4c1829f4"
      },
      "outputs": [
        {
          "data": {
            "text/plain": [
              "0.861950005631606"
            ]
          },
          "execution_count": 185,
          "metadata": {},
          "output_type": "execute_result"
        }
      ],
      "source": [
        "r = corr_matrix[1, 0]\n",
        "r"
      ]
    },
    {
      "cell_type": "code",
      "execution_count": null,
      "metadata": {
        "colab": {
          "base_uri": "https://localhost:8080/"
        },
        "id": "F_CJqzC6mrCv",
        "outputId": "6c33ad18-1734-4b6c-cfc7-79cfc3202f26"
      },
      "outputs": [
        {
          "data": {
            "text/plain": [
              "LinregressResult(slope=0.5181818181818181, intercept=5.714285714285714, rvalue=0.861950005631606, pvalue=5.122760847201164e-07, stderr=0.06992387660074979)"
            ]
          },
          "execution_count": 186,
          "metadata": {},
          "output_type": "execute_result"
        }
      ],
      "source": [
        "scipy.stats.linregress(x_, y_)\n"
      ]
    },
    {
      "cell_type": "code",
      "execution_count": null,
      "metadata": {
        "colab": {
          "base_uri": "https://localhost:8080/"
        },
        "id": "GL1Z1gpom5Aw",
        "outputId": "482bde28-bb79-4cc0-a495-91462791a257"
      },
      "outputs": [
        {
          "data": {
            "text/plain": [
              "0.861950005631606"
            ]
          },
          "execution_count": 187,
          "metadata": {},
          "output_type": "execute_result"
        }
      ],
      "source": [
        "result = scipy.stats.linregress(x_, y_)\n",
        "r = result.rvalue\n",
        "r"
      ]
    },
    {
      "cell_type": "markdown",
      "metadata": {
        "id": "-DBiBuykm311"
      },
      "source": [
        "Series Pandas memiliki method .corr() untuk menghitung correlation coefficient:\n",
        "\n"
      ]
    },
    {
      "cell_type": "code",
      "execution_count": null,
      "metadata": {
        "colab": {
          "base_uri": "https://localhost:8080/"
        },
        "id": "NI9c549Em3eP",
        "outputId": "cca82145-d202-4a0a-b623-bcb74ca50201"
      },
      "outputs": [
        {
          "data": {
            "text/plain": [
              "0.8619500056316061"
            ]
          },
          "execution_count": 188,
          "metadata": {},
          "output_type": "execute_result"
        }
      ],
      "source": [
        "r = x__.corr(y__)\n",
        "r"
      ]
    },
    {
      "cell_type": "code",
      "execution_count": null,
      "metadata": {
        "colab": {
          "base_uri": "https://localhost:8080/"
        },
        "id": "OCjyccr1qy3e",
        "outputId": "6800c707-d9c7-4408-f4f6-09e6f72e93e7"
      },
      "outputs": [
        {
          "data": {
            "text/plain": [
              "0.861950005631606"
            ]
          },
          "execution_count": 189,
          "metadata": {},
          "output_type": "execute_result"
        }
      ],
      "source": [
        "r = y__.corr(x__)\n",
        "r"
      ]
    }
  ],
  "metadata": {
    "colab": {
      "collapsed_sections": [],
      "name": "09-P4DS-Descriptive-Statistics.ipynb",
      "provenance": [],
      "toc_visible": true
    },
    "kernelspec": {
      "display_name": "Python 3",
      "name": "python3"
    },
    "language_info": {
      "name": "python"
    }
  },
  "nbformat": 4,
  "nbformat_minor": 0
}
