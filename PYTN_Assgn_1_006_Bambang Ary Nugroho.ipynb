{
  "cells": [
    {
      "cell_type": "code",
      "execution_count": 1,
      "metadata": {
        "id": "dOKGvNaGYcSO"
      },
      "outputs": [],
      "source": [
        "import pandas as pd\n",
        "import numpy as np\n",
        "%matplotlib inline\n",
        "import matplotlib as mpl\n",
        "import matplotlib.pyplot as plt"
      ]
    },
    {
      "cell_type": "code",
      "execution_count": 2,
      "metadata": {
        "id": "tTRfKLLFYcSY"
      },
      "outputs": [],
      "source": [
        "df = pd.read_csv('london_crime_by_lsoa.csv')\n"
      ]
    },
    {
      "cell_type": "code",
      "execution_count": 3,
      "metadata": {
        "colab": {
          "base_uri": "https://localhost:8080/",
          "height": 206
        },
        "id": "sVqMs-0RYcSc",
        "outputId": "0851e142-3601-4fe0-a0b2-ed2502aaeaf6"
      },
      "outputs": [
        {
          "data": {
            "text/html": [
              "<div>\n",
              "<style scoped>\n",
              "    .dataframe tbody tr th:only-of-type {\n",
              "        vertical-align: middle;\n",
              "    }\n",
              "\n",
              "    .dataframe tbody tr th {\n",
              "        vertical-align: top;\n",
              "    }\n",
              "\n",
              "    .dataframe thead th {\n",
              "        text-align: right;\n",
              "    }\n",
              "</style>\n",
              "<table border=\"1\" class=\"dataframe\">\n",
              "  <thead>\n",
              "    <tr style=\"text-align: right;\">\n",
              "      <th></th>\n",
              "      <th>lsoa_code</th>\n",
              "      <th>borough</th>\n",
              "      <th>major_category</th>\n",
              "      <th>minor_category</th>\n",
              "      <th>value</th>\n",
              "      <th>year</th>\n",
              "      <th>month</th>\n",
              "    </tr>\n",
              "  </thead>\n",
              "  <tbody>\n",
              "    <tr>\n",
              "      <th>0</th>\n",
              "      <td>E01001116</td>\n",
              "      <td>Croydon</td>\n",
              "      <td>Burglary</td>\n",
              "      <td>Burglary in Other Buildings</td>\n",
              "      <td>0</td>\n",
              "      <td>2016</td>\n",
              "      <td>11</td>\n",
              "    </tr>\n",
              "    <tr>\n",
              "      <th>1</th>\n",
              "      <td>E01001646</td>\n",
              "      <td>Greenwich</td>\n",
              "      <td>Violence Against the Person</td>\n",
              "      <td>Other violence</td>\n",
              "      <td>0</td>\n",
              "      <td>2016</td>\n",
              "      <td>11</td>\n",
              "    </tr>\n",
              "    <tr>\n",
              "      <th>2</th>\n",
              "      <td>E01000677</td>\n",
              "      <td>Bromley</td>\n",
              "      <td>Violence Against the Person</td>\n",
              "      <td>Other violence</td>\n",
              "      <td>0</td>\n",
              "      <td>2015</td>\n",
              "      <td>5</td>\n",
              "    </tr>\n",
              "    <tr>\n",
              "      <th>3</th>\n",
              "      <td>E01003774</td>\n",
              "      <td>Redbridge</td>\n",
              "      <td>Burglary</td>\n",
              "      <td>Burglary in Other Buildings</td>\n",
              "      <td>0</td>\n",
              "      <td>2016</td>\n",
              "      <td>3</td>\n",
              "    </tr>\n",
              "    <tr>\n",
              "      <th>4</th>\n",
              "      <td>E01004563</td>\n",
              "      <td>Wandsworth</td>\n",
              "      <td>Robbery</td>\n",
              "      <td>Personal Property</td>\n",
              "      <td>0</td>\n",
              "      <td>2008</td>\n",
              "      <td>6</td>\n",
              "    </tr>\n",
              "  </tbody>\n",
              "</table>\n",
              "</div>"
            ],
            "text/plain": [
              "   lsoa_code     borough               major_category  \\\n",
              "0  E01001116     Croydon                     Burglary   \n",
              "1  E01001646   Greenwich  Violence Against the Person   \n",
              "2  E01000677     Bromley  Violence Against the Person   \n",
              "3  E01003774   Redbridge                     Burglary   \n",
              "4  E01004563  Wandsworth                      Robbery   \n",
              "\n",
              "                minor_category  value  year  month  \n",
              "0  Burglary in Other Buildings      0  2016     11  \n",
              "1               Other violence      0  2016     11  \n",
              "2               Other violence      0  2015      5  \n",
              "3  Burglary in Other Buildings      0  2016      3  \n",
              "4            Personal Property      0  2008      6  "
            ]
          },
          "execution_count": 3,
          "metadata": {},
          "output_type": "execute_result"
        }
      ],
      "source": [
        "# Membaca 5 data teratas\n",
        "df.head()"
      ]
    },
    {
      "cell_type": "code",
      "execution_count": 4,
      "metadata": {
        "colab": {
          "base_uri": "https://localhost:8080/",
          "height": 206
        },
        "id": "BjNugsyKYcSi",
        "outputId": "b555eb4d-b04c-4340-cca7-8e44fdc86c53"
      },
      "outputs": [
        {
          "data": {
            "text/html": [
              "<div>\n",
              "<style scoped>\n",
              "    .dataframe tbody tr th:only-of-type {\n",
              "        vertical-align: middle;\n",
              "    }\n",
              "\n",
              "    .dataframe tbody tr th {\n",
              "        vertical-align: top;\n",
              "    }\n",
              "\n",
              "    .dataframe thead th {\n",
              "        text-align: right;\n",
              "    }\n",
              "</style>\n",
              "<table border=\"1\" class=\"dataframe\">\n",
              "  <thead>\n",
              "    <tr style=\"text-align: right;\">\n",
              "      <th></th>\n",
              "      <th>lsoa_code</th>\n",
              "      <th>borough</th>\n",
              "      <th>major_category</th>\n",
              "      <th>minor_category</th>\n",
              "      <th>value</th>\n",
              "      <th>year</th>\n",
              "      <th>month</th>\n",
              "    </tr>\n",
              "  </thead>\n",
              "  <tbody>\n",
              "    <tr>\n",
              "      <th>13490599</th>\n",
              "      <td>E01000504</td>\n",
              "      <td>Brent</td>\n",
              "      <td>Criminal Damage</td>\n",
              "      <td>Criminal Damage To Dwelling</td>\n",
              "      <td>0</td>\n",
              "      <td>2015</td>\n",
              "      <td>2</td>\n",
              "    </tr>\n",
              "    <tr>\n",
              "      <th>13490600</th>\n",
              "      <td>E01002504</td>\n",
              "      <td>Hillingdon</td>\n",
              "      <td>Robbery</td>\n",
              "      <td>Personal Property</td>\n",
              "      <td>1</td>\n",
              "      <td>2015</td>\n",
              "      <td>6</td>\n",
              "    </tr>\n",
              "    <tr>\n",
              "      <th>13490601</th>\n",
              "      <td>E01004165</td>\n",
              "      <td>Sutton</td>\n",
              "      <td>Burglary</td>\n",
              "      <td>Burglary in a Dwelling</td>\n",
              "      <td>0</td>\n",
              "      <td>2011</td>\n",
              "      <td>2</td>\n",
              "    </tr>\n",
              "    <tr>\n",
              "      <th>13490602</th>\n",
              "      <td>E01001134</td>\n",
              "      <td>Croydon</td>\n",
              "      <td>Robbery</td>\n",
              "      <td>Business Property</td>\n",
              "      <td>0</td>\n",
              "      <td>2011</td>\n",
              "      <td>5</td>\n",
              "    </tr>\n",
              "    <tr>\n",
              "      <th>13490603</th>\n",
              "      <td>E01003413</td>\n",
              "      <td>Merton</td>\n",
              "      <td>Violence Against the Person</td>\n",
              "      <td>Wounding/GBH</td>\n",
              "      <td>0</td>\n",
              "      <td>2015</td>\n",
              "      <td>6</td>\n",
              "    </tr>\n",
              "  </tbody>\n",
              "</table>\n",
              "</div>"
            ],
            "text/plain": [
              "          lsoa_code     borough               major_category  \\\n",
              "13490599  E01000504       Brent              Criminal Damage   \n",
              "13490600  E01002504  Hillingdon                      Robbery   \n",
              "13490601  E01004165      Sutton                     Burglary   \n",
              "13490602  E01001134     Croydon                      Robbery   \n",
              "13490603  E01003413      Merton  Violence Against the Person   \n",
              "\n",
              "                       minor_category  value  year  month  \n",
              "13490599  Criminal Damage To Dwelling      0  2015      2  \n",
              "13490600            Personal Property      1  2015      6  \n",
              "13490601       Burglary in a Dwelling      0  2011      2  \n",
              "13490602            Business Property      0  2011      5  \n",
              "13490603                 Wounding/GBH      0  2015      6  "
            ]
          },
          "execution_count": 4,
          "metadata": {},
          "output_type": "execute_result"
        }
      ],
      "source": [
        "# membaca 5 data terbawah dari dataset\n",
        "df.tail()"
      ]
    },
    {
      "cell_type": "code",
      "execution_count": 5,
      "metadata": {
        "colab": {
          "base_uri": "https://localhost:8080/"
        },
        "id": "bcGjpjbcYcSl",
        "outputId": "eb8e2e6a-e261-4999-a9d9-83e2c1d2b41e"
      },
      "outputs": [
        {
          "name": "stdout",
          "output_type": "stream",
          "text": [
            "<class 'pandas.core.frame.DataFrame'>\n",
            "RangeIndex: 13490604 entries, 0 to 13490603\n",
            "Data columns (total 7 columns):\n",
            " #   Column          Dtype \n",
            "---  ------          ----- \n",
            " 0   lsoa_code       object\n",
            " 1   borough         object\n",
            " 2   major_category  object\n",
            " 3   minor_category  object\n",
            " 4   value           int64 \n",
            " 5   year            int64 \n",
            " 6   month           int64 \n",
            "dtypes: int64(3), object(4)\n",
            "memory usage: 720.5+ MB\n"
          ]
        }
      ],
      "source": [
        "df.info()"
      ]
    },
    {
      "cell_type": "code",
      "execution_count": 6,
      "metadata": {
        "colab": {
          "base_uri": "https://localhost:8080/",
          "height": 300
        },
        "id": "5IqxYcDGYcSn",
        "outputId": "effc2253-17c2-4301-9f5d-6c170ecaf0a8"
      },
      "outputs": [
        {
          "data": {
            "text/html": [
              "<div>\n",
              "<style scoped>\n",
              "    .dataframe tbody tr th:only-of-type {\n",
              "        vertical-align: middle;\n",
              "    }\n",
              "\n",
              "    .dataframe tbody tr th {\n",
              "        vertical-align: top;\n",
              "    }\n",
              "\n",
              "    .dataframe thead th {\n",
              "        text-align: right;\n",
              "    }\n",
              "</style>\n",
              "<table border=\"1\" class=\"dataframe\">\n",
              "  <thead>\n",
              "    <tr style=\"text-align: right;\">\n",
              "      <th></th>\n",
              "      <th>value</th>\n",
              "      <th>year</th>\n",
              "      <th>month</th>\n",
              "    </tr>\n",
              "  </thead>\n",
              "  <tbody>\n",
              "    <tr>\n",
              "      <th>count</th>\n",
              "      <td>1.349060e+07</td>\n",
              "      <td>1.349060e+07</td>\n",
              "      <td>1.349060e+07</td>\n",
              "    </tr>\n",
              "    <tr>\n",
              "      <th>mean</th>\n",
              "      <td>4.779444e-01</td>\n",
              "      <td>2.012000e+03</td>\n",
              "      <td>6.500000e+00</td>\n",
              "    </tr>\n",
              "    <tr>\n",
              "      <th>std</th>\n",
              "      <td>1.771513e+00</td>\n",
              "      <td>2.581989e+00</td>\n",
              "      <td>3.452053e+00</td>\n",
              "    </tr>\n",
              "    <tr>\n",
              "      <th>min</th>\n",
              "      <td>0.000000e+00</td>\n",
              "      <td>2.008000e+03</td>\n",
              "      <td>1.000000e+00</td>\n",
              "    </tr>\n",
              "    <tr>\n",
              "      <th>25%</th>\n",
              "      <td>0.000000e+00</td>\n",
              "      <td>2.010000e+03</td>\n",
              "      <td>3.750000e+00</td>\n",
              "    </tr>\n",
              "    <tr>\n",
              "      <th>50%</th>\n",
              "      <td>0.000000e+00</td>\n",
              "      <td>2.012000e+03</td>\n",
              "      <td>6.500000e+00</td>\n",
              "    </tr>\n",
              "    <tr>\n",
              "      <th>75%</th>\n",
              "      <td>1.000000e+00</td>\n",
              "      <td>2.014000e+03</td>\n",
              "      <td>9.250000e+00</td>\n",
              "    </tr>\n",
              "    <tr>\n",
              "      <th>max</th>\n",
              "      <td>3.090000e+02</td>\n",
              "      <td>2.016000e+03</td>\n",
              "      <td>1.200000e+01</td>\n",
              "    </tr>\n",
              "  </tbody>\n",
              "</table>\n",
              "</div>"
            ],
            "text/plain": [
              "              value          year         month\n",
              "count  1.349060e+07  1.349060e+07  1.349060e+07\n",
              "mean   4.779444e-01  2.012000e+03  6.500000e+00\n",
              "std    1.771513e+00  2.581989e+00  3.452053e+00\n",
              "min    0.000000e+00  2.008000e+03  1.000000e+00\n",
              "25%    0.000000e+00  2.010000e+03  3.750000e+00\n",
              "50%    0.000000e+00  2.012000e+03  6.500000e+00\n",
              "75%    1.000000e+00  2.014000e+03  9.250000e+00\n",
              "max    3.090000e+02  2.016000e+03  1.200000e+01"
            ]
          },
          "execution_count": 6,
          "metadata": {},
          "output_type": "execute_result"
        }
      ],
      "source": [
        "df.describe()"
      ]
    },
    {
      "cell_type": "code",
      "execution_count": 7,
      "metadata": {
        "colab": {
          "base_uri": "https://localhost:8080/"
        },
        "id": "H4FySvjtYcSp",
        "outputId": "652beef7-7059-450a-c281-e2e07d17c95f"
      },
      "outputs": [
        {
          "name": "stdout",
          "output_type": "stream",
          "text": [
            "minor_category ['Burglary in Other Buildings' 'Other violence' 'Personal Property'\n",
            " 'Other Theft' 'Offensive Weapon' 'Criminal Damage To Other Building'\n",
            " 'Theft/Taking of Pedal Cycle' 'Motor Vehicle Interference & Tampering'\n",
            " 'Theft/Taking Of Motor Vehicle' 'Wounding/GBH' 'Other Theft Person'\n",
            " 'Common Assault' 'Theft From Shops' 'Possession Of Drugs' 'Harassment'\n",
            " 'Handling Stolen Goods' 'Criminal Damage To Dwelling'\n",
            " 'Burglary in a Dwelling' 'Criminal Damage To Motor Vehicle'\n",
            " 'Other Criminal Damage' 'Counted per Victim' 'Going Equipped'\n",
            " 'Other Fraud & Forgery' 'Assault with Injury' 'Drug Trafficking'\n",
            " 'Other Drugs' 'Business Property' 'Other Notifiable' 'Other Sexual'\n",
            " 'Theft From Motor Vehicle' 'Rape' 'Murder']\n"
          ]
        }
      ],
      "source": [
        "print('minor_category',df.minor_category.unique())"
      ]
    },
    {
      "cell_type": "code",
      "execution_count": 8,
      "metadata": {
        "colab": {
          "base_uri": "https://localhost:8080/"
        },
        "id": "KFCkxvw9YcSs",
        "outputId": "0ca2d888-ba05-4e82-c4cc-33dc55c8918e"
      },
      "outputs": [
        {
          "name": "stdout",
          "output_type": "stream",
          "text": [
            "major_category ['Burglary' 'Violence Against the Person' 'Robbery' 'Theft and Handling'\n",
            " 'Criminal Damage' 'Drugs' 'Fraud or Forgery' 'Other Notifiable Offences'\n",
            " 'Sexual Offences']\n"
          ]
        }
      ],
      "source": [
        "print('major_category',df.major_category.unique())"
      ]
    },
    {
      "cell_type": "code",
      "execution_count": 9,
      "metadata": {
        "colab": {
          "base_uri": "https://localhost:8080/"
        },
        "id": "5NapuWL2YcSu",
        "outputId": "dcd7753a-adb8-4e7d-8e58-5f5b68f43fb2"
      },
      "outputs": [
        {
          "name": "stdout",
          "output_type": "stream",
          "text": [
            "borough ['Croydon' 'Greenwich' 'Bromley' 'Redbridge' 'Wandsworth' 'Ealing'\n",
            " 'Hounslow' 'Newham' 'Sutton' 'Haringey' 'Lambeth' 'Richmond upon Thames'\n",
            " 'Hillingdon' 'Havering' 'Barking and Dagenham' 'Kingston upon Thames'\n",
            " 'Westminster' 'Hackney' 'Enfield' 'Harrow' 'Lewisham' 'Brent' 'Southwark'\n",
            " 'Barnet' 'Waltham Forest' 'Camden' 'Bexley' 'Kensington and Chelsea'\n",
            " 'Islington' 'Tower Hamlets' 'Hammersmith and Fulham' 'Merton'\n",
            " 'City of London']\n"
          ]
        }
      ],
      "source": [
        "print('borough', df.borough.unique())"
      ]
    },
    {
      "cell_type": "code",
      "execution_count": 10,
      "metadata": {
        "colab": {
          "base_uri": "https://localhost:8080/"
        },
        "id": "HqjkLNCoYcSx",
        "outputId": "5fe6f51f-83dc-47f3-94af-90cd8cea07f5"
      },
      "outputs": [
        {
          "name": "stdout",
          "output_type": "stream",
          "text": [
            "Cek jika column yang memiliki null values\n",
            "          lsoa_code  borough  major_category  minor_category  value   year  \\\n",
            "0             False    False           False           False  False  False   \n",
            "1             False    False           False           False  False  False   \n",
            "2             False    False           False           False  False  False   \n",
            "3             False    False           False           False  False  False   \n",
            "4             False    False           False           False  False  False   \n",
            "...             ...      ...             ...             ...    ...    ...   \n",
            "13490599      False    False           False           False  False  False   \n",
            "13490600      False    False           False           False  False  False   \n",
            "13490601      False    False           False           False  False  False   \n",
            "13490602      False    False           False           False  False  False   \n",
            "13490603      False    False           False           False  False  False   \n",
            "\n",
            "          month  \n",
            "0         False  \n",
            "1         False  \n",
            "2         False  \n",
            "3         False  \n",
            "4         False  \n",
            "...         ...  \n",
            "13490599  False  \n",
            "13490600  False  \n",
            "13490601  False  \n",
            "13490602  False  \n",
            "13490603  False  \n",
            "\n",
            "[13490604 rows x 7 columns]\n"
          ]
        }
      ],
      "source": [
        "print(\"Cek jika column yang memiliki null values\")\n",
        "print(df.isnull())"
      ]
    },
    {
      "cell_type": "markdown",
      "metadata": {
        "id": "QrVKe7MnYcS0"
      },
      "source": [
        "To get the list of column headers we can call upon the dataframe's .columns parameter"
      ]
    },
    {
      "cell_type": "code",
      "execution_count": 11,
      "metadata": {
        "colab": {
          "base_uri": "https://localhost:8080/"
        },
        "id": "uKLtbMiJYcS6",
        "outputId": "d8c26c68-d716-4745-e516-9ccebefbd02c"
      },
      "outputs": [
        {
          "data": {
            "text/plain": [
              "array(['lsoa_code', 'borough', 'major_category', 'minor_category',\n",
              "       'value', 'year', 'month'], dtype=object)"
            ]
          },
          "execution_count": 11,
          "metadata": {},
          "output_type": "execute_result"
        }
      ],
      "source": [
        "df.columns.values"
      ]
    },
    {
      "cell_type": "markdown",
      "metadata": {
        "id": "ekxfDrswYcS9"
      },
      "source": [
        "Similarly, to get the list of indicies we use the .index parameter."
      ]
    },
    {
      "cell_type": "code",
      "execution_count": 12,
      "metadata": {
        "colab": {
          "base_uri": "https://localhost:8080/"
        },
        "id": "wEW0OrbzYcS-",
        "outputId": "8674c38d-66d2-409e-e322-3ee1ffcf2473"
      },
      "outputs": [
        {
          "data": {
            "text/plain": [
              "array([       0,        1,        2, ..., 13490601, 13490602, 13490603],\n",
              "      dtype=int64)"
            ]
          },
          "execution_count": 12,
          "metadata": {},
          "output_type": "execute_result"
        }
      ],
      "source": [
        "df.index.values"
      ]
    },
    {
      "cell_type": "markdown",
      "metadata": {
        "id": "hJiwqOtvYcTA"
      },
      "source": [
        "rename column 'borough' menjadi 'District'"
      ]
    },
    {
      "cell_type": "code",
      "execution_count": 13,
      "metadata": {
        "colab": {
          "base_uri": "https://localhost:8080/",
          "height": 112
        },
        "id": "nRUoqPjDYcTB",
        "outputId": "38cc3332-2b3a-44f7-ea11-7aa1221f4aae"
      },
      "outputs": [
        {
          "data": {
            "text/html": [
              "<div>\n",
              "<style scoped>\n",
              "    .dataframe tbody tr th:only-of-type {\n",
              "        vertical-align: middle;\n",
              "    }\n",
              "\n",
              "    .dataframe tbody tr th {\n",
              "        vertical-align: top;\n",
              "    }\n",
              "\n",
              "    .dataframe thead th {\n",
              "        text-align: right;\n",
              "    }\n",
              "</style>\n",
              "<table border=\"1\" class=\"dataframe\">\n",
              "  <thead>\n",
              "    <tr style=\"text-align: right;\">\n",
              "      <th></th>\n",
              "      <th>lsoa_code</th>\n",
              "      <th>District</th>\n",
              "      <th>major_category</th>\n",
              "      <th>minor_category</th>\n",
              "      <th>value</th>\n",
              "      <th>year</th>\n",
              "      <th>month</th>\n",
              "    </tr>\n",
              "  </thead>\n",
              "  <tbody>\n",
              "    <tr>\n",
              "      <th>0</th>\n",
              "      <td>E01001116</td>\n",
              "      <td>Croydon</td>\n",
              "      <td>Burglary</td>\n",
              "      <td>Burglary in Other Buildings</td>\n",
              "      <td>0</td>\n",
              "      <td>2016</td>\n",
              "      <td>11</td>\n",
              "    </tr>\n",
              "    <tr>\n",
              "      <th>1</th>\n",
              "      <td>E01001646</td>\n",
              "      <td>Greenwich</td>\n",
              "      <td>Violence Against the Person</td>\n",
              "      <td>Other violence</td>\n",
              "      <td>0</td>\n",
              "      <td>2016</td>\n",
              "      <td>11</td>\n",
              "    </tr>\n",
              "  </tbody>\n",
              "</table>\n",
              "</div>"
            ],
            "text/plain": [
              "   lsoa_code   District               major_category  \\\n",
              "0  E01001116    Croydon                     Burglary   \n",
              "1  E01001646  Greenwich  Violence Against the Person   \n",
              "\n",
              "                minor_category  value  year  month  \n",
              "0  Burglary in Other Buildings      0  2016     11  \n",
              "1               Other violence      0  2016     11  "
            ]
          },
          "execution_count": 13,
          "metadata": {},
          "output_type": "execute_result"
        }
      ],
      "source": [
        "df.rename(columns={'borough':'District'}, inplace=True)\n",
        "df.head(2)"
      ]
    },
    {
      "cell_type": "markdown",
      "metadata": {
        "id": "FMfkQIB0YcTD"
      },
      "source": [
        "To view the dimensions of the dataframe, we use the .shape parameter"
      ]
    },
    {
      "cell_type": "code",
      "execution_count": 14,
      "metadata": {
        "colab": {
          "base_uri": "https://localhost:8080/"
        },
        "id": "swH-4YeKYcTE",
        "outputId": "81822874-feef-47eb-f5ba-2974ea806287"
      },
      "outputs": [
        {
          "data": {
            "text/plain": [
              "(13490604, 7)"
            ]
          },
          "execution_count": 14,
          "metadata": {},
          "output_type": "execute_result"
        }
      ],
      "source": [
        "df.shape"
      ]
    },
    {
      "cell_type": "markdown",
      "metadata": {
        "id": "wvTo9dOBYcTF"
      },
      "source": [
        "Let's make one dataset that contains value 1 in value features."
      ]
    },
    {
      "cell_type": "code",
      "execution_count": 15,
      "metadata": {
        "id": "NXxWUIK1YcTG"
      },
      "outputs": [],
      "source": [
        "criminal = df[df['value'] == 1]"
      ]
    },
    {
      "cell_type": "code",
      "execution_count": 16,
      "metadata": {
        "colab": {
          "base_uri": "https://localhost:8080/",
          "height": 424
        },
        "id": "G_oayqYVYcTI",
        "outputId": "fdb2c067-6e5a-44e6-be69-b9822bf50828"
      },
      "outputs": [
        {
          "data": {
            "text/html": [
              "<div>\n",
              "<style scoped>\n",
              "    .dataframe tbody tr th:only-of-type {\n",
              "        vertical-align: middle;\n",
              "    }\n",
              "\n",
              "    .dataframe tbody tr th {\n",
              "        vertical-align: top;\n",
              "    }\n",
              "\n",
              "    .dataframe thead th {\n",
              "        text-align: right;\n",
              "    }\n",
              "</style>\n",
              "<table border=\"1\" class=\"dataframe\">\n",
              "  <thead>\n",
              "    <tr style=\"text-align: right;\">\n",
              "      <th></th>\n",
              "      <th>District</th>\n",
              "      <th>major_category</th>\n",
              "      <th>value</th>\n",
              "      <th>year</th>\n",
              "      <th>month</th>\n",
              "    </tr>\n",
              "  </thead>\n",
              "  <tbody>\n",
              "    <tr>\n",
              "      <th>0</th>\n",
              "      <td>Croydon</td>\n",
              "      <td>Burglary</td>\n",
              "      <td>0</td>\n",
              "      <td>2016</td>\n",
              "      <td>11</td>\n",
              "    </tr>\n",
              "    <tr>\n",
              "      <th>1</th>\n",
              "      <td>Greenwich</td>\n",
              "      <td>Violence Against the Person</td>\n",
              "      <td>0</td>\n",
              "      <td>2016</td>\n",
              "      <td>11</td>\n",
              "    </tr>\n",
              "    <tr>\n",
              "      <th>2</th>\n",
              "      <td>Bromley</td>\n",
              "      <td>Violence Against the Person</td>\n",
              "      <td>0</td>\n",
              "      <td>2015</td>\n",
              "      <td>5</td>\n",
              "    </tr>\n",
              "    <tr>\n",
              "      <th>3</th>\n",
              "      <td>Redbridge</td>\n",
              "      <td>Burglary</td>\n",
              "      <td>0</td>\n",
              "      <td>2016</td>\n",
              "      <td>3</td>\n",
              "    </tr>\n",
              "    <tr>\n",
              "      <th>4</th>\n",
              "      <td>Wandsworth</td>\n",
              "      <td>Robbery</td>\n",
              "      <td>0</td>\n",
              "      <td>2008</td>\n",
              "      <td>6</td>\n",
              "    </tr>\n",
              "    <tr>\n",
              "      <th>...</th>\n",
              "      <td>...</td>\n",
              "      <td>...</td>\n",
              "      <td>...</td>\n",
              "      <td>...</td>\n",
              "      <td>...</td>\n",
              "    </tr>\n",
              "    <tr>\n",
              "      <th>13490599</th>\n",
              "      <td>Brent</td>\n",
              "      <td>Criminal Damage</td>\n",
              "      <td>0</td>\n",
              "      <td>2015</td>\n",
              "      <td>2</td>\n",
              "    </tr>\n",
              "    <tr>\n",
              "      <th>13490600</th>\n",
              "      <td>Hillingdon</td>\n",
              "      <td>Robbery</td>\n",
              "      <td>1</td>\n",
              "      <td>2015</td>\n",
              "      <td>6</td>\n",
              "    </tr>\n",
              "    <tr>\n",
              "      <th>13490601</th>\n",
              "      <td>Sutton</td>\n",
              "      <td>Burglary</td>\n",
              "      <td>0</td>\n",
              "      <td>2011</td>\n",
              "      <td>2</td>\n",
              "    </tr>\n",
              "    <tr>\n",
              "      <th>13490602</th>\n",
              "      <td>Croydon</td>\n",
              "      <td>Robbery</td>\n",
              "      <td>0</td>\n",
              "      <td>2011</td>\n",
              "      <td>5</td>\n",
              "    </tr>\n",
              "    <tr>\n",
              "      <th>13490603</th>\n",
              "      <td>Merton</td>\n",
              "      <td>Violence Against the Person</td>\n",
              "      <td>0</td>\n",
              "      <td>2015</td>\n",
              "      <td>6</td>\n",
              "    </tr>\n",
              "  </tbody>\n",
              "</table>\n",
              "<p>13490604 rows × 5 columns</p>\n",
              "</div>"
            ],
            "text/plain": [
              "            District               major_category  value  year  month\n",
              "0            Croydon                     Burglary      0  2016     11\n",
              "1          Greenwich  Violence Against the Person      0  2016     11\n",
              "2            Bromley  Violence Against the Person      0  2015      5\n",
              "3          Redbridge                     Burglary      0  2016      3\n",
              "4         Wandsworth                      Robbery      0  2008      6\n",
              "...              ...                          ...    ...   ...    ...\n",
              "13490599       Brent              Criminal Damage      0  2015      2\n",
              "13490600  Hillingdon                      Robbery      1  2015      6\n",
              "13490601      Sutton                     Burglary      0  2011      2\n",
              "13490602     Croydon                      Robbery      0  2011      5\n",
              "13490603      Merton  Violence Against the Person      0  2015      6\n",
              "\n",
              "[13490604 rows x 5 columns]"
            ]
          },
          "execution_count": 16,
          "metadata": {},
          "output_type": "execute_result"
        }
      ],
      "source": [
        "df1 = df.copy()\n",
        "df1.drop(['lsoa_code','minor_category'], axis=1, inplace=True) # menghapus kolom yang tidak perlu\n",
        "df1"
      ]
    },
    {
      "cell_type": "code",
      "execution_count": 17,
      "metadata": {
        "colab": {
          "base_uri": "https://localhost:8080/"
        },
        "id": "08wd_OmFYcTJ",
        "outputId": "aa93840a-1235-44bb-bd6b-a5804fd80a60"
      },
      "outputs": [
        {
          "name": "stdout",
          "output_type": "stream",
          "text": [
            "38914\n"
          ]
        }
      ],
      "source": [
        "drugs = df1[(df1['major_category'] == 'Drugs') & (df1['year'] == 2016)]\n",
        "print(drugs.value.sum())"
      ]
    },
    {
      "cell_type": "code",
      "execution_count": 18,
      "metadata": {
        "colab": {
          "base_uri": "https://localhost:8080/"
        },
        "id": "rQQhoX8qYcTK",
        "outputId": "d6dcad6d-73a9-43fc-ad69-8fbd9aba3d08"
      },
      "outputs": [
        {
          "name": "stdout",
          "output_type": "stream",
          "text": [
            "     year              District  count_per_year\n",
            "0    2008  Barking and Dagenham           34560\n",
            "1    2008                Barnet           63648\n",
            "2    2008                Bexley           42852\n",
            "3    2008                 Brent           54516\n",
            "4    2008               Bromley           58212\n",
            "..    ...                   ...             ...\n",
            "292  2016                Sutton           35832\n",
            "293  2016         Tower Hamlets           45792\n",
            "294  2016        Waltham Forest           45144\n",
            "295  2016            Wandsworth           55404\n",
            "296  2016           Westminster           40740\n",
            "\n",
            "[297 rows x 3 columns]\n",
            "Index(['year', 'District', 'count_per_year'], dtype='object')\n"
          ]
        }
      ],
      "source": [
        "df_sum = df1.groupby(['year','District']).size().reset_index(name='count_per_year')  #groupby\n",
        "print(df_sum)\n",
        "print(df_sum.columns)"
      ]
    },
    {
      "cell_type": "code",
      "execution_count": 19,
      "metadata": {
        "colab": {
          "base_uri": "https://localhost:8080/",
          "height": 442
        },
        "id": "hHn-Bg09YcTM",
        "outputId": "19c369e9-c22b-450d-935d-50b31f16933c"
      },
      "outputs": [
        {
          "data": {
            "text/html": [
              "<div>\n",
              "<style scoped>\n",
              "    .dataframe tbody tr th:only-of-type {\n",
              "        vertical-align: middle;\n",
              "    }\n",
              "\n",
              "    .dataframe tbody tr th {\n",
              "        vertical-align: top;\n",
              "    }\n",
              "\n",
              "    .dataframe thead th {\n",
              "        text-align: right;\n",
              "    }\n",
              "</style>\n",
              "<table border=\"1\" class=\"dataframe\">\n",
              "  <thead>\n",
              "    <tr style=\"text-align: right;\">\n",
              "      <th>major_category</th>\n",
              "      <th>Burglary</th>\n",
              "      <th>Criminal Damage</th>\n",
              "      <th>Drugs</th>\n",
              "      <th>Fraud or Forgery</th>\n",
              "      <th>Other Notifiable Offences</th>\n",
              "      <th>Robbery</th>\n",
              "      <th>Sexual Offences</th>\n",
              "      <th>Theft and Handling</th>\n",
              "      <th>Violence Against the Person</th>\n",
              "    </tr>\n",
              "    <tr>\n",
              "      <th>year</th>\n",
              "      <th></th>\n",
              "      <th></th>\n",
              "      <th></th>\n",
              "      <th></th>\n",
              "      <th></th>\n",
              "      <th></th>\n",
              "      <th></th>\n",
              "      <th></th>\n",
              "      <th></th>\n",
              "    </tr>\n",
              "  </thead>\n",
              "  <tbody>\n",
              "    <tr>\n",
              "      <th>2008</th>\n",
              "      <td>88092</td>\n",
              "      <td>91872</td>\n",
              "      <td>68804</td>\n",
              "      <td>5325</td>\n",
              "      <td>10112</td>\n",
              "      <td>29627</td>\n",
              "      <td>1273</td>\n",
              "      <td>283692</td>\n",
              "      <td>159844</td>\n",
              "    </tr>\n",
              "    <tr>\n",
              "      <th>2009</th>\n",
              "      <td>90619</td>\n",
              "      <td>85565</td>\n",
              "      <td>60549</td>\n",
              "      <td>0</td>\n",
              "      <td>10644</td>\n",
              "      <td>29568</td>\n",
              "      <td>0</td>\n",
              "      <td>279492</td>\n",
              "      <td>160777</td>\n",
              "    </tr>\n",
              "    <tr>\n",
              "      <th>2010</th>\n",
              "      <td>86826</td>\n",
              "      <td>77897</td>\n",
              "      <td>58674</td>\n",
              "      <td>0</td>\n",
              "      <td>10768</td>\n",
              "      <td>32341</td>\n",
              "      <td>0</td>\n",
              "      <td>290924</td>\n",
              "      <td>157894</td>\n",
              "    </tr>\n",
              "    <tr>\n",
              "      <th>2011</th>\n",
              "      <td>93315</td>\n",
              "      <td>70914</td>\n",
              "      <td>57550</td>\n",
              "      <td>0</td>\n",
              "      <td>10264</td>\n",
              "      <td>36679</td>\n",
              "      <td>0</td>\n",
              "      <td>309292</td>\n",
              "      <td>146901</td>\n",
              "    </tr>\n",
              "    <tr>\n",
              "      <th>2012</th>\n",
              "      <td>93392</td>\n",
              "      <td>62158</td>\n",
              "      <td>51776</td>\n",
              "      <td>0</td>\n",
              "      <td>10675</td>\n",
              "      <td>35260</td>\n",
              "      <td>0</td>\n",
              "      <td>334054</td>\n",
              "      <td>150014</td>\n",
              "    </tr>\n",
              "    <tr>\n",
              "      <th>2013</th>\n",
              "      <td>87222</td>\n",
              "      <td>56206</td>\n",
              "      <td>50278</td>\n",
              "      <td>0</td>\n",
              "      <td>10811</td>\n",
              "      <td>29337</td>\n",
              "      <td>0</td>\n",
              "      <td>306372</td>\n",
              "      <td>146181</td>\n",
              "    </tr>\n",
              "    <tr>\n",
              "      <th>2014</th>\n",
              "      <td>76053</td>\n",
              "      <td>59279</td>\n",
              "      <td>44435</td>\n",
              "      <td>0</td>\n",
              "      <td>13037</td>\n",
              "      <td>22150</td>\n",
              "      <td>0</td>\n",
              "      <td>279880</td>\n",
              "      <td>185349</td>\n",
              "    </tr>\n",
              "    <tr>\n",
              "      <th>2015</th>\n",
              "      <td>70489</td>\n",
              "      <td>62976</td>\n",
              "      <td>39785</td>\n",
              "      <td>0</td>\n",
              "      <td>14229</td>\n",
              "      <td>21383</td>\n",
              "      <td>0</td>\n",
              "      <td>284022</td>\n",
              "      <td>218740</td>\n",
              "    </tr>\n",
              "    <tr>\n",
              "      <th>2016</th>\n",
              "      <td>68285</td>\n",
              "      <td>64071</td>\n",
              "      <td>38914</td>\n",
              "      <td>0</td>\n",
              "      <td>15809</td>\n",
              "      <td>22528</td>\n",
              "      <td>0</td>\n",
              "      <td>294133</td>\n",
              "      <td>232381</td>\n",
              "    </tr>\n",
              "  </tbody>\n",
              "</table>\n",
              "</div>"
            ],
            "text/plain": [
              "major_category  Burglary  Criminal Damage  Drugs  Fraud or Forgery  \\\n",
              "year                                                                 \n",
              "2008               88092            91872  68804              5325   \n",
              "2009               90619            85565  60549                 0   \n",
              "2010               86826            77897  58674                 0   \n",
              "2011               93315            70914  57550                 0   \n",
              "2012               93392            62158  51776                 0   \n",
              "2013               87222            56206  50278                 0   \n",
              "2014               76053            59279  44435                 0   \n",
              "2015               70489            62976  39785                 0   \n",
              "2016               68285            64071  38914                 0   \n",
              "\n",
              "major_category  Other Notifiable Offences  Robbery  Sexual Offences  \\\n",
              "year                                                                  \n",
              "2008                                10112    29627             1273   \n",
              "2009                                10644    29568                0   \n",
              "2010                                10768    32341                0   \n",
              "2011                                10264    36679                0   \n",
              "2012                                10675    35260                0   \n",
              "2013                                10811    29337                0   \n",
              "2014                                13037    22150                0   \n",
              "2015                                14229    21383                0   \n",
              "2016                                15809    22528                0   \n",
              "\n",
              "major_category  Theft and Handling  Violence Against the Person  \n",
              "year                                                             \n",
              "2008                        283692                       159844  \n",
              "2009                        279492                       160777  \n",
              "2010                        290924                       157894  \n",
              "2011                        309292                       146901  \n",
              "2012                        334054                       150014  \n",
              "2013                        306372                       146181  \n",
              "2014                        279880                       185349  \n",
              "2015                        284022                       218740  \n",
              "2016                        294133                       232381  "
            ]
          },
          "execution_count": 19,
          "metadata": {},
          "output_type": "execute_result"
        }
      ],
      "source": [
        "table = df1.pivot_table(values='value', index=['year'],columns=['major_category'], aggfunc=np.sum, fill_value=0)\n",
        "table"
      ]
    },
    {
      "cell_type": "markdown",
      "metadata": {
        "id": "LhUuMYhpYcTN"
      },
      "source": [
        "### Visualizing Data using Matplotlib"
      ]
    },
    {
      "cell_type": "markdown",
      "metadata": {
        "id": "sxSaddAoYcTO"
      },
      "source": [
        "#### Area Plots"
      ]
    },
    {
      "cell_type": "code",
      "execution_count": 20,
      "metadata": {
        "colab": {
          "base_uri": "https://localhost:8080/",
          "height": 499
        },
        "id": "FnuJaQrdYcTO",
        "outputId": "7ea208fe-6dbd-4697-b0d2-03506cc92b1a"
      },
      "outputs": [
        {
          "data": {
            "image/png": "[encoded data removed]",
            "text/plain": [
              "<Figure size 1440x720 with 1 Axes>"
            ]
          },
          "metadata": {
            "needs_background": "light"
          },
          "output_type": "display_data"
        }
      ],
      "source": [
        "table.plot(kind='area',\n",
        "alpha=0.45,\n",
        "stacked=False,\n",
        "figsize=(20, 10), # pass a tuple (x, y) size\n",
        ")\n",
        "\n",
        "plt.title('major_criminal  2008-2016') # Memberi judul\n",
        "plt.ylabel('Number of accident') # keterangan y-label\n",
        "plt.xlabel('Year') # keterangan x-label\n",
        "\n",
        "plt.show()"
      ]
    },
    {
      "cell_type": "markdown",
      "metadata": {},
      "source": [
        "Dari plot di atas dapat ditari kesimpulan bahwa nilai kasus paling tinggi adalah pada kasus Theft and Handling dan paling rendah adalah Fraud or forgery yang hanya terjadi pada tahun 2008 saja dan sedikit pada 2009"
      ]
    },
    {
      "cell_type": "markdown",
      "metadata": {
        "id": "d-_Lh3iUYcTP"
      },
      "source": [
        "#### Histogram"
      ]
    },
    {
      "cell_type": "code",
      "execution_count": 21,
      "metadata": {
        "colab": {
          "base_uri": "https://localhost:8080/",
          "height": 513
        },
        "id": "AnYDuEizYcTQ",
        "outputId": "3b1d5de1-da58-48cd-b5c8-f33fbd31a4fb"
      },
      "outputs": [
        {
          "data": {
            "image/png": "[encoded data removed]",
            "text/plain": [
              "<Figure size 1152x576 with 1 Axes>"
            ]
          },
          "metadata": {
            "needs_background": "light"
          },
          "output_type": "display_data"
        }
      ],
      "source": [
        "count, bin_edges = np.histogram(table, 15)\n",
        "table.plot(kind ='hist',\n",
        "figsize=(16, 8),\n",
        "bins=17,\n",
        "alpha=0.5,\n",
        "xticks=bin_edges,\n",
        ")\n",
        "\n",
        "plt.title('Histogrammajor criminal dalam 2008-2016') # memberi judul pada histogram\n",
        "plt.ylabel('Number of Years') # memberi keterangan pada y-label\n",
        "plt.xlabel('Number of Criminal ') # memberi keterangan pada x-label\n",
        "\n",
        "plt.show()"
      ]
    },
    {
      "cell_type": "markdown",
      "metadata": {},
      "source": [
        "Histogram diatas menunjukan bahwa kasus paling tinggi dan terjadi dalam jangka panjanga dalah kasus sexual Offerences"
      ]
    },
    {
      "cell_type": "markdown",
      "metadata": {
        "id": "yQxrrI64YcTS"
      },
      "source": [
        "#### Bar Charts"
      ]
    },
    {
      "cell_type": "code",
      "execution_count": 22,
      "metadata": {
        "colab": {
          "base_uri": "https://localhost:8080/",
          "height": 429
        },
        "id": "bqTjW5UfYcTT",
        "outputId": "96f2816d-710c-444f-d728-004d775e0c4b"
      },
      "outputs": [
        {
          "data": {
            "image/png": "[encoded data removed]",
            "text/plain": [
              "<Figure size 720x432 with 1 Axes>"
            ]
          },
          "metadata": {
            "needs_background": "light"
          },
          "output_type": "display_data"
        }
      ],
      "source": [
        "table_bar = table['Drugs']\n",
        "table_bar.plot(kind='bar', figsize=(10, 6))\n",
        "\n",
        "plt.xlabel('Year') # keterangan x-label\n",
        "plt.ylabel('Number of crime drugs') # keterangan Y-label\n",
        "plt.title('London drugs case in 2008-2016') # Judul plot\n",
        "\n",
        "plt.show()"
      ]
    },
    {
      "cell_type": "markdown",
      "metadata": {},
      "source": [
        "Chart diatas menunjukan kasus Drugs di london dari tahun 2008 sampai 2016, kasus paling tinggi terjadi pada tahun 2008 dan paling rendah 2016. Dapat dilihat bahwa trend kasus setiap tahun terus menurun"
      ]
    },
    {
      "cell_type": "markdown",
      "metadata": {
        "id": "-P-CfXDtYcTU"
      },
      "source": [
        "#### Pie Charts"
      ]
    },
    {
      "cell_type": "code",
      "execution_count": 23,
      "metadata": {
        "colab": {
          "base_uri": "https://localhost:8080/",
          "height": 363
        },
        "id": "mA0oL4vcYcTU",
        "outputId": "63b6c73e-ceef-4e73-c9c7-093c0f61e8ab"
      },
      "outputs": [
        {
          "data": {
            "text/html": [
              "<div>\n",
              "<style scoped>\n",
              "    .dataframe tbody tr th:only-of-type {\n",
              "        vertical-align: middle;\n",
              "    }\n",
              "\n",
              "    .dataframe tbody tr th {\n",
              "        vertical-align: top;\n",
              "    }\n",
              "\n",
              "    .dataframe thead th {\n",
              "        text-align: right;\n",
              "    }\n",
              "</style>\n",
              "<table border=\"1\" class=\"dataframe\">\n",
              "  <thead>\n",
              "    <tr style=\"text-align: right;\">\n",
              "      <th>year</th>\n",
              "      <th>2008</th>\n",
              "      <th>2009</th>\n",
              "      <th>2010</th>\n",
              "      <th>2011</th>\n",
              "      <th>2012</th>\n",
              "      <th>2013</th>\n",
              "      <th>2014</th>\n",
              "      <th>2015</th>\n",
              "      <th>2016</th>\n",
              "      <th>total</th>\n",
              "    </tr>\n",
              "    <tr>\n",
              "      <th>major_category</th>\n",
              "      <th></th>\n",
              "      <th></th>\n",
              "      <th></th>\n",
              "      <th></th>\n",
              "      <th></th>\n",
              "      <th></th>\n",
              "      <th></th>\n",
              "      <th></th>\n",
              "      <th></th>\n",
              "      <th></th>\n",
              "    </tr>\n",
              "  </thead>\n",
              "  <tbody>\n",
              "    <tr>\n",
              "      <th>Burglary</th>\n",
              "      <td>88092</td>\n",
              "      <td>90619</td>\n",
              "      <td>86826</td>\n",
              "      <td>93315</td>\n",
              "      <td>93392</td>\n",
              "      <td>87222</td>\n",
              "      <td>76053</td>\n",
              "      <td>70489</td>\n",
              "      <td>68285</td>\n",
              "      <td>754293</td>\n",
              "    </tr>\n",
              "    <tr>\n",
              "      <th>Criminal Damage</th>\n",
              "      <td>91872</td>\n",
              "      <td>85565</td>\n",
              "      <td>77897</td>\n",
              "      <td>70914</td>\n",
              "      <td>62158</td>\n",
              "      <td>56206</td>\n",
              "      <td>59279</td>\n",
              "      <td>62976</td>\n",
              "      <td>64071</td>\n",
              "      <td>630938</td>\n",
              "    </tr>\n",
              "    <tr>\n",
              "      <th>Drugs</th>\n",
              "      <td>68804</td>\n",
              "      <td>60549</td>\n",
              "      <td>58674</td>\n",
              "      <td>57550</td>\n",
              "      <td>51776</td>\n",
              "      <td>50278</td>\n",
              "      <td>44435</td>\n",
              "      <td>39785</td>\n",
              "      <td>38914</td>\n",
              "      <td>470765</td>\n",
              "    </tr>\n",
              "    <tr>\n",
              "      <th>Fraud or Forgery</th>\n",
              "      <td>5325</td>\n",
              "      <td>0</td>\n",
              "      <td>0</td>\n",
              "      <td>0</td>\n",
              "      <td>0</td>\n",
              "      <td>0</td>\n",
              "      <td>0</td>\n",
              "      <td>0</td>\n",
              "      <td>0</td>\n",
              "      <td>5325</td>\n",
              "    </tr>\n",
              "    <tr>\n",
              "      <th>Other Notifiable Offences</th>\n",
              "      <td>10112</td>\n",
              "      <td>10644</td>\n",
              "      <td>10768</td>\n",
              "      <td>10264</td>\n",
              "      <td>10675</td>\n",
              "      <td>10811</td>\n",
              "      <td>13037</td>\n",
              "      <td>14229</td>\n",
              "      <td>15809</td>\n",
              "      <td>106349</td>\n",
              "    </tr>\n",
              "    <tr>\n",
              "      <th>Robbery</th>\n",
              "      <td>29627</td>\n",
              "      <td>29568</td>\n",
              "      <td>32341</td>\n",
              "      <td>36679</td>\n",
              "      <td>35260</td>\n",
              "      <td>29337</td>\n",
              "      <td>22150</td>\n",
              "      <td>21383</td>\n",
              "      <td>22528</td>\n",
              "      <td>258873</td>\n",
              "    </tr>\n",
              "    <tr>\n",
              "      <th>Sexual Offences</th>\n",
              "      <td>1273</td>\n",
              "      <td>0</td>\n",
              "      <td>0</td>\n",
              "      <td>0</td>\n",
              "      <td>0</td>\n",
              "      <td>0</td>\n",
              "      <td>0</td>\n",
              "      <td>0</td>\n",
              "      <td>0</td>\n",
              "      <td>1273</td>\n",
              "    </tr>\n",
              "    <tr>\n",
              "      <th>Theft and Handling</th>\n",
              "      <td>283692</td>\n",
              "      <td>279492</td>\n",
              "      <td>290924</td>\n",
              "      <td>309292</td>\n",
              "      <td>334054</td>\n",
              "      <td>306372</td>\n",
              "      <td>279880</td>\n",
              "      <td>284022</td>\n",
              "      <td>294133</td>\n",
              "      <td>2661861</td>\n",
              "    </tr>\n",
              "    <tr>\n",
              "      <th>Violence Against the Person</th>\n",
              "      <td>159844</td>\n",
              "      <td>160777</td>\n",
              "      <td>157894</td>\n",
              "      <td>146901</td>\n",
              "      <td>150014</td>\n",
              "      <td>146181</td>\n",
              "      <td>185349</td>\n",
              "      <td>218740</td>\n",
              "      <td>232381</td>\n",
              "      <td>1558081</td>\n",
              "    </tr>\n",
              "  </tbody>\n",
              "</table>\n",
              "</div>"
            ],
            "text/plain": [
              "year                           2008    2009    2010    2011    2012    2013  \\\n",
              "major_category                                                                \n",
              "Burglary                      88092   90619   86826   93315   93392   87222   \n",
              "Criminal Damage               91872   85565   77897   70914   62158   56206   \n",
              "Drugs                         68804   60549   58674   57550   51776   50278   \n",
              "Fraud or Forgery               5325       0       0       0       0       0   \n",
              "Other Notifiable Offences     10112   10644   10768   10264   10675   10811   \n",
              "Robbery                       29627   29568   32341   36679   35260   29337   \n",
              "Sexual Offences                1273       0       0       0       0       0   \n",
              "Theft and Handling           283692  279492  290924  309292  334054  306372   \n",
              "Violence Against the Person  159844  160777  157894  146901  150014  146181   \n",
              "\n",
              "year                           2014    2015    2016    total  \n",
              "major_category                                                \n",
              "Burglary                      76053   70489   68285   754293  \n",
              "Criminal Damage               59279   62976   64071   630938  \n",
              "Drugs                         44435   39785   38914   470765  \n",
              "Fraud or Forgery                  0       0       0     5325  \n",
              "Other Notifiable Offences     13037   14229   15809   106349  \n",
              "Robbery                       22150   21383   22528   258873  \n",
              "Sexual Offences                   0       0       0     1273  \n",
              "Theft and Handling           279880  284022  294133  2661861  \n",
              "Violence Against the Person  185349  218740  232381  1558081  "
            ]
          },
          "execution_count": 23,
          "metadata": {},
          "output_type": "execute_result"
        }
      ],
      "source": [
        "table_pie = table.transpose()\n",
        "table_pie['total'] = table.sum()\n",
        "table_pie"
      ]
    },
    {
      "cell_type": "code",
      "execution_count": 24,
      "metadata": {
        "colab": {
          "base_uri": "https://localhost:8080/",
          "height": 412
        },
        "id": "BA1B6SxmYcTV",
        "outputId": "6c35e5a9-1fdd-4c20-b766-d8e21dad619f"
      },
      "outputs": [
        {
          "data": {
            "image/png": "[encoded data removed]",
            "text/plain": [
              "<Figure size 1080x432 with 1 Axes>"
            ]
          },
          "metadata": {},
          "output_type": "display_data"
        }
      ],
      "source": [
        "\n",
        "colors_list = ['gold', 'yellowgreen', 'lightcoral', 'lightskyblue', 'lightgreen', 'pink','red','purple','brown']\n",
        "explode_list = [0.1, 0, 0, 0, 0, 0, 0, 0.1, 0.1]\n",
        "\n",
        "table_pie['total'].plot(kind='pie',\n",
        "figsize=(15, 6), #Ukuran Gambar\n",
        "autopct='%1.1f%%',\n",
        "startangle=90,\n",
        "shadow=True,\n",
        "labels=None, # turn off labels on pie chart\n",
        "colors=colors_list, # add custom colors\n",
        "\n",
        "pctdistance=1.12,\n",
        "explode=explode_list #explode\n",
        ")\n",
        "\n",
        "plt.title('Major criminal case in London (2008-2016)', y=1.12)  #Judul Plot\n",
        "\n",
        "plt.axis('equal')\n",
        "\n",
        "# add legend\n",
        "plt.legend(labels=table_pie.index, loc='upper left')\n",
        "\n",
        "plt.show()"
      ]
    },
    {
      "cell_type": "markdown",
      "metadata": {},
      "source": [
        "Berdasarkan Pie chart diatas nilai persentase paling tinggi adalah pada kasus Theft and handling sebesar 41.3% dan yang paling rendah adalah kasus Fraud or forgery sebesar 0.1 %"
      ]
    },
    {
      "cell_type": "markdown",
      "metadata": {
        "id": "DJpwCjNwYcTX"
      },
      "source": [
        "#### Box Plots"
      ]
    },
    {
      "cell_type": "code",
      "execution_count": 39,
      "metadata": {
        "colab": {
          "base_uri": "https://localhost:8080/",
          "height": 390
        },
        "id": "hkZUZkokYcTY",
        "outputId": "3ac86180-3f9b-49bc-9655-483a436fdd35"
      },
      "outputs": [
        {
          "data": {
            "image/png": "[encoded data removed]",
            "text/plain": [
              "<Figure size 576x432 with 1 Axes>"
            ]
          },
          "metadata": {
            "needs_background": "light"
          },
          "output_type": "display_data"
        }
      ],
      "source": [
        "table_bar.plot(kind='box', figsize=(8, 6))   #plot box dan ukuran image\n",
        "plt.title('Box plot of drugs case in London')  # judul pada plot\n",
        "plt.ylabel('Number of cases') #judul pada ylabel\n",
        "\n",
        "plt.show()"
      ]
    },
    {
      "cell_type": "markdown",
      "metadata": {
        "id": "zZA8jx6nYcTa"
      },
      "source": [
        "#### Scatter Plots"
      ]
    },
    {
      "cell_type": "code",
      "execution_count": 38,
      "metadata": {
        "colab": {
          "base_uri": "https://localhost:8080/",
          "height": 503
        },
        "id": "Ta-78mIFYcTb",
        "outputId": "fa4c7449-0857-4a10-bbff-91de7bec4324"
      },
      "outputs": [
        {
          "name": "stdout",
          "output_type": "stream",
          "text": [
            "no of crime in each month in the year 2016\n",
            "['Jan', 'Feb', 'Mar', 'Apr', 'May', 'Jun', 'Jul', 'Aug', 'Sep', 'Oct', 'Nov', 'Dec']\n",
            "[58847 56697 59167 58637 63990 62262 65519 62666 61412 63405 61064 62455]\n"
          ]
        },
        {
          "data": {
            "text/plain": [
              "(array([56000., 58000., 60000., 62000., 64000., 66000.]),\n",
              " [Text(0, 0, ''),\n",
              "  Text(0, 0, ''),\n",
              "  Text(0, 0, ''),\n",
              "  Text(0, 0, ''),\n",
              "  Text(0, 0, ''),\n",
              "  Text(0, 0, '')])"
            ]
          },
          "execution_count": 38,
          "metadata": {},
          "output_type": "execute_result"
        },
        {
          "data": {
            "image/png": "[encoded data removed]",
            "text/plain": [
              "<Figure size 1440x720 with 1 Axes>"
            ]
          },
          "metadata": {
            "needs_background": "dark"
          },
          "output_type": "display_data"
        }
      ],
      "source": [
        "year2016=df.loc[df['year'] == 2016]\n",
        "\n",
        "months=year2016['month'].unique()\n",
        "\n",
        "months.sort()\n",
        "\n",
        "sum_month=year2016.groupby(['month']).sum()\n",
        "\n",
        "Values=sum_month['value'].to_numpy()\n",
        "name_of_months=['Jan','Feb','Mar','Apr','May','Jun','Jul','Aug','Sep','Oct','Nov','Dec']\n",
        "print(\"no of crime in each month in the year 2016\")\n",
        "print(name_of_months)\n",
        "print(Values)\n",
        "n1 = np.arange(len(months))\n",
        "xrange=range(1,13)\n",
        "    \n",
        "plt.figure(figsize=(20,10))\n",
        "ax = plt.axes()\n",
        "ax.set_facecolor(\"lightyellow\")\n",
        "plt.scatter(xrange,Values,s=250,color='darkgoldenrod',cmap='viridis',alpha=1)\n",
        "plt.title(\"No of crime in each month in the year 2016\", fontsize = 30,color='goldenrod')\n",
        "plt.xlabel('Months',fontsize=30,color='goldenrod')\n",
        "plt.ylabel('Number of crimes',fontsize=30,color='goldenrod')\n",
        "plt.xticks(n1,name_of_months)\n",
        "plt.xticks(color='goldenrod',fontsize=20)\n",
        "plt.yticks(color='goldenrod',fontsize=20)"
      ]
    },
    {
      "cell_type": "markdown",
      "metadata": {},
      "source": [
        "Plot diatas menunjukan sebasaran kasus sepanjang 2016"
      ]
    },
    {
      "cell_type": "markdown",
      "metadata": {
        "id": "YhiTUSTXYcTd"
      },
      "source": [
        "#### Word Clouds"
      ]
    },
    {
      "cell_type": "code",
      "execution_count": 32,
      "metadata": {
        "id": "ampO3n-dYcTe"
      },
      "outputs": [
        {
          "name": "stdout",
          "output_type": "stream",
          "text": [
            "Collecting WordCloudNote: you may need to restart the kernel to use updated packages.\n",
            "  Using cached wordcloud-1.8.1.tar.gz (220 kB)\n",
            "  Preparing metadata (setup.py): started\n",
            "  Preparing metadata (setup.py): finished with status 'done'\n",
            "Requirement already satisfied: numpy>=1.6.1 in c:\\users\\bamba\\appdata\\local\\packages\\pythonsoftwarefoundation.python.3.10_qbz5n2kfra8p0\\localcache\\local-packages\\python310\\site-packages (from WordCloud) (1.22.3)\n",
            "Requirement already satisfied: pillow in c:\\users\\bamba\\appdata\\local\\packages\\pythonsoftwarefoundation.python.3.10_qbz5n2kfra8p0\\localcache\\local-packages\\python310\\site-packages (from WordCloud) (9.0.1)\n",
            "Requirement already satisfied: matplotlib in c:\\users\\bamba\\appdata\\local\\packages\\pythonsoftwarefoundation.python.3.10_qbz5n2kfra8p0\\localcache\\local-packages\\python310\\site-packages (from WordCloud) (3.5.1)\n",
            "Requirement already satisfied: pyparsing>=2.2.1 in c:\\users\\bamba\\appdata\\local\\packages\\pythonsoftwarefoundation.python.3.10_qbz5n2kfra8p0\\localcache\\local-packages\\python310\\site-packages (from matplotlib->WordCloud) (3.0.7)\n",
            "Requirement already satisfied: python-dateutil>=2.7 in c:\\users\\bamba\\appdata\\local\\packages\\pythonsoftwarefoundation.python.3.10_qbz5n2kfra8p0\\localcache\\local-packages\\python310\\site-packages (from matplotlib->WordCloud) (2.8.2)\n",
            "Requirement already satisfied: packaging>=20.0 in c:\\users\\bamba\\appdata\\local\\packages\\pythonsoftwarefoundation.python.3.10_qbz5n2kfra8p0\\localcache\\local-packages\\python310\\site-packages (from matplotlib->WordCloud) (21.3)\n",
            "Requirement already satisfied: fonttools>=4.22.0 in c:\\users\\bamba\\appdata\\local\\packages\\pythonsoftwarefoundation.python.3.10_qbz5n2kfra8p0\\localcache\\local-packages\\python310\\site-packages (from matplotlib->WordCloud) (4.30.0)\n",
            "Requirement already satisfied: cycler>=0.10 in c:\\users\\bamba\\appdata\\local\\packages\\pythonsoftwarefoundation.python.3.10_qbz5n2kfra8p0\\localcache\\local-packages\\python310\\site-packages (from matplotlib->WordCloud) (0.11.0)\n",
            "Requirement already satisfied: kiwisolver>=1.0.1 in c:\\users\\bamba\\appdata\\local\\packages\\pythonsoftwarefoundation.python.3.10_qbz5n2kfra8p0\\localcache\\local-packages\\python310\\site-packages (from matplotlib->WordCloud) (1.4.0)\n",
            "Requirement already satisfied: six>=1.5 in c:\\users\\bamba\\appdata\\local\\packages\\pythonsoftwarefoundation.python.3.10_qbz5n2kfra8p0\\localcache\\local-packages\\python310\\site-packages (from python-dateutil>=2.7->matplotlib->WordCloud) (1.16.0)\n",
            "Using legacy 'setup.py install' for WordCloud, since package 'wheel' is not installed.\n",
            "Installing collected packages: WordCloud\n",
            "  Running setup.py install for WordCloud: started\n",
            "  Running setup.py install for WordCloud: finished with status 'error'\n",
            "\n"
          ]
        },
        {
          "name": "stderr",
          "output_type": "stream",
          "text": [
            "  error: subprocess-exited-with-error\n",
            "  \n",
            "  × Running setup.py install for WordCloud did not run successfully.\n",
            "  │ exit code: 1\n",
            "  ╰─> [20 lines of output]\n",
            "      running install\n",
            "      running build\n",
            "      running build_py\n",
            "      creating build\n",
            "      creating build\\lib.win-amd64-3.10\n",
            "      creating build\\lib.win-amd64-3.10\\wordcloud\n",
            "      copying wordcloud\\color_from_image.py -> build\\lib.win-amd64-3.10\\wordcloud\n",
            "      copying wordcloud\\tokenization.py -> build\\lib.win-amd64-3.10\\wordcloud\n",
            "      copying wordcloud\\wordcloud.py -> build\\lib.win-amd64-3.10\\wordcloud\n",
            "      copying wordcloud\\wordcloud_cli.py -> build\\lib.win-amd64-3.10\\wordcloud\n",
            "      copying wordcloud\\_version.py -> build\\lib.win-amd64-3.10\\wordcloud\n",
            "      copying wordcloud\\__init__.py -> build\\lib.win-amd64-3.10\\wordcloud\n",
            "      copying wordcloud\\__main__.py -> build\\lib.win-amd64-3.10\\wordcloud\n",
            "      copying wordcloud\\stopwords -> build\\lib.win-amd64-3.10\\wordcloud\n",
            "      copying wordcloud\\DroidSansMono.ttf -> build\\lib.win-amd64-3.10\\wordcloud\n",
            "      UPDATING build\\lib.win-amd64-3.10\\wordcloud/_version.py\n",
            "      set build\\lib.win-amd64-3.10\\wordcloud/_version.py to '1.8.1'\n",
            "      running build_ext\n",
            "      building 'wordcloud.query_integral_image' extension\n",
            "      error: Microsoft Visual C++ 14.0 or greater is required. Get it with \"Microsoft C++ Build Tools\": https://visualstudio.microsoft.com/visual-cpp-build-tools/\n",
            "      [end of output]\n",
            "  \n",
            "  note: This error originates from a subprocess, and is likely not a problem with pip.\n",
            "error: legacy-install-failure\n",
            "\n",
            "× Encountered error while trying to install package.\n",
            "╰─> WordCloud\n",
            "\n",
            "note: This is an issue with the package mentioned above, not pip.\n",
            "hint: See above for output from the failure.\n"
          ]
        }
      ],
      "source": [
        "pip install WordCloud   # install wordcloud"
      ]
    },
    {
      "cell_type": "code",
      "execution_count": 33,
      "metadata": {
        "id": "nGiUXI-7YcTe"
      },
      "outputs": [
        {
          "ename": "ModuleNotFoundError",
          "evalue": "No module named 'wordcloud'",
          "output_type": "error",
          "traceback": [
            "\u001b[1;31m---------------------------------------------------------------------------\u001b[0m",
            "\u001b[1;31mModuleNotFoundError\u001b[0m                       Traceback (most recent call last)",
            "\u001b[1;32me:\\STUDI INDEPENDEN\\MATERI\\Assigment 1\\1.ipynb Cell 41'\u001b[0m in \u001b[0;36m<module>\u001b[1;34m\u001b[0m\n\u001b[0;32m      <a href='vscode-notebook-cell:/e%3A/STUDI%20INDEPENDEN/MATERI/Assigment%201/1.ipynb#ch0000042?line=0'>1</a>\u001b[0m \u001b[39m# import package\u001b[39;00m\n\u001b[1;32m----> <a href='vscode-notebook-cell:/e%3A/STUDI%20INDEPENDEN/MATERI/Assigment%201/1.ipynb#ch0000042?line=1'>2</a>\u001b[0m \u001b[39mfrom\u001b[39;00m \u001b[39mwordcloud\u001b[39;00m \u001b[39mimport\u001b[39;00m WordCloud, STOPWORDS\n",
            "\u001b[1;31mModuleNotFoundError\u001b[0m: No module named 'wordcloud'"
          ]
        }
      ],
      "source": [
        "# import package\n",
        "from wordcloud import WordCloud, STOPWORDS"
      ]
    },
    {
      "cell_type": "code",
      "execution_count": null,
      "metadata": {
        "id": "El77wdH9YcTf"
      },
      "outputs": [],
      "source": [
        "stopwords = set(STOPWORDS)"
      ]
    },
    {
      "cell_type": "code",
      "execution_count": null,
      "metadata": {
        "id": "UdkneiRxYcTg"
      },
      "outputs": [],
      "source": [
        "source_dataset = ' '.join(df.major_category)"
      ]
    },
    {
      "cell_type": "code",
      "execution_count": null,
      "metadata": {
        "id": "6Q8H9juVYcTg"
      },
      "outputs": [],
      "source": [
        "your_wordcloud = WordCloud(\n",
        "background_color='white',\n",
        "max_words=2000,\n",
        "stopwords=stopwords\n",
        ")\n",
        "\n",
        "# generate the word cloud\n",
        "your_wordcloud.generate(source_dataset)"
      ]
    },
    {
      "cell_type": "code",
      "execution_count": null,
      "metadata": {
        "id": "vwG5o9AOYcTi"
      },
      "outputs": [],
      "source": [
        "plt.imshow(your_wordcloud, interpolation='bilinear')\n",
        "# Graded-Funtion End\n",
        "\n",
        "plt.axis('off')\n",
        "plt.show()"
      ]
    },
    {
      "cell_type": "code",
      "execution_count": null,
      "metadata": {
        "id": "07lslu0RYcTj"
      },
      "outputs": [],
      "source": [
        "pip install folium"
      ]
    },
    {
      "cell_type": "code",
      "execution_count": null,
      "metadata": {
        "id": "ugCVBuZJYcTk"
      },
      "outputs": [],
      "source": [
        "import folium"
      ]
    },
    {
      "cell_type": "code",
      "execution_count": null,
      "metadata": {
        "id": "2JsTcPRIYcTk"
      },
      "outputs": [],
      "source": [
        "\n",
        "df2=df[['District','value']]\n",
        "world_geo = r'https://raw.githubusercontent.com/radoi90/housequest-data/master/london_boroughs.geojson' \n",
        "world_map=folium.Map(location=[54.237933,-2.36967],zoom_start=5,tiles = 'Mapbox Bright')\n",
        "\n",
        "world_map.choropleth(\n",
        "    geo_data=world_geo,\n",
        "    name='choropleth',\n",
        "    data=df2,\n",
        "    columns=['District', 'value'],\n",
        "    key_on='feature.properties.name',\n",
        "    fill_color='YlOrRd', \n",
        "    fill_opacity=0.7, \n",
        "    line_opacity=0.2,\n",
        "    legend_name='Crime rate in boroughs of london'\n",
        "    \n",
        ")\n",
        "\n",
        "#folium.LayerControl().add_to(world_map)\n",
        "world_map.save('LondonCrime.html')\n",
        "display(world_map)"
      ]
    },
    {
      "cell_type": "markdown",
      "metadata": {},
      "source": [
        "Plot diatas menunjukan sebasaran kasus berdasarkan wilayah district di kota london"
      ]
    },
    {
      "cell_type": "markdown",
      "metadata": {},
      "source": [
        "### Kesimpulan"
      ]
    },
    {
      "cell_type": "markdown",
      "metadata": {},
      "source": [
        "Dari kasus kejahatan di london dari tahun 2008 sampai 2016 kasus paling tinggi adalah kasus Theft and handling, dimana dari keseluruhan kasus yang ada, Theft and handling menyumbang sebesar 41,3%, sedangkan kasus yang paling rendah adalah kasus fraud or forgery sebesar 0.1% saja, itu pun terjadi hanya pada tahun 2008 saja"
      ]
    }
  ],
  "metadata": {
    "colab": {
      "name": "Untitled-1.ipynb",
      "provenance": []
    },
    "interpreter": {
      "hash": "5c2fd4004812fc01bb065aec279401a35a5d0e66b1835ba1f617760cc98ab288"
    },
    "kernelspec": {
      "display_name": "Python 3.10.2 64-bit (windows store)",
      "language": "python",
      "name": "python3"
    },
    "language_info": {
      "codemirror_mode": {
        "name": "ipython",
        "version": 3
      },
      "file_extension": ".py",
      "mimetype": "text/x-python",
      "name": "python",
      "nbconvert_exporter": "python",
      "pygments_lexer": "ipython3",
      "version": "3.10.2"
    },
    "orig_nbformat": 4
  },
  "nbformat": 4,
  "nbformat_minor": 0
}
