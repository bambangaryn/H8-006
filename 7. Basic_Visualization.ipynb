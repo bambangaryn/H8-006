{
  "cells": [
    {
      "cell_type": "markdown",
      "metadata": {
        "id": "I0AC1N5ruGfz"
      },
      "source": [
        "### Exploring Datasets with pandas\n",
        "\n",
        "Dataset tersebut berisi data tahunan arus imigran internasional yang dicatat oleh negara tujuan. Data tersebut menyajikan baik arus masuk maupun arus keluar menurut tempat lahir, kewarganegaraan atau tempat tinggal sebelumnya / selanjutnya baik bagi asing maupun warga negara. Versi saat ini menyajikan data yang berkaitan dengan 45 negara.\n",
        "\n",
        "Di sesi ini, kita akan fokus pada data imigrasi Kanada.\n",
        "\n",
        "pandas Basics\n",
        "Sembari kita merivew yang telah kita pelajari di minggu lalu, kita akan melakukan beberapa hal dengan Pandas.\n",
        "\n",
        "Hal pertama yang akan kita lakukan adalah mengimpor dua modul analisis data utama: Pandas dan Numpy.\n"
      ]
    },
    {
      "cell_type": "code",
      "execution_count": null,
      "metadata": {
        "id": "mj_itMkCuGgS"
      },
      "outputs": [],
      "source": [
        "import pandas as pd\n",
        "import numpy as np"
      ]
    },
    {
      "cell_type": "code",
      "execution_count": null,
      "metadata": {
        "colab": {
          "base_uri": "https://localhost:8080/"
        },
        "id": "nYU1tnlIuGgX",
        "outputId": "93187c28-12d6-44ed-dff3-cc4c11925de1"
      },
      "outputs": [],
      "source": [
        "pip install openpyxl"
      ]
    },
    {
      "cell_type": "markdown",
      "metadata": {
        "id": "RjbNhAzYuGgb"
      },
      "source": [
        "Kita coba mendownload atau melihat file xls tersebut yang akan kita ambil adalah pada sheet ke dua dengan nama \"Canada by Citizenship\" \n",
        " Membersihkan data beberapa kolom yang rangkap \n",
        " Merename beberapa kolom"
      ]
    },
    {
      "cell_type": "code",
      "execution_count": null,
      "metadata": {
        "colab": {
          "base_uri": "https://localhost:8080/"
        },
        "id": "j7iWk_f1uGge",
        "outputId": "54253ea5-ed34-42fb-8d88-898222e532db"
      },
      "outputs": [],
      "source": [
        "df_can= pd.read_excel('https://github.com/ardhiraka/PFDS_sources/blob/master/Canada.xlsx?raw=true',\n",
        "                       sheet_name='Canada by Citizenship',\n",
        "                       skiprows=range(20),\n",
        "                       skipfooter=2) #engine='openpyxl'\n",
        "print(\"Data read into a pandas dataframe!\")"
      ]
    },
    {
      "cell_type": "code",
      "execution_count": null,
      "metadata": {
        "colab": {
          "base_uri": "https://localhost:8080/",
          "height": 236
        },
        "id": "YRybJH9luGgj",
        "outputId": "7f9612f9-c963-41b3-8a73-2e52587dfe61"
      },
      "outputs": [],
      "source": [
        "df_can.head()"
      ]
    },
    {
      "cell_type": "code",
      "execution_count": null,
      "metadata": {
        "colab": {
          "base_uri": "https://localhost:8080/",
          "height": 236
        },
        "id": "AZ3q0RVpuGgl",
        "outputId": "9a7799d5-cdd7-46bc-c01b-df4908252b63"
      },
      "outputs": [],
      "source": [
        "df_can.tail()"
      ]
    },
    {
      "cell_type": "markdown",
      "metadata": {
        "id": "-fpZIaMouGgp"
      },
      "source": [
        "Saat menganalisa kumpulan data, selalu merupakan ide yang baik untuk memulai dengan mendapatkan dasr tentang kerangka data kita dengan menggunakan info()"
      ]
    },
    {
      "cell_type": "code",
      "execution_count": null,
      "metadata": {
        "colab": {
          "base_uri": "https://localhost:8080/"
        },
        "id": "My9lVknNuGgw",
        "outputId": "04726648-c974-48b7-e045-5e05817809a4"
      },
      "outputs": [],
      "source": [
        "df_can.info()"
      ]
    },
    {
      "cell_type": "code",
      "execution_count": null,
      "metadata": {
        "id": "L_8_rhikuGg1"
      },
      "outputs": [],
      "source": [
        "df_can.dropna(axis=1, how='all', inplace=True)"
      ]
    },
    {
      "cell_type": "code",
      "execution_count": null,
      "metadata": {
        "colab": {
          "base_uri": "https://localhost:8080/"
        },
        "id": "0AQv8vLOuGg3",
        "outputId": "47a582c5-7fbf-420d-df24-7b68cc14ceb4"
      },
      "outputs": [],
      "source": [
        "df_can.columns"
      ]
    },
    {
      "cell_type": "code",
      "execution_count": null,
      "metadata": {
        "id": "rpXSGfSpuGg5"
      },
      "outputs": [],
      "source": [
        "df_can.loc[:,1980:2013] = df_can.loc[:,1980:2013].astype('Int64')"
      ]
    },
    {
      "cell_type": "markdown",
      "metadata": {
        "id": "kSCn9zpquGg9"
      },
      "source": [
        "untuk mendapatkan list header kolom kita dapat memanggil parameter .columns daraframe"
      ]
    },
    {
      "cell_type": "code",
      "execution_count": null,
      "metadata": {
        "colab": {
          "base_uri": "https://localhost:8080/"
        },
        "id": "ddPNj6YCuGg_",
        "outputId": "8b936967-2976-481f-a550-70602f6f5b7a"
      },
      "outputs": [],
      "source": [
        "df_can.columns.values"
      ]
    },
    {
      "cell_type": "markdown",
      "metadata": {
        "id": "scwNlXP1uGhA"
      },
      "source": [
        "Demikian pula untuk mendapatkan daftar indeks kita menggunakan paramaeter .index"
      ]
    },
    {
      "cell_type": "code",
      "execution_count": null,
      "metadata": {
        "colab": {
          "base_uri": "https://localhost:8080/"
        },
        "id": "TiqHa-wOuGhB",
        "outputId": "006a341b-b127-444e-e568-668e31d765b8"
      },
      "outputs": [],
      "source": [
        "df_can.index.values"
      ]
    },
    {
      "cell_type": "markdown",
      "metadata": {
        "id": "nKUnUTjeuGhD"
      },
      "source": [
        "untuk melihat dimensi dataframe, kita menggunakan paramater .shape"
      ]
    },
    {
      "cell_type": "code",
      "execution_count": null,
      "metadata": {
        "colab": {
          "base_uri": "https://localhost:8080/"
        },
        "id": "SJIQphebuGhE",
        "outputId": "0ef22591-34d6-4f62-f158-5edeb4e00578"
      },
      "outputs": [],
      "source": [
        "# size of dataframe (rows, columns)\n",
        "df_can.shape"
      ]
    },
    {
      "cell_type": "markdown",
      "metadata": {
        "id": "aDdWjJMluGhG"
      },
      "source": [
        "Mari bersihkan dataset dengan menghapus beberapa kolom yang tidak perlu. Kita bisa menggunakan metode pandas drop() sebagai berikut"
      ]
    },
    {
      "cell_type": "code",
      "execution_count": null,
      "metadata": {
        "colab": {
          "base_uri": "https://localhost:8080/",
          "height": 141
        },
        "id": "gTkPV3_RuGhI",
        "outputId": "e2b5c36e-ec20-4327-952c-795e524b43b9"
      },
      "outputs": [],
      "source": [
        "# in pandas axis=0 represents rows (default) and axis=1 represents columns.\n",
        "df_can.drop(['AREA', 'REG','DEV','Type', 'Coverage'], axis=1, inplace=True)\n",
        "df_can.head(2)"
      ]
    },
    {
      "cell_type": "code",
      "execution_count": null,
      "metadata": {
        "colab": {
          "base_uri": "https://localhost:8080/",
          "height": 141
        },
        "id": "4m3WoZo0uGhV",
        "outputId": "7139ec63-c96d-4095-d091-02a08b80ad0e"
      },
      "outputs": [],
      "source": [
        "df_can.dropna(axis=0, inplace=True)\n",
        "df_can.tail(2)"
      ]
    },
    {
      "cell_type": "markdown",
      "metadata": {
        "id": "z37neJy-uGhX"
      },
      "source": [
        "Mari ganti nama kolom agar make sense. Kita bisa menggunakan metode rename() dengan memasukkan dictionary nama lama dan baru sebagai berikut:"
      ]
    },
    {
      "cell_type": "code",
      "execution_count": null,
      "metadata": {
        "colab": {
          "base_uri": "https://localhost:8080/"
        },
        "id": "F1mRL7ZDuGhY",
        "outputId": "51d96873-64fe-46b6-c04d-ede8381ad5da"
      },
      "outputs": [],
      "source": [
        "df_can.rename(columns={'OdName':'Country', 'AreaName':'Continent', 'RegName':'Region'}, inplace=True)\n",
        "df_can.columns"
      ]
    },
    {
      "cell_type": "markdown",
      "metadata": {
        "id": "D0xhJeu9uGhh"
      },
      "source": [
        "Kita juga akan menambahkan kolom 'Total' yang merangkum total imigran menurut negara selama periode 1980 - 2013, sebagai berikut:"
      ]
    },
    {
      "cell_type": "code",
      "execution_count": null,
      "metadata": {
        "colab": {
          "base_uri": "https://localhost:8080/"
        },
        "id": "0tRDTZs3uGhk",
        "outputId": "089ed60e-4ca3-4524-a0fe-5d8688b7f87f"
      },
      "outputs": [],
      "source": [
        "df_can['Total'] = df_can.sum(axis=1)\n"
      ]
    },
    {
      "cell_type": "code",
      "execution_count": null,
      "metadata": {
        "id": "ZsVENlYBuGhn"
      },
      "outputs": [],
      "source": [
        "df_can['Total'] = df_can['Total'].astype('Int64')"
      ]
    },
    {
      "cell_type": "markdown",
      "metadata": {
        "id": "U5qlnkeWuGho"
      },
      "source": [
        "Memeriksa untuk melihat berapa banyak objke null yang kita miliki dalam dataset sebagai berikut"
      ]
    },
    {
      "cell_type": "code",
      "execution_count": null,
      "metadata": {
        "colab": {
          "base_uri": "https://localhost:8080/"
        },
        "id": "vdXf7W1GuGhp",
        "outputId": "97128821-d566-47b7-fcf9-6bb5ac0e7ac6"
      },
      "outputs": [],
      "source": [
        "df_can.isnull().sum()"
      ]
    },
    {
      "cell_type": "code",
      "execution_count": null,
      "metadata": {
        "colab": {
          "base_uri": "https://localhost:8080/"
        },
        "id": "XA5xzMPmuGhr",
        "outputId": "991502d6-e385-4a20-b5c8-1228aa6c26b5"
      },
      "outputs": [],
      "source": [
        "print(df_can.groupby('Country').sum())"
      ]
    },
    {
      "cell_type": "markdown",
      "metadata": {
        "id": "-lVD6pe8uGht"
      },
      "source": [
        "Terakhir, mari kita lihat ringkasan singkat dari setiap kolom dalam kerangka data kita menggunakan metode describe()."
      ]
    },
    {
      "cell_type": "code",
      "execution_count": null,
      "metadata": {
        "colab": {
          "base_uri": "https://localhost:8080/",
          "height": 393
        },
        "id": "BdVUtZ2muGhw",
        "outputId": "7ba93f68-b85c-4c20-d24c-939bad84d269"
      },
      "outputs": [],
      "source": [
        "df_can.describe()"
      ]
    },
    {
      "cell_type": "markdown",
      "metadata": {
        "id": "wUzBa0pHuGh0"
      },
      "source": [
        "### pandas: Indexing and Selection (slicing)"
      ]
    },
    {
      "cell_type": "markdown",
      "metadata": {
        "id": "IcFnIsGYuGh3"
      },
      "source": [
        "Metode 1: Cepat dan mudah, tetapi hanya berfungsi jika nama kolom TIDAK memiliki spasi atau karakter khusus."
      ]
    },
    {
      "cell_type": "markdown",
      "metadata": {
        "id": "To3SN4J5uGh5"
      },
      "source": [
        "Mari coba memfilter daftar negara dan data selama tahun 1980 - 1985"
      ]
    },
    {
      "cell_type": "code",
      "execution_count": null,
      "metadata": {
        "colab": {
          "base_uri": "https://localhost:8080/",
          "height": 0
        },
        "id": "At7-MhGAuGh6",
        "outputId": "3ba67867-8eb7-4a78-9155-6b58f1b646bf"
      },
      "outputs": [],
      "source": [
        "df_can[['Country', 1980,1981,1982,1983,1984,1985]] # return a dataframe"
      ]
    },
    {
      "cell_type": "markdown",
      "metadata": {
        "id": "4viEAsGjuGiD"
      },
      "source": [
        "Select Row\n",
        "\n",
        "Ada 3 cara utama untuk memilih baris:"
      ]
    },
    {
      "cell_type": "markdown",
      "metadata": {
        "id": "IYrh8F2DuGiG"
      },
      "source": [
        "df.loc[label]        \n",
        "        #filters by the labels of the index/column\n",
        "df.iloc[index]       \n",
        "        #filters by the positions of the index/column"
      ]
    },
    {
      "cell_type": "markdown",
      "metadata": {
        "id": "1FE94RHquGiM"
      },
      "source": [
        "Sebelum kita melanjutkan, perhatikan bahwa indeks default dari dataset adalah rentang numerik dari 0 hingga 194. Hal ini membuatnya sangat sulit untuk melakukan kueri berdasarkan negara tertentu. Misalnya untuk mencari data di Jepang, kita perlu mengetahui nilai indeks yang sesuai.\n",
        "\n",
        "Ini dapat diperbaiki dengan sangat mudah dengan menyetel kolom 'Country' sebagai indeks menggunakan metode set_index()."
      ]
    },
    {
      "cell_type": "code",
      "execution_count": null,
      "metadata": {
        "id": "h9JdR4siuGiO"
      },
      "outputs": [],
      "source": [
        "df_can.set_index('Country', inplace=True)"
      ]
    },
    {
      "cell_type": "code",
      "execution_count": null,
      "metadata": {
        "colab": {
          "base_uri": "https://localhost:8080/",
          "height": 0
        },
        "id": "VzCYr_JTuGiS",
        "outputId": "4a7510c5-7ab1-4db7-da39-bfcab7b26f6c"
      },
      "outputs": [],
      "source": [
        "df_can.head(3)"
      ]
    },
    {
      "cell_type": "code",
      "execution_count": null,
      "metadata": {
        "id": "q-9nimVKuGiU"
      },
      "outputs": [],
      "source": [
        "# optional: to remove the name of the index\n",
        "df_can.index.name = None"
      ]
    },
    {
      "cell_type": "markdown",
      "metadata": {
        "id": "kCPt3lVRuGiV"
      },
      "source": [
        "Contoh: Mari kita lihat jumlah imigran dari Jepang (baris 87) untuk skenario berikut ini: 1. Data baris lengkap (semua kolom) 2. Untuk tahun 2013 3. Untuk tahun 1980 hingga 1985\n"
      ]
    },
    {
      "cell_type": "code",
      "execution_count": null,
      "metadata": {
        "colab": {
          "base_uri": "https://localhost:8080/"
        },
        "id": "UpW4dCIvuGiW",
        "outputId": "da1ce145-6588-41ed-c2bf-7b41c63ad084"
      },
      "outputs": [],
      "source": [
        "# 1. the full row data (all columns)\n",
        "japan = df_can.loc['Japan']\n",
        "print(japan)\n",
        "\n",
        "# alternate methods\n",
        "print(df_can.iloc[87])"
      ]
    },
    {
      "cell_type": "code",
      "execution_count": null,
      "metadata": {
        "colab": {
          "base_uri": "https://localhost:8080/"
        },
        "id": "XWHHvafEuGiY",
        "outputId": "6a1a5af4-ea3c-4fae-978b-ff541278b456"
      },
      "outputs": [],
      "source": [
        "print(df_can[df_can.index == 'Japan'].T.squeeze())"
      ]
    },
    {
      "cell_type": "code",
      "execution_count": null,
      "metadata": {
        "colab": {
          "base_uri": "https://localhost:8080/"
        },
        "id": "UxD9ogleuGiZ",
        "outputId": "bd821d1f-054c-41e4-bd84-b6ef29ff43e3"
      },
      "outputs": [],
      "source": [
        "# for year 2013\n",
        "print(df_can.loc['Japan', 2013])\n",
        "\n",
        "#alternate method\n",
        "print(df_can.iloc[87, 36])"
      ]
    },
    {
      "cell_type": "code",
      "execution_count": null,
      "metadata": {
        "colab": {
          "base_uri": "https://localhost:8080/"
        },
        "id": "ll0Tz8xyuGia",
        "outputId": "5b29c933-2c20-4cd2-a953-986910250648"
      },
      "outputs": [],
      "source": [
        "#3. for years 1980 to 1985\n",
        "print(df_can.loc['Japan', [1980,1981,1982,1983,1984,1985]]) \n",
        "\n",
        "# alternate method\n",
        "print(df_can.iloc[87, [3,4,5,6,7,8]])"
      ]
    },
    {
      "cell_type": "markdown",
      "metadata": {
        "id": "sPiWcgacuGib"
      },
      "source": [
        "Nama kolom yang merupakan bilangan bulat (seperti tahun) mungkin menimbulkan kebingungan. Misalnya, ketika kita mengacu pada tahun 2013, orang mungkin bingung ketika 2013 adalah indeks posisi 2013.\n",
        "\n",
        "Untuk menghindari ambuigitas ini, mari kita ubah nama kolom menjadi string: '1980' hingga '2013'."
      ]
    },
    {
      "cell_type": "code",
      "execution_count": null,
      "metadata": {
        "colab": {
          "base_uri": "https://localhost:8080/"
        },
        "id": "OkfhFwu5uGib",
        "outputId": "818c5a83-a25e-48ce-de78-b1227829756a"
      },
      "outputs": [],
      "source": [
        "# Karena kita mengonversi tahun menjadi string, \n",
        "# mari kita deklarasikan variabel yang akan memungkinkan kita untuk dengan mudah memanggil rentang tahun penuh:\n",
        "# useful for plotting later on\n",
        "years = list(map(str, range(1980, 2014)))\n",
        "years"
      ]
    },
    {
      "cell_type": "code",
      "execution_count": null,
      "metadata": {
        "id": "vmWyN0TcuGic"
      },
      "outputs": [],
      "source": [
        "df_can.columns = list(map(str, df_can.columns))"
      ]
    },
    {
      "cell_type": "markdown",
      "metadata": {
        "id": "szke8OghuGid"
      },
      "source": [
        "### Filtering based on a criteria"
      ]
    },
    {
      "cell_type": "markdown",
      "metadata": {
        "id": "EKg7ZmuKuGig"
      },
      "source": [
        "Untuk memfilter dataframe berdasarkan suatu kondisi, kita cukup meneruskan kondisi tersebut sebagai vektor boolean.\n",
        "\n",
        "Misalnya, mari kita filter kerangka data untuk menampilkan data di negara-negara Asia (AreaName = Asia)."
      ]
    },
    {
      "cell_type": "code",
      "execution_count": null,
      "metadata": {
        "colab": {
          "base_uri": "https://localhost:8080/"
        },
        "id": "rkohYtxouGig",
        "outputId": "78425e18-e97f-4bf2-d4d9-8be12e0c9215"
      },
      "outputs": [],
      "source": [
        "# 1. create teh condition boolean series\n",
        "condition = df_can['Continent'] == 'Asia'\n",
        "print(condition)"
      ]
    },
    {
      "cell_type": "code",
      "execution_count": null,
      "metadata": {
        "colab": {
          "base_uri": "https://localhost:8080/",
          "height": 0
        },
        "id": "B5xwZNB2uGii",
        "outputId": "c2785a8b-b5e7-4081-de49-b5562ee6b45b"
      },
      "outputs": [],
      "source": [
        "df_can[condition]"
      ]
    },
    {
      "cell_type": "code",
      "execution_count": null,
      "metadata": {
        "colab": {
          "base_uri": "https://localhost:8080/"
        },
        "id": "h5Hb7HqxuGij",
        "outputId": "acceb386-aa97-4745-e9d3-3ba057de54d5"
      },
      "outputs": [],
      "source": [
        "# useful for plotting later on\n",
        "years = list(map(str, range(1980, 2014)))\n",
        "years"
      ]
    },
    {
      "cell_type": "code",
      "execution_count": null,
      "metadata": {
        "colab": {
          "base_uri": "https://localhost:8080/",
          "height": 0
        },
        "id": "U5rb84vIuGik",
        "outputId": "e3dce28e-3249-49b1-a7f8-102a86b96965"
      },
      "outputs": [],
      "source": [
        "# we can pass mutliple criteria in the same line. \n",
        "# let's filter for AreaNAme = Asia and RegName = Southern Asia\n",
        "\n",
        "df_can[(df_can['Continent']=='Asia') & (df_can['Region']=='Southern Asia')]\n",
        "\n",
        "# note: When using 'and' and 'or' operators, pandas requires we use '&' and '|' instead of 'and' and 'or'\n",
        "# don't forget to enclose the two conditions in parentheses"
      ]
    },
    {
      "cell_type": "markdown",
      "metadata": {
        "id": "8sofq0u-uGim"
      },
      "source": [
        "Sebelum kita melanjutkan: mari kita tinjau perubahan yang telah kita buat pada kerangka data kita."
      ]
    },
    {
      "cell_type": "code",
      "execution_count": null,
      "metadata": {
        "colab": {
          "base_uri": "https://localhost:8080/",
          "height": 0
        },
        "id": "hv_-ZteMuGin",
        "outputId": "06dc0c6e-ac22-4cd7-e02d-c6ca81cb9f38"
      },
      "outputs": [],
      "source": [
        "print('data dimensions:', df_can.shape)\n",
        "print(df_can.columns)\n",
        "df_can.head(2)"
      ]
    },
    {
      "cell_type": "code",
      "execution_count": null,
      "metadata": {
        "id": "UQB24JViuGip"
      },
      "outputs": [],
      "source": []
    },
    {
      "cell_type": "markdown",
      "metadata": {
        "id": "Mh-jvT8kuGiq"
      },
      "source": [
        "### Visualizing Data using Matplotlib"
      ]
    },
    {
      "cell_type": "markdown",
      "metadata": {
        "id": "TGDgAlAxuGir"
      },
      "source": [
        "Definisi\n",
        "\n",
        "Visualisasi data dilihat oleh berbagai bidang ilmu sebagai salah satu alat komunikasi modern. \n",
        "\n",
        "Tujuan utama dari visualisasi data adalah untuk mengkomunikasikan informasi secara jelas dan efisien kepada penggunanya melalui grafik infomasi yang dipilih, seperti tabel tabel atau grafik. \n",
        "\n",
        "Visualisasi yang efektif membantu penggunanya dalam menganalisa dan penalaran tentang data dan bukti, sehingga data yang kompleks menjadi mudah dipahami dan berguna.\n",
        "\n",
        "Data Visualisasi adalah teknik yang digunakan untuk mengkomunikasikan data atau informasi dengan membuatnya kedalam objek visual (contohnya, titik, garis, batang, dan lainnya) dalam grafik.\n",
        "\n",
        "Ada dua jenis visualisasi data yang paling populer adalah dashboard dan infografis, keduanya menggunakan kombinasi grafik, teks, dan gambar untuk mengkomunikasikan pesan data.\n",
        "\n",
        "dalam membuat visualisasi yaitu Who, What, and How. Ketika anda melakukan explanatory analysis ada beberapa hal tadi yang harus diperhatikan. \n",
        "1. Siapa audience nya ?  agar visualisasi yang ditampilkan menjadi relevan. \n",
        "2. Apa yang ingin kita beritahu ke audience ? \n",
        "3. Bagaimana kita menjelaskan dalam pengunaan data\n",
        "\n",
        "Poin Penting Dalam Visualisasi Data\n",
        "\n",
        "Visualisasi data yang bagus memiliki kriteria sebagai berikut :\n",
        "Menarik secara visual; Dengan menggunakan desain visualisasi data yang menarik, akan meningkatkan ketertarikan para pengguna dalam mengkomunikasikan informasi tersebut.\n",
        "\n",
        "\n",
        "Scalable; Visualisasi data yang baik adalah yang mampu dalam hal aksesibilitas dan dapat dipelihara serta dimodifikasi di masa depan.\n",
        "Memberi pengguna informasi yang benar; Dengan menentukan suatu tepat kebutuhan para penggunanya dan bagaimana cara penggunaanya.\n",
        "Dapat diakses; Visualisasi data harus dapat diakses pada perangkat apa pun, kapan saja, dan dimana saja.\n",
        "Memungkinkan pengembangan dan penyebaran yang cepat; Pengguna membutuhkan informasi dalam jangka waktu dan kepentingan tertentu, maka adanya kemungkinan ada nya waktu tertentu dalam segi pengembangan visualisasi data dan penyebaran dari hasil visualisasi data."
      ]
    },
    {
      "cell_type": "markdown",
      "metadata": {
        "id": "AS6iED1EuGiu"
      },
      "source": [
        "### Matplotlib.pyplot"
      ]
    },
    {
      "cell_type": "markdown",
      "metadata": {
        "id": "2AU9XF9duGiz"
      },
      "source": [
        "Salah satu aspek inti Matplotlib adalah matplotlib.pyplot. matplotlib.pyplot adalah kumpulan fungsi gaya perintah yang membuat Matplotlib berfungsi seperti MATLAB. Setiap fungsi pyplot membuat beberapa perubahan pada gambar: misalnya, membuat gambar, membuat area plot dalam gambar, membuat plot beberapa garis di area plotting, menghiasi plot dengan label, dll. Di sesi ini, kita akan bekerja dengan scripting layer untuk mempelajari cara membuat plot garis."
      ]
    },
    {
      "cell_type": "code",
      "execution_count": null,
      "metadata": {
        "colab": {
          "base_uri": "https://localhost:8080/"
        },
        "id": "HZbng88puGi0",
        "outputId": "3de7117c-cee2-4adf-ad53-11e56fd8b96b"
      },
      "outputs": [],
      "source": [
        "pip install --upgrade pip"
      ]
    },
    {
      "cell_type": "code",
      "execution_count": null,
      "metadata": {
        "colab": {
          "base_uri": "https://localhost:8080/"
        },
        "id": "ppWyWao5uGi2",
        "outputId": "c6a2bd93-8129-47e9-8cd7-f20d6e01ad10"
      },
      "outputs": [],
      "source": [
        "pip install matplotlib"
      ]
    },
    {
      "cell_type": "code",
      "execution_count": null,
      "metadata": {
        "id": "NCAQ7SqIuGi3"
      },
      "outputs": [],
      "source": [
        "# we are using the inline backend\n",
        "# magic command Notebook jupyter dan jupyter Qtconsole\n",
        "\n",
        "%matplotlib inline\n",
        "\n",
        "import matplotlib as mpl\n",
        "import matplotlib.pyplot as plt"
      ]
    },
    {
      "cell_type": "code",
      "execution_count": null,
      "metadata": {
        "colab": {
          "base_uri": "https://localhost:8080/"
        },
        "id": "_pFS249uuGi5",
        "outputId": "9078a57c-00e8-481c-9dd9-2e5c7317f5e1"
      },
      "outputs": [],
      "source": [
        "print ('Matplotlib Version', mpl.__version__)"
      ]
    },
    {
      "cell_type": "code",
      "execution_count": null,
      "metadata": {
        "colab": {
          "base_uri": "https://localhost:8080/"
        },
        "id": "XGTHEKtmuGi6",
        "outputId": "670df108-13d2-4d71-d773-150ee4cf70ca"
      },
      "outputs": [],
      "source": [
        "print(plt.style.available)\n",
        "mpl.style.use(['ggplot'])"
      ]
    },
    {
      "cell_type": "markdown",
      "metadata": {
        "id": "WRre_Ha-uGi7"
      },
      "source": [
        "### Membuat DIagram Garis\n",
        "\n",
        "Diagram garis dapat dibuat dengan function plot()  , penggunaannya plot(x,y) , x dan y adalah pasangan data "
      ]
    },
    {
      "cell_type": "code",
      "execution_count": null,
      "metadata": {
        "colab": {
          "base_uri": "https://localhost:8080/",
          "height": 0
        },
        "id": "KuY2bQRCuGi8",
        "outputId": "9f1f01e6-d0a5-4ab1-9e35-a13f514589ef"
      },
      "outputs": [],
      "source": [
        "plt.plot([2,3,4,5],[20,25,16,11])  # data untuk x dan y ini bisa berupa list, numpy array dan tuple\n",
        "plt.show()"
      ]
    },
    {
      "cell_type": "markdown",
      "metadata": {
        "id": "j7jib-uYuGi9"
      },
      "source": [
        "### Membuat Title dan label dari sumbu x dan y"
      ]
    },
    {
      "cell_type": "code",
      "execution_count": null,
      "metadata": {
        "colab": {
          "base_uri": "https://localhost:8080/",
          "height": 0
        },
        "id": "VURmM3BIuGi-",
        "outputId": "d29c4654-3845-42c0-8655-40f405900761"
      },
      "outputs": [],
      "source": [
        "# kita akan menambahkam judul di dalam axes / grafik plot\n",
        "plt.plot([2,3,4,5],[20,25,16,11]) # data x dan y bisa berupa list, numpy array dan tuple\n",
        "plt.title('Judul Plot')\n",
        "plt.xlabel(\"Sumbu x\")\n",
        "plt.ylabel(\"sumbu y\")\n",
        "plt.show()"
      ]
    },
    {
      "cell_type": "markdown",
      "metadata": {
        "id": "sqMdsoSiuGjB"
      },
      "source": [
        "### Menyiapkan Figure dengan parameter figsize dalam satuan inchi"
      ]
    },
    {
      "cell_type": "code",
      "execution_count": null,
      "metadata": {
        "colab": {
          "base_uri": "https://localhost:8080/",
          "height": 0
        },
        "id": "MfV8BHspuGjC",
        "outputId": "1a079489-6d81-4dc5-c427-e3b446eb5557"
      },
      "outputs": [],
      "source": [
        "# Kita dapat mengatur ukuran dari figure dengan function figure() dengan menggunakan setingan faram pada figsize\n",
        "plt.figure(figsize=(7,4)) # satuan inch (x, y)\n",
        "plt.plot([2,3,4,5],[20,25,16,11])\n",
        "plt.title(\"Judul Plot\")\n",
        "plt.xlabel(\"Sumbu x\")\n",
        "plt.ylabel(\"Sumbu y\")\n",
        "plt.show()"
      ]
    },
    {
      "cell_type": "markdown",
      "metadata": {
        "id": "hBHLU_wPuGjE"
      },
      "source": [
        "### Garis, Default garis tidak terputus \"-\" dengan menggabungkan warna"
      ]
    },
    {
      "cell_type": "code",
      "execution_count": null,
      "metadata": {
        "colab": {
          "base_uri": "https://localhost:8080/",
          "height": 0
        },
        "id": "KMLMRn6EuGjF",
        "outputId": "393f1995-7de2-4c41-f504-452a8335775e"
      },
      "outputs": [],
      "source": [
        "plt.figure(figsize=(7,4))\n",
        "plt.plot([2,3,4,5],[20,25,16,11], \"b-\")\n",
        "plt.title(\"Judul Plot\")\n",
        "plt.xlabel(\"Sumbu x\")\n",
        "plt.ylabel(\"Sumbu y\")\n",
        "plt.show()"
      ]
    },
    {
      "cell_type": "markdown",
      "metadata": {
        "id": "oSMnnKGMuGjH"
      },
      "source": [
        "### Garis, Default garis terputus \"--\" dengan menggabungkan warna \"g--\""
      ]
    },
    {
      "cell_type": "code",
      "execution_count": null,
      "metadata": {
        "colab": {
          "base_uri": "https://localhost:8080/",
          "height": 0
        },
        "id": "tjXG-H-XuGjI",
        "outputId": "206a577f-e1be-4b45-a5ed-f946d32419dc"
      },
      "outputs": [],
      "source": [
        "# secara default garis tidak terputus \n",
        "plt.figure(figsize=(7,4))  # satuannya inch (x,y) \n",
        "plt.plot([2,3,4,5],[20,25,16,11],\"g--\")  # terputus \n",
        "plt.title(\"Judul Plot\")\n",
        "plt.xlabel(\"Sumbu X\")\n",
        "plt.ylabel(\"Sumbu y\")\n",
        "plt.show()"
      ]
    },
    {
      "cell_type": "markdown",
      "metadata": {
        "id": "WyPY43_TuGjK"
      },
      "source": [
        "### Grafik berupa titik/dot, dengan menggabungkan warna"
      ]
    },
    {
      "cell_type": "code",
      "execution_count": null,
      "metadata": {
        "colab": {
          "base_uri": "https://localhost:8080/",
          "height": 0
        },
        "id": "Ae8ruZ3wuGjL",
        "outputId": "74c428de-748b-412e-927c-4115fb22d43d"
      },
      "outputs": [],
      "source": [
        "# selain membuat garis pada plot bisa juga membuat grafik plot berupa titik \n",
        "plt.figure(figsize=(7,4))\n",
        "plt.plot([2,3,4,5],[20,25,16,11], \"bo\")\n",
        "plt.title(\"Judul Plot\")\n",
        "plt.xlabel(\"Sumbu x\")\n",
        "plt.ylabel(\"Sumbu y\")\n",
        "plt.show()"
      ]
    },
    {
      "cell_type": "markdown",
      "metadata": {
        "id": "ueVxYIKmuGjM"
      },
      "source": [
        "### Graafik berupa tanda x, dengan menggabungkan warna"
      ]
    },
    {
      "cell_type": "code",
      "execution_count": null,
      "metadata": {
        "colab": {
          "base_uri": "https://localhost:8080/",
          "height": 0
        },
        "id": "q2CGF30MuGjN",
        "outputId": "48c3d346-ebad-424e-aa51-3b591917c2a4"
      },
      "outputs": [],
      "source": [
        "plt.figure(figsize=(7,4))  # satuannya inch (x,y) \n",
        "plt.plot([2,3,4,5],[20,25,16,11],\"bx\")  # titik x \n",
        "plt.title(\"Judul Plot\")\n",
        "plt.xlabel(\"Sumbu X\")\n",
        "plt.ylabel(\"Sumbu y\")\n",
        "plt.show()"
      ]
    },
    {
      "cell_type": "markdown",
      "metadata": {
        "id": "rRYnEvDhuGjQ"
      },
      "source": [
        "### Grafik 2 buah bentuk dalam saru axes / grafik plot"
      ]
    },
    {
      "cell_type": "code",
      "execution_count": null,
      "metadata": {
        "colab": {
          "base_uri": "https://localhost:8080/",
          "height": 0
        },
        "id": "quHPNDqzuGjT",
        "outputId": "3fa75471-e231-47b6-904c-ec551657fad6"
      },
      "outputs": [],
      "source": [
        "# megabungkan 2 buah bentuk dalam satu axes / grafik plot \n",
        "# bentuk garis dan dot\n",
        "\n",
        "x = [2,3,4,5]\n",
        "y = [20,25,16,11]\n",
        "x = [2,3,4,5]\n",
        "y = [20,25,16,11]\n",
        "plt.plot(x,y,\"r--\",x,y,\"bo\")  # titik x \n",
        "plt.title(\"Judul Plot\")\n",
        "plt.xlabel(\"Sumbu X\")\n",
        "plt.ylabel(\"Sumbu y\")\n",
        "plt.show()"
      ]
    },
    {
      "cell_type": "markdown",
      "metadata": {
        "id": "-bLJDNspuGjW"
      },
      "source": [
        "### Grafik 2 buah bentuk dalam satu axes / grafik plot antara titik dan x"
      ]
    },
    {
      "cell_type": "code",
      "execution_count": null,
      "metadata": {
        "colab": {
          "base_uri": "https://localhost:8080/",
          "height": 0
        },
        "id": "mzvhp7pfuGjX",
        "outputId": "25032e0c-2d2b-454a-cf33-40708eb7ccd0"
      },
      "outputs": [],
      "source": [
        "import numpy as np\n",
        "x = np.array([1,2,3,4,5,6])\n",
        "y0 = 2 * x\n",
        "y1 = 2 ** x\n",
        "\n",
        "plt.plot(x,y0, \"rx\", x,y1, \"bo\")\n",
        "plt.title(\"Judul Plot\")\n",
        "plt.xlabel(\"Sumbu x\")\n",
        "plt.ylabel(\"Sumbu y\")\n",
        "plt.show()"
      ]
    },
    {
      "cell_type": "markdown",
      "metadata": {
        "id": "mSVK46IDuGjY"
      },
      "source": [
        "### Keterangan Grafik dengan legend"
      ]
    },
    {
      "cell_type": "code",
      "execution_count": null,
      "metadata": {
        "colab": {
          "base_uri": "https://localhost:8080/",
          "height": 0
        },
        "id": "-S00jPPwuGjZ",
        "outputId": "3d09dfcb-ed41-48f9-bc0d-03dbc64bd119"
      },
      "outputs": [],
      "source": [
        "# untuk memudahkan dalam membaca grafik kita menambahkan func legend = memberikan keterangan grafik plt \n",
        "x = np.array([1,2,3,4,5,6])\n",
        "y0 = 2 * x\n",
        "y1 = 2 ** x\n",
        "plt.plot(x,y0,\"r-\", x,y1,\"b--\")\n",
        "plt.title(\"Judul Plot\")\n",
        "plt.xlabel(\"Sumbu x\")\n",
        "plt.ylabel(\"Sumbu y\")\n",
        "plt.legend(['y0 = 2x', 'y1 = 2 ^ x'], loc='best') # lokasi yang terbaik\n",
        "plt.show()"
      ]
    },
    {
      "cell_type": "markdown",
      "metadata": {
        "id": "Kiart4-zuGjb"
      },
      "source": [
        "beberapa lokasi legend = \"upper right\" , \"upper left\" , \"lower left\" , \"right\" , \n",
        "\"center left\" , \"center right\" , \"lower center\" , \"uper center\" , \"center\""
      ]
    },
    {
      "cell_type": "markdown",
      "metadata": {
        "id": "B6VSB0_GuGjc"
      },
      "source": [
        "### Membuat Diagram Batang "
      ]
    },
    {
      "cell_type": "markdown",
      "metadata": {
        "id": "7i8ha2yyuGjd"
      },
      "source": [
        "Diagram batang atau diagram bar chart itu berbentuk persegi panjang \n",
        "biasanya di pakai untuk mengambarkan perkembangan nilai dari suatu objek \n",
        "diagram batang juga menampilkan beberapa description secara vertikal atau horizontal \n",
        "\n",
        "function yang digunakan bisa bar() dan barh() \n",
        "bar() untuk vertikal \n",
        "barh() untuk horizontal "
      ]
    },
    {
      "cell_type": "code",
      "execution_count": null,
      "metadata": {
        "colab": {
          "base_uri": "https://localhost:8080/",
          "height": 0
        },
        "id": "dGwkp8PMuGje",
        "outputId": "db239be3-20c7-4c05-89e0-05581395011b"
      },
      "outputs": [],
      "source": [
        "kelas = ['AA','BB','CC','DD','EE','FF']\n",
        "jumlah_mahasiswa = [20,30,15,40,45,50]\n",
        "plt.bar(kelas,jumlah_mahasiswa, color=\"red\")\n",
        "plt.title(\"Jumlah Mahasiswa Kampus XYZ\")\n",
        "plt.xlabel('Kelas')\n",
        "plt.ylabel('Jumlah')\n",
        "plt.show()"
      ]
    },
    {
      "cell_type": "code",
      "execution_count": null,
      "metadata": {
        "colab": {
          "base_uri": "https://localhost:8080/",
          "height": 0
        },
        "id": "Ybc0X9I3uGjf",
        "outputId": "5e46c045-d2d5-43a2-f60f-9626331ab180"
      },
      "outputs": [],
      "source": [
        "kelas = ['AA','BB','CC','DD','EE','FF']\n",
        "jumlah_mahasiswa = [20,30,15,40,45,50]\n",
        "plt.barh(kelas,jumlah_mahasiswa, color='red') # horizontal\n",
        "plt.title(\"Jumlah Mahasiswa Kampus XYZ\")\n",
        "plt.xlabel(\"Kelas\")\n",
        "plt.ylabel(\"Jumlah\") \n",
        "plt.show()"
      ]
    },
    {
      "cell_type": "markdown",
      "metadata": {
        "id": "jCy1S7SHuGjj"
      },
      "source": [
        "### Membuat Diagram Pie"
      ]
    },
    {
      "cell_type": "markdown",
      "metadata": {
        "id": "PkiG1w64uGjk"
      },
      "source": [
        "Diagram pie atau diagram pie chart meyajikan data menggunakan lingkaran \n",
        "\n",
        "Data yang ditampilkan biasanya dalam persentase data yang menginformasikan proporsi obyek suatu data terhadap keseluruhan data \n",
        "\n",
        "Jadi yang perlu kita ketahui itu besaran persentase data dan besaran sudut pusat sektor lingkaran \n",
        "\n",
        "untuk mengambarkannya menggunakan function pie()  , \n",
        "\n",
        "function pie() tidak mempunyai sumbu , parameter hanya satu x adalah nilai data yang diketahui pie(x) . \n",
        "\n",
        "Beberapa parameter  :\n",
        "\n",
        "* autopct  -> untuk menampilkan nilai persentase \n",
        "* label  -> menampilkan keterangan label pada setiap object \n",
        "* startangle  - > memutar posisi lingkaran "
      ]
    },
    {
      "cell_type": "code",
      "execution_count": null,
      "metadata": {
        "colab": {
          "base_uri": "https://localhost:8080/",
          "height": 0
        },
        "id": "eneJzksbuGjm",
        "outputId": "248d8c11-4890-4061-e5ff-bd32bc03128d"
      },
      "outputs": [],
      "source": [
        "# plt.pie?\n",
        "posisi = [\"Developer\", \"IT SUpport\", \"Network Engineer\", \"DevOps\",\"DBA\", \"Data Science\", \" Data Engineer\", \"QA Engineer\"]\n",
        "jumlah = [40,5,5,7,4,10,5,15]\n",
        "plt.pie(jumlah, autopct=\"%1.0f%%\", labels=posisi, startangle=60) # 60 derajat\n",
        "plt.axis('equal')\n",
        "plt.title(\"Departement Technology\")\n",
        "plt.show"
      ]
    },
    {
      "cell_type": "markdown",
      "metadata": {
        "id": "BFxoFD9ouGjn"
      },
      "source": [
        "### Membuat Histogram"
      ]
    },
    {
      "cell_type": "markdown",
      "metadata": {
        "id": "js7IJz0JuGjo"
      },
      "source": [
        "Histogram merupakan grafik yang menampilkan frekuensi data dalam bentuk diagram batang , \n",
        "\n",
        "sering digunakan dalam statistik atau probabilitas serta dasar dari berbagai macam distribusi statistik :  distribusi normal,  distribusi-t dll"
      ]
    },
    {
      "cell_type": "code",
      "execution_count": null,
      "metadata": {
        "colab": {
          "base_uri": "https://localhost:8080/",
          "height": 0
        },
        "id": "EfvSjgVguGjp",
        "outputId": "814a88e5-a483-4ced-ef5d-0b7d3bdfeaa6"
      },
      "outputs": [],
      "source": [
        "data = np.random.randn(1000)\n",
        "plt.hist(data,10)  # jumlah kelompok kelas data yang diinginkan \n",
        "plt.show()\n",
        "#menampilkan seperti kurva distibusi normal\n"
      ]
    },
    {
      "cell_type": "markdown",
      "metadata": {
        "id": "D3GdyHIQuGjq"
      },
      "source": [
        "### Membuat Scatter Plot"
      ]
    },
    {
      "cell_type": "markdown",
      "metadata": {
        "id": "uSAvaWtsuGjr"
      },
      "source": [
        "Scatter plot , scatter chart atau scatter diagram digunakan melihat sebaran data antara dua variabel \n",
        "\n",
        "Dengan melihat sebaran data , kita dapat mengetahui hubungan atau korelasi antara dua variabel tersebut \n",
        "\n",
        "Bisa menjadi korelasi positif negatif atau tidak ada korelasinya \n",
        "\n",
        "function scatter()  dengan scatter(x,y ) "
      ]
    },
    {
      "cell_type": "code",
      "execution_count": null,
      "metadata": {
        "colab": {
          "base_uri": "https://localhost:8080/",
          "height": 0
        },
        "id": "roSa8ULSuGjt",
        "outputId": "12670cbe-40b4-42bb-d611-f48407461b37"
      },
      "outputs": [],
      "source": [
        "tinggi =[163,178,170,168,170,162,164,175]\n",
        "berat = [81,85,76,65,85,75,80,69]\n",
        "plt.scatter(berat,tinggi)\n",
        "plt.xlim(60,90) # batas minimum dan maksimum berat\n",
        "plt.ylim(160,180) # batas minumum dan maksimum tinggi\n",
        "plt.xlabel(\"Berat\")\n",
        "plt.ylabel(\"Tinggi\")\n",
        "plt.show()"
      ]
    },
    {
      "cell_type": "markdown",
      "metadata": {
        "id": "04nyn6fEuGjz"
      },
      "source": [
        "### Menggabungkan beberapa grafik plot, 1 Figure"
      ]
    },
    {
      "cell_type": "markdown",
      "metadata": {
        "id": "41GzwHBbuGj0"
      },
      "source": [
        "dalam 1 figure kita bisa membuat beberapa grafik plot digunakan function subplot (m,n,i) \n",
        "subplot(m,n,i) \n",
        "parmeter m dan n  : sebagai dimensi dari grafik plot \n",
        "parameter i : sebagai urutuan dari grafik plot \n",
        "\n",
        "Contoh : \n",
        "4 Grafik secara vertikal \n",
        "subplot(4,1,i)  akan ada 4 grafik dalam 4 kolom \n",
        "4 Graifk secara horizonal 2 baris \n",
        "subplot(2,2,i) akan ada 2 grafik di baris 1 dan 2 grafik di bawahnya\n",
        "\n",
        "2 Graifk horizontal\n",
        "subplot(1,2,i)  akan ada 2 grafik dalam 1 baris "
      ]
    },
    {
      "cell_type": "code",
      "execution_count": null,
      "metadata": {
        "colab": {
          "base_uri": "https://localhost:8080/",
          "height": 0
        },
        "id": "JF2nxg-OuGj1",
        "outputId": "9bb0eeab-02e0-4ea6-a0bc-e11ca47f051b"
      },
      "outputs": [],
      "source": [
        "\n",
        "x = np.array([1,2,3,4,5,6])\n",
        "y0 = x ** 2\n",
        "y1 = x ** 3\n",
        "\n",
        "plt.subplot(1,2,1)\n",
        "plt.plot(x,y0, \"r-\")\n",
        "plt.title(\"Judul plot Y0\")\n",
        "plt.xlabel(\"Sumbu X\")\n",
        "plt.ylabel(\"Sumbu Y\")\n",
        "plt.legend([\"Y0 = x ^ 2\"])\n",
        "\n",
        "plt.subplot(1,2,2)\n",
        "plt.plot(x,y1,\"r--\")\n",
        "plt.title(\"Judul plot Y1\")\n",
        "plt.xlabel(\"Sumbu X\")\n",
        "plt.ylabel(\"Sumbu Y\")\n",
        "plt.legend([\"Y1 = x ^ 3\"])\n",
        "\n",
        "plt.suptitle(\"2 Grafik plot\")\n",
        "plt.show()\n"
      ]
    },
    {
      "cell_type": "code",
      "execution_count": null,
      "metadata": {
        "colab": {
          "base_uri": "https://localhost:8080/",
          "height": 0
        },
        "id": "cE7vb_6TuGj3",
        "outputId": "afd569cb-e715-4b79-941c-0cc0ff55db02"
      },
      "outputs": [],
      "source": [
        "x = np.array([1,2,3,4,5,6])\n",
        "y0 = x ** 2\n",
        "y1 = x ** 3\n",
        "\n",
        "plt.subplot(2,1,1)\n",
        "plt.plot(x,y0,\"r-\")\n",
        "plt.title(\"Judul plot Y0\")\n",
        "plt.xlabel(\"Sumbu X\")\n",
        "plt.ylabel(\"Sumbu y\")\n",
        "plt.legend([\"Y0 = x ^ 2\"])\n",
        "\n",
        "plt.subplot(2,1,2)\n",
        "plt.plot(x,y1,\"r--\")\n",
        "plt.title(\"Judul plot Y1\")\n",
        "plt.xlabel(\"Sumbu X\")\n",
        "plt.ylabel(\"Sumbu Y\")\n",
        "plt.legend([\"Y1 = x ^ 3\"])\n",
        "\n",
        "plt.suptitle(\"2 Grafik plot\")\n",
        "plt.show()"
      ]
    },
    {
      "cell_type": "markdown",
      "metadata": {
        "id": "ESE3D03MuGj4"
      },
      "source": [
        "### Plotting in pandas\n",
        "\n",
        "Untungnya, pandas memiliki implementasi Matplotlib bawaan yang dapat kita gunakan. Membuat plot di pandas semudah menambahkan metode .plot() ke series atau dataframe.\n",
        "\n",
        "Documentation:\n",
        "\n",
        "Plotting with Series\n",
        "Plotting with Dataframes"
      ]
    },
    {
      "cell_type": "markdown",
      "metadata": {
        "id": "9TmRYv2quGj6"
      },
      "source": [
        "### Line Pots (Series/Dataframe)\n",
        "\n",
        "What is a line plot and why use it?\n",
        "\n",
        "Bagan garis atau line plot adalah jenis plot yang menampilkan informasi sebagai rangkaian titik data yang disebut 'markers' yang dihubungkan oleh segmen garis lurus. Line Plot adalah tipe bagan dasar yang umum di banyak bidang. Gunakan line plot jika kalian memiliki kumpulan data continuous. Ini paling cocok untuk visualisasi data berbasis tren selama periode waktu tertentu.\n",
        "\n",
        "Let's start with a case study:\n",
        "\n",
        "Pada tahun 2010, Haiti mengalami bencana gempa bumi berkekuatan 7,0. Gempa tersebut menyebabkan kerusakan yang luas dan korban jiwa dan sekitar tiga juta orang terkena dampak bencana alam ini. Sebagai bagian dari upaya kemanusiaan Kanada, Pemerintah Kanada meningkatkan upayanya dalam menerima pengungsi dari Haiti. Kita dapat dengan cepat memvisualisasikan upaya ini menggunakan Line plot:\n",
        "\n",
        "Question: Plot a line graph of immigration from Haiti using df.plot().\n",
        "\n",
        "Pertama, kita akan mengekstrak series data untuk Haiti."
      ]
    },
    {
      "cell_type": "markdown",
      "metadata": {
        "id": "9SK0Ig6EuGj6"
      },
      "source": [
        "### Kembali ke data awal df_can"
      ]
    },
    {
      "cell_type": "code",
      "execution_count": null,
      "metadata": {
        "colab": {
          "base_uri": "https://localhost:8080/"
        },
        "id": "P_tHW3-ouGj7",
        "outputId": "e93e632f-64d1-448c-db4d-31631a977b30"
      },
      "outputs": [],
      "source": [
        "haiti = df_can.loc['Haiti', years]  #passing in years 1980 -2013 to exclude the 'total' column\n",
        "haiti.head()"
      ]
    },
    {
      "cell_type": "code",
      "execution_count": null,
      "metadata": {
        "colab": {
          "base_uri": "https://localhost:8080/"
        },
        "id": "sJvftGFguGj8",
        "outputId": "a2ecdffb-0159-47eb-e933-d7521d25779c"
      },
      "outputs": [],
      "source": [
        "haiti.index"
      ]
    },
    {
      "cell_type": "code",
      "execution_count": null,
      "metadata": {
        "colab": {
          "base_uri": "https://localhost:8080/"
        },
        "id": "dP7s5xtZuGj9",
        "outputId": "2924c1bd-9c6a-4afc-fe47-43f6ca33db57"
      },
      "outputs": [],
      "source": [
        "haiti.values"
      ]
    },
    {
      "cell_type": "code",
      "execution_count": null,
      "metadata": {
        "colab": {
          "base_uri": "https://localhost:8080/"
        },
        "id": "I_Ls_dzluGj-",
        "outputId": "acf6be59-2f57-41c6-ef46-ee33c8f345c9"
      },
      "outputs": [],
      "source": [
        "print(haiti)"
      ]
    },
    {
      "cell_type": "markdown",
      "metadata": {
        "id": "W7AEx80YuGj_"
      },
      "source": [
        "Selanjutnya, kita akan memplot plot garis dengan menambahkan .plot() ke haiti dataframe."
      ]
    },
    {
      "cell_type": "code",
      "execution_count": null,
      "metadata": {
        "colab": {
          "base_uri": "https://localhost:8080/",
          "height": 0
        },
        "id": "Y3PpYjBOuGkA",
        "outputId": "83a3e34a-7e35-4542-84fd-4d5096af3d1a"
      },
      "outputs": [],
      "source": [
        "haiti.plot()"
      ]
    },
    {
      "cell_type": "markdown",
      "metadata": {
        "id": "O1x98SejuGkA"
      },
      "source": [
        "pandas secara otomatis mengisi sumbu x dengan nilai indeks (years), dan sumbu y dengan nilai kolom (population). Namun, perhatikan bagaimana tahun tidak ditampilkan karena merupakan tipe string. Oleh karena itu, mari kita ubah jenis nilai indeks menjadi integer untuk plot.\n",
        "\n",
        "Juga, mari beri label sumbu x dan y menggunakan plt.title(), plt.ylabel(), dan plt.xlabel() sebagai berikut:"
      ]
    },
    {
      "cell_type": "code",
      "execution_count": null,
      "metadata": {
        "colab": {
          "base_uri": "https://localhost:8080/",
          "height": 0
        },
        "id": "5DSXK6X4uGkB",
        "outputId": "86a70cb3-15c7-4ecd-b627-f9135f641ff0"
      },
      "outputs": [],
      "source": [
        "haiti.index = haiti.index.map(int) #let's change the index values of Haiti to type integer for plotting\n",
        "haiti.plot(kind='line')\n",
        "\n",
        "plt.title('Imigration from Haiti')\n",
        "plt.xlabel('Years')\n",
        "plt.ylabel('Number of imigrations')\n",
        "\n",
        "plt.show()"
      ]
    },
    {
      "cell_type": "code",
      "execution_count": null,
      "metadata": {
        "colab": {
          "base_uri": "https://localhost:8080/",
          "height": 0
        },
        "id": "vukif1rDuGkE",
        "outputId": "39e8187c-a580-473d-96ca-0f40b1f1fb07"
      },
      "outputs": [],
      "source": [
        "haiti.plot(kind='line')\n",
        "\n",
        "plt.title('Immigration from Haiti')\n",
        "plt.ylabel('Number of Immigrants')\n",
        "plt.xlabel('Years')\n",
        "\n",
        "# annotate the 2010 Earthquake. \n",
        "# syntax: plt.text(x, y, label)\n",
        "plt.text(2000, 6000, '2010 Earthquake') # see note below\n",
        "\n",
        "plt.show() "
      ]
    },
    {
      "cell_type": "markdown",
      "metadata": {
        "id": "xmn8dDLEuGkF"
      },
      "source": [
        "Hanya dengan beberapa baris kode, kalian dapat dengan cepat mengidentifikasi dan memvisualisasikan lonjakan imigrasi!\n",
        "\n",
        "Catatan singkat tentang nilai x dan y di plt.text(x, y, label):\n",
        "\n",
        "Karena sumbu x (tahun) adalah tipe 'bilangan bulat', kami menetapkan x sebagai tahun. \n",
        "\n",
        "Sumbu y (jumlah pendatang) bertipe 'bilangan bulat', jadi kita tinggal menentukan nilai y = 6000.\n",
        "\n",
        "    plt.text(2000, 6000, '2010 Earthquake') # years stored as type int\n",
        "\n",
        "Jika tahun disimpan sebagai tipe 'string', kita perlu menentukan x sebagai posisi indeks tahun tersebut. Misalnya indeks ke-20 adalah tahun 2000 karena merupakan tahun ke-20 dengan tahun dasar 1980.\n",
        "\n",
        "    plt.text(20, 6000, '2010 Earthquake') # years stored as type int\n"
      ]
    },
    {
      "cell_type": "markdown",
      "metadata": {
        "id": "8TsxnTnfuGkH"
      },
      "source": [
        "We will cover advanced annotation methods in later session."
      ]
    },
    {
      "cell_type": "markdown",
      "metadata": {
        "id": "kd5apmq6uGkI"
      },
      "source": [
        "Kita dapat dengan mudah menambahkan lebih banyak negara ke plot garis untuk membuat perbandingan imigrasi dari berbagai negara.\n",
        "\n",
        "Pertanyaan: Mari kita bandingkan jumlah imigran dari India dan China dari tahun 1980 hingga 2013.\n",
        "\n",
        "Step 1: Dapatkan kumpulan data untuk China dan India, dan tampilkan dataframe.\n"
      ]
    },
    {
      "cell_type": "code",
      "execution_count": null,
      "metadata": {
        "colab": {
          "base_uri": "https://localhost:8080/",
          "height": 0
        },
        "id": "fay7WDgZuGkK",
        "outputId": "8c896222-8a6f-4cb2-8ab9-2fc76070c0b1"
      },
      "outputs": [],
      "source": [
        "China_India = df_can.loc[['China', 'India'], years]\n",
        "China_India"
      ]
    },
    {
      "cell_type": "markdown",
      "metadata": {
        "id": "Y3inOtX7uGkL"
      },
      "source": [
        "Step 2: Plotting grafiknya. Kita akan secara eksplisit membuat line plot dengan meneruskan parameter kind ke plot()."
      ]
    },
    {
      "cell_type": "code",
      "execution_count": null,
      "metadata": {
        "colab": {
          "base_uri": "https://localhost:8080/",
          "height": 0
        },
        "id": "HAJ--iV1uGkL",
        "outputId": "5e59a5c1-8ccd-4d25-c1d0-42f94a0fd6f0"
      },
      "outputs": [],
      "source": [
        "# type tour answer here\n",
        "China_India.plot(kind='line')"
      ]
    },
    {
      "cell_type": "markdown",
      "metadata": {
        "id": "-NspaDAjuGkM"
      },
      "source": [
        "Kelihatannya tidak benar...\n",
        "\n",
        "Ingatlah bahwa pandas memplot indeks pada sumbu x dan kolom sebagai garis individu pada sumbu y. Karena df_CI adalah dataframe dengan country sebagai indeks dan years sebagai kolom, pertama-tama kita harus mengubah susunan kerangka data menggunakan metode transpose() untuk menukar baris dan kolom."
      ]
    },
    {
      "cell_type": "code",
      "execution_count": null,
      "metadata": {
        "colab": {
          "base_uri": "https://localhost:8080/",
          "height": 0
        },
        "id": "jHUhxvTruGkN",
        "outputId": "7b61e8d5-052f-4a47-d6bb-2db00a7c4fd1"
      },
      "outputs": [],
      "source": [
        "df_CI = China_India.transpose()\n",
        "df_CI.head()"
      ]
    },
    {
      "cell_type": "markdown",
      "metadata": {
        "id": "zjefC2c-uGkY"
      },
      "source": [
        "pandas secara otomatis akan membuat grafik kedua negara pada grafik yang sama. Lanjutkan dan plot kerangka data baru yang sudah ditranspose. Pastikan untuk menambahkan judul ke plot dan memberi label pada sumbu."
      ]
    },
    {
      "cell_type": "code",
      "execution_count": null,
      "metadata": {
        "colab": {
          "base_uri": "https://localhost:8080/",
          "height": 0
        },
        "id": "uNc81bUkuGkZ",
        "outputId": "b885e999-296c-4f46-9301-9545a94000e3"
      },
      "outputs": [],
      "source": [
        "df_CI.plot(kind='line')\n",
        "plt.title('Imigrants from China and India')\n",
        "plt.ylabel('Number of Imigrants')\n",
        "plt.xlabel('Years')\n",
        "plt.show()"
      ]
    },
    {
      "cell_type": "markdown",
      "metadata": {
        "id": "ACzSXt0BuGka"
      },
      "source": [
        "Dari plot di atas, kita dapat mengamati bahwa China dan India memiliki tren imigrasi yang sangat mirip selama bertahun-tahun.\n",
        "\n",
        "Line plot adalah alat praktis untuk menampilkan beberapa variabel dependen terhadap satu variabel independen. Namun, disarankan tidak lebih dari 5-10 garis pada satu grafik; lebih dari itu dan menjadi sulit untuk ditafsirkan.\n",
        "\n",
        "Question: Compare the trend of top 5 countries that contributed the most to immigration to Canada.\n",
        "\n",
        "\n"
      ]
    },
    {
      "cell_type": "code",
      "execution_count": null,
      "metadata": {
        "id": "WkDg-df9uGkb"
      },
      "outputs": [],
      "source": [
        "df_can.sort_values(by='Total', ascending=False, axis=0, inplace=True)\n"
      ]
    },
    {
      "cell_type": "code",
      "execution_count": null,
      "metadata": {
        "id": "l6Ye_ZLwuGkc"
      },
      "outputs": [],
      "source": [
        "df_top5 = df_can.head(5)"
      ]
    },
    {
      "cell_type": "code",
      "execution_count": null,
      "metadata": {
        "id": "pgYTsY5VuGke"
      },
      "outputs": [],
      "source": [
        "df_top5 = df_top5[years].transpose()"
      ]
    },
    {
      "cell_type": "code",
      "execution_count": null,
      "metadata": {
        "id": "Ev0t4pRAuGkf"
      },
      "outputs": [],
      "source": [
        "df_top5.index = df_top5.index.map(int)"
      ]
    },
    {
      "cell_type": "code",
      "execution_count": null,
      "metadata": {
        "colab": {
          "base_uri": "https://localhost:8080/",
          "height": 0
        },
        "id": "cZ7qyw4LuGkg",
        "outputId": "76996867-1444-4437-f7d1-09d9dd02684e"
      },
      "outputs": [],
      "source": [
        "df_top5.plot(kind='line', figsize=(14,8))\n",
        "plt.title('Immigration Trend of Top 5 COuntries')\n",
        "plt.ylabel('Number of Immigrants')\n",
        "plt.xlabel('Years')\n",
        "plt.show()"
      ]
    },
    {
      "cell_type": "markdown",
      "metadata": {
        "id": "hem9vQuEuGkh"
      },
      "source": [
        "### Area Plots"
      ]
    },
    {
      "cell_type": "markdown",
      "metadata": {
        "id": "Q72ZEufVuGki"
      },
      "source": [
        "Kita telah membuat plot garis yang mempisualisasikan 5 negara teratas yang menyummbangkan paling banyak imigran ke kanada dari 1980 hinga 2013. Dengan sedikit modifikasi pda kode, kita dapat mempisualisasikan pot ini sebagai xommulative plot, juga di kenala sebagai Stacked Line Plot atau Aarea plot"
      ]
    },
    {
      "cell_type": "code",
      "execution_count": null,
      "metadata": {
        "colab": {
          "base_uri": "https://localhost:8080/",
          "height": 0
        },
        "id": "vPjiJAKCuGkl",
        "outputId": "1d7d3fe6-fcc2-4092-da3b-58b910bd4b0b"
      },
      "outputs": [],
      "source": [
        "df_can.sort_values(['Total'], ascending=False, axis=0, inplace=True)\n",
        "#get the top 5 entries\n",
        "df_top5 = df_can.head()\n",
        "\n",
        "#transpose the dataframe\n",
        "df_top5 = df_top5[years].transpose()\n",
        "\n",
        "df_top5.head()"
      ]
    },
    {
      "cell_type": "markdown",
      "metadata": {
        "id": "uzu5bj5TuGkm"
      },
      "source": [
        "Area plot ter-stacked secara default, untuk menghasilakn satacked area polt, setiap kolom harus semua berupa nilai positif atau semua nilai negatif(nilai NaN akan di defaultkan secara default ke 0)\n",
        "untuk menghasilkan unstacked plot, berikan 'stacked=False'"
      ]
    },
    {
      "cell_type": "code",
      "execution_count": null,
      "metadata": {
        "colab": {
          "base_uri": "https://localhost:8080/",
          "height": 0
        },
        "id": "m9ft9caXuGko",
        "outputId": "ce210b6a-aae5-4110-952c-ddd6998ec018"
      },
      "outputs": [],
      "source": [
        "df_top5.index = df_top5.index.map(int) # let's change the index values of df_top5 to type integer for plotting\n",
        "\n",
        "df_top5.plot(kind='area',\n",
        "             stacked=False,\n",
        "             figsize=(20,10)) # pass a tuple (x,y) size\n",
        "\n",
        "plt.title('Immigration Trend of Top 5 Countries')\n",
        "plt.ylabel('Number of Immigration')\n",
        "plt.xlabel('Years')\n",
        "plt.show()"
      ]
    },
    {
      "cell_type": "markdown",
      "metadata": {
        "id": "WcsEK5cwuGkp"
      },
      "source": [
        "plot unstacked memiliki transparansi default(alpha value) sebesar 0,5. Kita dapat mengubah nilai ini dengan memasukan parameter alpha"
      ]
    },
    {
      "cell_type": "code",
      "execution_count": null,
      "metadata": {
        "colab": {
          "base_uri": "https://localhost:8080/",
          "height": 0
        },
        "id": "uUmd20nOuGkr",
        "outputId": "0ca0da0e-d4ee-4610-8a58-08694df6033a"
      },
      "outputs": [],
      "source": [
        "df_top5.plot(kind='area',\n",
        "             alpha=0.25,\n",
        "             stacked=False,\n",
        "             figsize=(20,10)) # pass a tuple (x,y) size\n",
        "\n",
        "plt.title('Immigration Trend of Top 5 Countries')\n",
        "plt.ylabel('Number of Immigration')\n",
        "plt.xlabel('Years')\n",
        "plt.show()"
      ]
    },
    {
      "cell_type": "markdown",
      "metadata": {
        "id": "0j36o_LRuGks"
      },
      "source": [
        "### Two types of plotting"
      ]
    },
    {
      "cell_type": "markdown",
      "metadata": {
        "id": "-cBAvLW2uGkt"
      },
      "source": [
        "Ada dua gaya / pilihan membuat plot dengman matplotlib. Membuat plot menggunakan Artist layer dan membuat plot menggunakan scripting layer.\n",
        "\n",
        "**Option 1: Scripting layer (procedural method) - using matplotlib.pyplot as 'plt' **\n",
        "\n",
        "Kita dapat menggunakan plt yaitu matmplotlib.pyplot dan menambahkan lebih banyak elemen dengan memanggil metode yang berbeda secara prosedural; \n",
        "\n",
        "misalnya, plt.title(...) untuk menambahkan judul atau plt.xlabel(...) untuk menambahkan label ke sumbu x."
      ]
    },
    {
      "cell_type": "code",
      "execution_count": null,
      "metadata": {
        "colab": {
          "base_uri": "https://localhost:8080/",
          "height": 0
        },
        "id": "iXoW0cPWuGkz",
        "outputId": "90786580-1dc8-4ed6-b4cc-f71ae1d12284"
      },
      "outputs": [],
      "source": [
        "# Option 1: This is what we have been using so far\n",
        "df_top5.plot(kind='area',alpha=0.35,figsize=(20,10)) # pass a tuple (x,y) size\n",
        "\n",
        "plt.title('Immigration Trend of Top 5 Countries')\n",
        "plt.ylabel('Number of Immigration')\n",
        "plt.xlabel('Years')\n",
        "plt.show()"
      ]
    },
    {
      "cell_type": "markdown",
      "metadata": {
        "id": "k3R1L-2RuGk3"
      },
      "source": [
        "**Option 2: Artist layer (Object oriented method) - using an Axes instance from Matplotlib (preferred) **\n",
        "\n",
        "Kita dapat menggunakan instance Axes dari plot kita saat ini dan menyimpannya dalam variabel (misalnya ax).\n",
        "\n",
        "Kita dapat menambahkan lebih banyak elemen dengan memanggil metode dengan sedikit perubahan dalam sintaks (dengan menambahkan \"set_\" ke metode sebelumnya). \n",
        "\n",
        "Misalnya, gunakan ax.set_title() sebagai ganti plt.title() untuk menambahkan judul, atau ax.set_xlabel() sebagai ganti plt.xlabel() untuk menambahkan label ke sumbu x.\n",
        "\n",
        "Opsi ini terkadang lebih transparan dan fleksibel untuk digunakan pada plot tingkat lanjut (khususnya jika memiliki banyak plot, seperti yang akan kita lihat nanti).\n",
        "\n",
        "Di sesi ini, kita akan tetap menggunakan scripting layer, kecuali untuk beberapa visualisasi lanjutan di mana kita perlu menggunakan artist layer untuk memanipulasi aspek lanjutan dari plot."
      ]
    },
    {
      "cell_type": "code",
      "execution_count": null,
      "metadata": {
        "colab": {
          "base_uri": "https://localhost:8080/",
          "height": 0
        },
        "id": "_0-mMef-uGk4",
        "outputId": "afdeb028-acde-439b-f620-14df64e9ffc0"
      },
      "outputs": [],
      "source": [
        "# option 2: preferd option with more flexibility\n",
        "df_top5.plot(kind='area',alpha=0.35,figsize=(20,10)) # pass a tuple (x,y) size\n",
        "\n",
        "plt.title('Immigration Trend of Top 5 Countries')\n",
        "plt.ylabel('Number of Immigration')\n",
        "plt.xlabel('Years')\n",
        "plt.show()"
      ]
    },
    {
      "cell_type": "markdown",
      "metadata": {
        "id": "opEr07w3uGk5"
      },
      "source": [
        "Pertanyaan: Gunakan lapisan skrip untuk membuat plot area bertumpuk dari 5 negara yang berkontribusi paling sedikit terhadap imigrasi ke Kanada dari tahun 1980 hingga 2013. Gunakan nilai transparansi 0,45."
      ]
    },
    {
      "cell_type": "code",
      "execution_count": null,
      "metadata": {
        "colab": {
          "base_uri": "https://localhost:8080/",
          "height": 0
        },
        "id": "ppNtBCTLuGk7",
        "outputId": "122d8cff-8d7d-49bd-e66c-d01b2b33dd02"
      },
      "outputs": [],
      "source": [
        "# type your answer here\n",
        "df_least5 = df_can.tail(5)\n",
        "df_least5 = df_least5[years].transpose()\n",
        "\n",
        "df_least5.plot(kind='area',\n",
        "               alpha = 0.45,\n",
        "               stacked=True,\n",
        "               figsize =(20,10))\n",
        "\n",
        "plt.title('Immigration Trend of Top 5 Countries')\n",
        "plt.ylabel('Number of Immigration')\n",
        "plt.xlabel('Years')\n",
        "plt.show()"
      ]
    },
    {
      "cell_type": "markdown",
      "metadata": {
        "id": "LPsKTxeruGlJ"
      },
      "source": [
        "Pertanyaan: Gunakan layer artis untuk membuat plot area yang tidak ditumpuk dari 5 negara yang berkontribusi paling sedikit terhadap imigrasi ke Kanada dari tahun 1980 hingga 2013. Gunakan nilai transparansi 0,55."
      ]
    },
    {
      "cell_type": "code",
      "execution_count": null,
      "metadata": {
        "colab": {
          "base_uri": "https://localhost:8080/",
          "height": 0
        },
        "id": "IFov7n42uGlL",
        "outputId": "81614527-464d-427d-bfed-a4ca50d3f98c"
      },
      "outputs": [],
      "source": [
        "ax = df_least5.plot(kind='area',alpha = 0.45,figsize =(20,10))\n",
        "\n",
        "plt.title('Immigration Trend of Top 5 Countries')\n",
        "plt.ylabel('Number of Immigration')\n",
        "plt.xlabel('Years')\n",
        "plt.show()"
      ]
    },
    {
      "cell_type": "markdown",
      "metadata": {
        "id": "-B1CJUt-uGlP"
      },
      "source": [
        "### Histogram"
      ]
    },
    {
      "cell_type": "markdown",
      "metadata": {
        "id": "dcnLelXPuGla"
      },
      "source": [
        "Histogram adalah cara untuk merepresentasikan distribusi frekuensi dari dataset numerik. \n",
        "\n",
        "Cara kerjanya adalah mempartisi sumbu x menjadi beberapa bin, \n",
        "\n",
        "menetapkan setiap titik data dalam kumpulan data kita ke sebuah bin, \n",
        "\n",
        "dan kemudian menghitung jumlah titik data yang telah ditetapkan ke setiap bin. \n",
        "\n",
        "Jadi sumbu y adalah frekuensi atau banyaknya titik data pada setiap bin. \n",
        "\n",
        "Note bahwa kita dapat mengubah ukuran bin dan biasanya kita perlu menyesuaikannya agar distribusinya ditampilkan dengan baik.\n",
        "\n",
        "Pertanyaan: Bagaimana distribusi frekuensi jumlah (penduduk) imigran baru dari berbagai negara ke Kanada pada tahun 2013?\n",
        "\n",
        "Sebelum kita melanjutkan dengan membuat plot histogram, \n",
        "\n",
        "pertama-tama mari kita periksa data yang akan dibagi menjadi beberapa interval. \n",
        "\n",
        "Untuk melakukan ini, kami akan menggunakan metode Numpy's histrogram untuk mendapatkan range bin dan jumlah frekuensi sebagai berikut:"
      ]
    },
    {
      "cell_type": "code",
      "execution_count": null,
      "metadata": {
        "colab": {
          "base_uri": "https://localhost:8080/"
        },
        "id": "haQRXfa6uGlc",
        "outputId": "431190ae-2a3c-4ece-d13f-b8f172486e78"
      },
      "outputs": [],
      "source": [
        "df_can['2013'].head()"
      ]
    },
    {
      "cell_type": "code",
      "execution_count": null,
      "metadata": {
        "colab": {
          "base_uri": "https://localhost:8080/"
        },
        "id": "ROZBB8D3uGld",
        "outputId": "65e00d6a-e810-4bf4-eb52-1df2c814f8aa"
      },
      "outputs": [],
      "source": [
        "#np.histogram returns 2 values\n",
        "count, bin_edges = np.histogram(df_can['2013'])\n",
        "\n",
        "print(count) #frequency count\n",
        "print(bin_edges) # bin ranges, default = 10 bins"
      ]
    },
    {
      "cell_type": "markdown",
      "metadata": {
        "id": "3mmhm3tOuGli"
      },
      "source": [
        "Secara default, metode histrogram memecah dataset menjadi 10 bin. Gambar di bawah ini merangkum kisaran bin dan distribusi frekuensi imigrasi di tahun 2013. Dapat kita lihat di tahun 2013:\n",
        "\n",
        "178 negara menyumbang antara 0 hingga 3412,9 imigran\n",
        "11 negara menyumbang antara 3412,9 hingga 6825,8 imigran\n",
        "1 negara menyumbang antara 6285,8 hingga 10238,7 imigran, dan seterusnya..\n",
        "Kita dapat dengan mudah membuat grafik distribusi ini dengan menyimpan kind=hist ke plot()."
      ]
    },
    {
      "cell_type": "code",
      "execution_count": null,
      "metadata": {
        "colab": {
          "base_uri": "https://localhost:8080/",
          "height": 353
        },
        "id": "pKt-m9k2uGlj",
        "outputId": "9170e4cb-b7db-4f37-cc6e-ae8fcf67481a"
      },
      "outputs": [],
      "source": [
        "df_can['2013'].plot(kind='hist', figsize=(8,5))\n",
        "plt.title('Histogram of immigration from 195 countries in 2013')\n",
        "plt.ylabel('Number of Countries')\n",
        "plt.xlabel('Number of immigrant')\n",
        "plt.show()"
      ]
    },
    {
      "cell_type": "markdown",
      "metadata": {
        "id": "qBvXpcljuGlk"
      },
      "source": [
        "Pada plot di atas, sumbu x menunjukkan kisaran populasi imigran dalam interval 3412,9. Sumbu y mewakili jumlah negara yang berkontribusi pada populasi tersebut.\n",
        "\n",
        "Perhatikan bahwa label sumbu x tidak cocok dengan ukuran bin. Hal ini dapat diperbaiki dengan memasukkan  xticks yang berisi daftar ukuran bin, sebagai berikut:\n"
      ]
    },
    {
      "cell_type": "code",
      "execution_count": null,
      "metadata": {
        "id": "4Ve8lrQbuGll"
      },
      "outputs": [],
      "source": [
        "import numpy as np"
      ]
    },
    {
      "cell_type": "code",
      "execution_count": null,
      "metadata": {
        "colab": {
          "base_uri": "https://localhost:8080/",
          "height": 693
        },
        "id": "ORsKE7hHuGlo",
        "outputId": "21220077-1863-488e-e1a5-77d5093e41f0"
      },
      "outputs": [],
      "source": [
        "count, bin_edges = np.histogram(df_can['2013'])\n",
        "\n",
        "df_can['2013'].plot(kind='hist', figsize=(8, 5), xticks = bin_edges)\n",
        "\n",
        "plt.title('Histogram of immigration from 195 countries in 2013')\n",
        "plt.ylabel('Number of Countries')\n",
        "plt.xlabel('Number of immigrant')\n",
        "plt.show()"
      ]
    },
    {
      "cell_type": "markdown",
      "metadata": {
        "id": "8WzFmz_muGlp"
      },
      "source": [
        "Side Note: Kita bisa menggunakan df_can['2013'].plot.hist(), sebagai gantinya. Faktanya, sepanjang sesi ini, menggunakan some_data.plot(kind='type_plot', ...) sama dengan some_data.plot.type_plot(...). Artinya, meneruskan tipe plot sebagai argumen atau metode akan berperilaku sama.\n",
        "\n",
        "Lihat dokumentasi pandas untuk info selengkapnya http://pandas.pydata.org/pandas-docs/stable/generated/pandas.Series.plot.html.\n",
        "\n",
        "Kita juga dapat memplot beberapa histogram pada plot yang sama. Sebagai contoh, mari kita coba menjawab pertanyaan-pertanyaan berikut ini dengan menggunakan histogram.\n",
        "\n",
        "Pertanyaan: Bagaimana distribusi imigrasi untuk Denmark, Norwegia, dan Swedia untuk tahun 1980 - 2013?"
      ]
    },
    {
      "cell_type": "code",
      "execution_count": null,
      "metadata": {
        "colab": {
          "base_uri": "https://localhost:8080/",
          "height": 172
        },
        "id": "IkEorCTLuGlr",
        "outputId": "505c6213-9343-4d33-d633-342c147d69c3"
      },
      "outputs": [],
      "source": [
        "df_can.loc[['Denmark','Norway','Sweden'], years]"
      ]
    },
    {
      "cell_type": "code",
      "execution_count": null,
      "metadata": {
        "colab": {
          "base_uri": "https://localhost:8080/",
          "height": 583
        },
        "id": "54_1y_q8voWK",
        "outputId": "37ca65f1-5079-4fab-cf6a-84bb01a307cd"
      },
      "outputs": [],
      "source": [
        "# Generate histogram\n",
        "df_can.loc[['Denmark', 'Norway', 'Sweden'],years].plot.hist()"
      ]
    },
    {
      "cell_type": "markdown",
      "metadata": {
        "id": "862S0AfowDb5"
      },
      "source": [
        "Kelihatannya tidak benar!\n",
        "Splusinya sering kali terletak pada bagaimana kumpulan data yang mendasarinya di susun\n",
        "\n",
        "Alih-alih memplot distribusi frekuensi papulasi untuk 3 negara, pandas malah memplot distribusi frekuensi untuk years\n",
        "\n",
        "Kita akan perbaiki dengan terlebih dahulu mengubah ururtan dataset dan kemudian memplot seperti dibawah ini\n"
      ]
    },
    {
      "cell_type": "code",
      "execution_count": null,
      "metadata": {
        "colab": {
          "base_uri": "https://localhost:8080/",
          "height": 206
        },
        "id": "8iQDbs3YwGgq",
        "outputId": "8f4425c8-c8c4-4e5f-ff12-a50c9e612383"
      },
      "outputs": [],
      "source": [
        "#trasnform dataframe\n",
        "df_t = df_can.loc[['Denmark', 'Norway','Sweden'],years].transpose()\n",
        "df_t.head()"
      ]
    },
    {
      "cell_type": "code",
      "execution_count": null,
      "metadata": {
        "colab": {
          "base_uri": "https://localhost:8080/",
          "height": 407
        },
        "id": "6yHd4lOFw7K0",
        "outputId": "26033686-6032-4f81-8a52-f6f006bf0a18"
      },
      "outputs": [],
      "source": [
        "# Genearate histogram]\n",
        "df_t.plot(kind='hist', figsize=(10,6))\n",
        "\n",
        "plt.title('Histogram of immigration from 195 countries in 2013')\n",
        "plt.ylabel('Number of Countries')\n",
        "plt.xlabel('Number of immigrant')\n",
        "plt.show()"
      ]
    },
    {
      "cell_type": "markdown",
      "metadata": {
        "id": "8oRn906Bxjab"
      },
      "source": [
        "Mari buat beberapa modifikasi untuk meningkatkan impact dan estetika dari plot sebelumnya:\n",
        "\n",
        "tingkatkan ukuran bin menjadi 15 dengan meneruskan parameter bins\n",
        "atur transparansi menjadi 60% dengan meneruskan parameter alfa\n",
        "beri label sumbu x dengan melewatkan parameter label-x\n",
        "ubah warna plot dengan memasukkan parameter warna\n"
      ]
    },
    {
      "cell_type": "code",
      "execution_count": null,
      "metadata": {
        "colab": {
          "base_uri": "https://localhost:8080/"
        },
        "id": "WrODji0RxKUe",
        "outputId": "1f00ee66-6a86-4a41-c6de-a89326238939"
      },
      "outputs": [],
      "source": [
        "df_t.info()"
      ]
    },
    {
      "cell_type": "code",
      "execution_count": null,
      "metadata": {
        "colab": {
          "base_uri": "https://localhost:8080/"
        },
        "id": "rMp8rQ3zw7Gy",
        "outputId": "9c2cb444-44fa-47d3-942c-48b6191cbbb3"
      },
      "outputs": [],
      "source": [
        "count, bin_edges = np.histogram(df_t, 15)\n",
        "print(count)\n",
        "print(bin_edges)"
      ]
    },
    {
      "cell_type": "code",
      "execution_count": null,
      "metadata": {
        "colab": {
          "base_uri": "https://localhost:8080/",
          "height": 693
        },
        "id": "M4EcCSNNw6_v",
        "outputId": "2dadd097-286c-4874-ff2b-d68c02aa01ba"
      },
      "outputs": [],
      "source": [
        "df_t.plot(kind ='hist', \n",
        "          figsize=(10, 6),\n",
        "          bins=15,\n",
        "          alpha=0.6,\n",
        "          xticks=bin_edges,\n",
        "          color=['coral', 'darkslateblue', 'mediumseagreen']\n",
        "         )\n",
        "\n",
        "plt.title('Histogram of Immigration from Denmark, Norway, and Sweden from 1980 - 2013')\n",
        "plt.ylabel('Number of Years')\n",
        "plt.xlabel('Number of Immigrants')\n",
        "\n",
        "plt.show()"
      ]
    },
    {
      "cell_type": "code",
      "execution_count": null,
      "metadata": {
        "colab": {
          "base_uri": "https://localhost:8080/"
        },
        "id": "L-VgJEaWyAFQ",
        "outputId": "3aa0ab7a-0dbd-49d4-9975-f85bd52a3c95"
      },
      "outputs": [],
      "source": [
        "import matplotlib\n",
        "for name, hex in matplotlib.colors.cnames.items():\n",
        "    print(name, hex)"
      ]
    },
    {
      "cell_type": "code",
      "execution_count": null,
      "metadata": {
        "colab": {
          "base_uri": "https://localhost:8080/",
          "height": 693
        },
        "id": "p_fh2Uy1w65J",
        "outputId": "221e7057-854d-490b-b977-9355beedfe08"
      },
      "outputs": [],
      "source": [
        "count, bin_edges = np.histogram(df_t, 15)\n",
        "xmin = bin_edges[0] - 10   #  first bin value is 31.0, adding buffer of 10 for aesthetic purposes \n",
        "xmax = bin_edges[-1] + 10  #  last bin value is 308.0, adding buffer of 10 for aesthetic purposes\n",
        "\n",
        "# stacked Histogram\n",
        "df_t.plot(kind='hist',\n",
        "          figsize=(10, 6), \n",
        "          bins=15,\n",
        "          xticks=bin_edges,\n",
        "          color=['coral', 'darkslateblue', 'mediumseagreen'],\n",
        "          stacked=True,\n",
        "          xlim=(xmin, xmax)\n",
        "         )\n",
        "\n",
        "plt.title('Histogram of Immigration from Denmark, Norway, and Sweden from 1980 - 2013')\n",
        "plt.ylabel('Number of Years')\n",
        "plt.xlabel('Number of Immigrants') \n",
        "\n",
        "plt.show()\n"
      ]
    },
    {
      "cell_type": "markdown",
      "metadata": {
        "id": "eu3CkuTaygfm"
      },
      "source": [
        "### Bar Charts (Dataframe)"
      ]
    },
    {
      "cell_type": "markdown",
      "metadata": {
        "id": "WvrUFeF8ylcu"
      },
      "source": [
        "Plot batang/bar plot adalah cara merepresentasikan data di mana panjang batang merepresentasikan besaran / ukuran fitur / variabel. Grafik batang biasanya mewakili variabel numerik dan kategori yang dikelompokkan dalam interval.\n",
        "\n",
        "Untuk membuat plot batang, kita dapat passing salah satu dari dua argumen melalui parameter kind di plot():\n",
        "\n",
        "kind=bar creates a vertical bar plot\n",
        "kind=barh creates a horizontal bar plot\n",
        "Vertical bar plot\n",
        "\n",
        "Dalam vertical bar graphs, sumbu x digunakan untuk labelling, dan panjang batang pada sumbu y sesuai dengan besaran variabel yang diukur. vertical bar graphs sangat berguna dalam menganalisis data deret waktu. Salah satu kelemahannya adalah kekurangan ruang untuk pelabelan teks di kaki setiap batang.\n",
        "\n",
        "Let's start off by analyzing the effect of Iceland's Financial Crisis:\n",
        "\n",
        "Krisis Keuangan Islandia 2008 - 2011 adalah peristiwa ekonomi dan politik utama di Islandia. Dibandingkan dengan peristiwa ekonominya, keruntuhan perbankan sistemik Islandia adalah yang terbesar dialami oleh negara mana pun dalam sejarah ekonomi. Krisis tersebut menyebabkan depresi ekonomi yang parah pada tahun 2008 - 2011 dan kerusuhan politik yang signifikan\n",
        "\n",
        "Pertanyaan: Mari kita bandingkan jumlah imigran Islandia (negara = 'Islandia') ke Kanada dari tahun 1980 hingga 2013."
      ]
    },
    {
      "cell_type": "code",
      "execution_count": null,
      "metadata": {
        "colab": {
          "base_uri": "https://localhost:8080/"
        },
        "id": "FUrGrbuRw6xw",
        "outputId": "83a6d98f-179b-4bcf-aaac-ddf6aa836a91"
      },
      "outputs": [],
      "source": [
        "# step 1: get the data\n",
        "df_iceland = df_can.loc['Iceland', years]\n",
        "df_iceland.head()"
      ]
    },
    {
      "cell_type": "code",
      "execution_count": null,
      "metadata": {
        "colab": {
          "base_uri": "https://localhost:8080/",
          "height": 423
        },
        "id": "CyBE7U0DyuHQ",
        "outputId": "13f6b2a5-0a49-4e8e-e562-e2dda33b5907"
      },
      "outputs": [],
      "source": [
        "# step 2: plot data\n",
        "df_iceland.plot(kind='bar', figsize=(10, 6))\n",
        "\n",
        "plt.xlabel('Year') # add to x-label to the plot\n",
        "plt.ylabel('Number of immigrants') # add y-label to the plot\n",
        "plt.title('Icelandic immigrants to Canada from 1980 to 2013') # add title to the plot\n",
        "\n",
        "plt.show()"
      ]
    },
    {
      "cell_type": "markdown",
      "metadata": {
        "id": "G3abS1Q8yzlP"
      },
      "source": [
        "Plot di atas menunjukkan jumlah total imigran yang dikelompokkan setiap tahun. Kita bisa melihat dengan jelas dampak dari krisis keuangan; jumlah imigran ke Kanada mulai meningkat pesat setelah 2008.\n",
        "\n",
        "Mari kita beri anotasi pada plot menggunakan metode annotate pada scripting layer atau antarmuka pyplot. Kita akan passing parameter berikut:\n",
        "\n",
        "s: str, teks anotasi.\n",
        "xy: Tuple yang menentukan titik (x,y) untuk diberi anotasi (dalam hal ini, titik akhir panah).\n",
        "xytext: Tuple yang menentukan titik (x,y) untuk menempatkan teks (dalam hal ini, titik awal panah).\n",
        "xycoords: Sistem koordinat yang diberikan xy di - 'data' menggunakan sistem koordinat objek yang dianotasi (default).\n",
        "arrowprops: Mengambil kamus properti untuk menggambar panah:\n",
        "arrowstyle: Menentukan gaya panah, '->' adalah panah standar.\n",
        "connectionstyle: Menentukan jenis koneksi. arc3 adalah garis lurus.\n",
        "color: Menentukan warna arror.\n",
        "lw: Menentukan lebar garis.\n",
        "Mari kita juga memberi anotasi pada teks untuk berada di atas panah. Kita akan menambahkan parameter tambahan berikut:\n",
        "\n",
        "rotasi: sudut rotasi teks dalam derajat (berlawanan arah jarum jam)\n",
        "va: perataan vertikal teks ['center' | 'top' | 'bottom' | 'baseline']\n",
        "ha: perataan horizontal teks ['center' | 'right' | 'left']"
      ]
    },
    {
      "cell_type": "code",
      "execution_count": null,
      "metadata": {
        "colab": {
          "base_uri": "https://localhost:8080/",
          "height": 423
        },
        "id": "bGwWzxxByuBK",
        "outputId": "e3becacf-a922-4843-ba3c-53e64c47df1b"
      },
      "outputs": [],
      "source": [
        "df_iceland.plot(kind='bar', figsize=(10, 6), rot=90) \n",
        "\n",
        "plt.xlabel('Year')\n",
        "plt.ylabel('Number of Immigrants')\n",
        "plt.title('Icelandic Immigrants to Canada from 1980 to 2013')\n",
        "\n",
        "# Annotate arrow\n",
        "plt.annotate('',                      # s: str. will leave it blank for no text\n",
        "             xy=(32, 70),             # place head of the arrow at point (year 2012 , pop 70)\n",
        "             xytext=(28, 20),         # place base of the arrow at point (year 2008 , pop 20)\n",
        "             xycoords='data',         # will use the coordinate system of the object being annotated \n",
        "             arrowprops=dict(arrowstyle='->', connectionstyle='arc3', color='blue', lw=2)\n",
        "            )\n",
        "\n",
        "# Annotate Text\n",
        "plt.annotate('2008 - 2011 Financial Crisis', # text to display\n",
        "             xy=(28, 30),                    # start the text at at point (year 2008 , pop 30)\n",
        "             rotation=72.5,                  # based on trial and error to match the arrow\n",
        "             va='bottom',                    # want the text to be vertically 'bottom' aligned\n",
        "             ha='left',                      # want the text to be horizontally 'left' algned.\n",
        "            )\n",
        "\n",
        "plt.show()"
      ]
    },
    {
      "cell_type": "markdown",
      "metadata": {
        "id": "v7DTIIo-zBla"
      },
      "source": [
        "Horizontal Bar Plot\n",
        "\n",
        "Terkadang lebih praktis untuk merepresentasikan data secara horizontal, terutama jika kita membutuhkan lebih banyak ruang untuk memberi label pada bar plot. Dalam horizontal bar graphs, sumbu y digunakan untuk pelabelan, dan panjang batang pada sumbu x sesuai dengan besaran variabel yang diukur. Seperti yang akan kita lihat, ada lebih banyak ruang pada sumbu y untuk memberi label variabel kategoris.\n",
        "\n",
        "Pertanyaan: Dengan menggunakan lapisan skrip dan kumpulan data df_can, buat plot batang horizontal yang menunjukkan jumlah total imigran ke Kanada dari 15 negara teratas, untuk periode 1980 - 2013. Beri label setiap negara dengan jumlah total imigran.\n",
        "\n",
        "Step 1: Dapatkan data yang berkaitan dengan 15 negara teratas."
      ]
    },
    {
      "cell_type": "code",
      "execution_count": null,
      "metadata": {
        "colab": {
          "base_uri": "https://localhost:8080/"
        },
        "id": "_KRhzzS6yt7X",
        "outputId": "d4af35cd-6243-43dd-e213-3019132e3c93"
      },
      "outputs": [],
      "source": [
        "df_can.sort_values(by='Total', ascending=True, inplace=True)\n",
        "df_top15 = df_can['Total'].tail(15)\n",
        "df_top15"
      ]
    },
    {
      "cell_type": "markdown",
      "metadata": {
        "id": "lzwP5a4tzIRY"
      },
      "source": [
        "Step 2: Plot data:\n",
        "\n",
        "Gunakan kind='barh' untuk membuat diagram batang dengan batang horizontal.\n",
        "Pastikan untuk memilih ukuran plot yang baik dan memberi label pada kapak Anda dan memberi judul plot.\n",
        "Ulangi negara dan beri anotasi pada populasi imigran menggunakan fungsi anotasi dari antarmuka skrip."
      ]
    },
    {
      "cell_type": "code",
      "execution_count": null,
      "metadata": {
        "colab": {
          "base_uri": "https://localhost:8080/",
          "height": 733
        },
        "id": "DFsEHkSDyt1O",
        "outputId": "78f505d7-a7a5-4054-cab9-30d4f606fee9"
      },
      "outputs": [],
      "source": [
        "### type your answer here\n",
        "\n",
        "df_top15.plot(kind='barh', figsize=(12, 12), color='steelblue')\n",
        "plt.xlabel('Number of Immigrants')\n",
        "plt.title('Top 15 Conuntries Contributing to the Immigration to Canada between 1980 - 2013')\n",
        "# for index, value in enumerate(df_top15): \n",
        "#     label = format(int(value), ',') # format int with commas\n",
        "#     # place text at the end of bar (subtracting 47000 from x, and 0.1 from y to make it fit within the bar)\n",
        "#     plt.annotate(label, xy=(value - 47000, index - 0.10), color='white')\n",
        "plt.show()"
      ]
    },
    {
      "cell_type": "markdown",
      "metadata": {
        "id": "-apNyGSWzOn6"
      },
      "source": [
        "### Pie Charts"
      ]
    },
    {
      "cell_type": "markdown",
      "metadata": {
        "id": "qrbuWhWOzYlq"
      },
      "source": [
        "Pie chart adalah grafik circualr yang menampilkan proporsi numerik dengan membagi lingkaran (atau pie) menjadi irisan proporsional. Kalian kemungkinan besar sudah terbiasa dengan pie chart karena diagram ini banyak digunakan dalam bisnis dan media. Kita dapat membuat pie chart di Matplotlib dengan memasukkan kind=pie.\n",
        "\n",
        "Mari gunakan pie chart untuk menjelajahi proporsi (persentase) imigran baru yang dikelompokkan berdasarkan benua untuk seluruh periode waktu dari 1980 hingga 2013.\n",
        "\n",
        "Step 1: Gather data.\n",
        "\n",
        "Kita akan menggunakan metode pandas groupby untuk meringkas data imigrasi berdasarkan Continent. Proses umum groupby melibatkan langkah-langkah berikut:\n",
        "\n",
        "Split: Memisahkan data menjadi beberapa kelompok berdasarkan beberapa kriteria.\n",
        "Terapkan: Menerapkan fungsi ke setiap grup secara independen: .sum() .count() .mean() .std() .aggregate() .apply() .etc..\n",
        "Combine: Menggabungkan hasil ke dalam struktur data."
      ]
    },
    {
      "cell_type": "code",
      "execution_count": null,
      "metadata": {
        "colab": {
          "base_uri": "https://localhost:8080/",
          "height": 298
        },
        "id": "BI2PEqBuyttl",
        "outputId": "a5ef374a-6486-44a4-d7f6-c12051cbae72"
      },
      "outputs": [],
      "source": [
        "# group countries by continents and apply sum() function \n",
        "df_continents = df_can.groupby('Continent', axis=0).sum()\n",
        "df_continents"
      ]
    },
    {
      "cell_type": "code",
      "execution_count": null,
      "metadata": {
        "colab": {
          "base_uri": "https://localhost:8080/",
          "height": 285
        },
        "id": "n5TfQMuSytl6",
        "outputId": "499f5f38-90e9-4e80-c9b1-d75b095caa0a"
      },
      "outputs": [],
      "source": [
        "# note: the output of the groupby method is a `groupby' object. \n",
        "# we can not use it further until we apply a function (eg .sum())\n",
        "print(type(df_can.groupby('Continent', axis=0)))\n",
        "\n",
        "df_continents.head()"
      ]
    },
    {
      "cell_type": "markdown",
      "metadata": {
        "id": "gmwIO7eCzkg0"
      },
      "source": [
        "Step 2: Plot datanya. Kita akan passing kind = 'pie', bersama dengan parameter tambahan berikut:\n",
        "\n",
        "autopct - adalah string atau fungsi yang digunakan untuk memberi label irisan dengan nilai numeriknya. Label akan ditempatkan di dalam irisan. Jika ini adalah format string, labelnya akan menjadi fmt%pct.\n",
        "startangle - memutar awal diagram lingkaran dengan derajat sudut berlawanan arah jarum jam dari sumbu x.\n",
        "shadow - Menggambar bayangan di bawah pai (untuk memberikan nuansa 3D)."
      ]
    },
    {
      "cell_type": "code",
      "execution_count": null,
      "metadata": {
        "colab": {
          "base_uri": "https://localhost:8080/",
          "height": 373
        },
        "id": "3wxxw7N7zj_J",
        "outputId": "c21ea7f3-268a-42ed-fabb-b6228542ba55"
      },
      "outputs": [],
      "source": [
        "# autopct create %, start angle represent starting point\n",
        "df_continents['Total'].plot(kind='pie',\n",
        "                            figsize=(5, 6),\n",
        "                            autopct='%1.1f%%', # add in percentages\n",
        "                            startangle=90,     # start angle 90° (Africa)\n",
        "                            shadow=True,       # add shadow      \n",
        "                            )\n",
        "\n",
        "plt.title('Immigration to Canada by Continent [1980 - 2013]')\n",
        "plt.axis('equal') # Sets the pie chart to look like a circle.\n",
        "\n",
        "plt.show()"
      ]
    },
    {
      "cell_type": "markdown",
      "metadata": {
        "id": "DcI_0qpHzubK"
      },
      "source": [
        "Visual di atas tidak begitu jelas, angka dan teks tumpang tindih dalam beberapa kasus. Mari buat beberapa modifikasi untuk meningkatkan visual:\n",
        "\n",
        "Hapus label teks pada diagram lingkaran dengan meneruskan legenda dan menambahkannya sebagai legenda terpisah menggunakan plt.legend().\n",
        "\n",
        "dimajukan persentase untuk di tepat di luar diagram lingkaran dengan memasukkan parameter pct distance.\n",
        "\n",
        "Lewati satu set warna khusus untuk benua dengan meneruskan parameter warna.\n",
        "\n",
        "Explode diagram lingkaran untuk menekankan tiga benua terendah (Afrika, Amerika Utara, dan Amerika Latin dan Karibia) dengan memasukkan parameter meledak."
      ]
    },
    {
      "cell_type": "code",
      "execution_count": null,
      "metadata": {
        "id": "YLqowTHYzjnW"
      },
      "outputs": [],
      "source": []
    },
    {
      "cell_type": "code",
      "execution_count": null,
      "metadata": {
        "colab": {
          "base_uri": "https://localhost:8080/",
          "height": 412
        },
        "id": "8FsHm6LPzjiL",
        "outputId": "d80c90c2-5de3-4a53-accf-5da424f9876f"
      },
      "outputs": [],
      "source": [
        "colors_list = ['gold', 'yellowgreen', 'lightcoral', 'lightskyblue', 'lightgreen', 'pink']\n",
        "explode_list = [0.1, 0, 0, 0, 0.1, 0.1] # ratio for each continent with which to offset each wedge.\n",
        "\n",
        "df_continents['Total'].plot(kind='pie',\n",
        "                            figsize=(15, 6),\n",
        "                            autopct='%1.1f%%', \n",
        "                            startangle=90,    \n",
        "                            shadow=True,       \n",
        "                            labels=None,         # turn off labels on pie chart\n",
        "                            pctdistance=1.12,    # the ratio between the center of each pie slice and the start of the text generated by autopct \n",
        "                            colors=colors_list,  # add custom colors\n",
        "                            explode=explode_list # 'explode' lowest 3 continents\n",
        "                            )\n",
        "\n",
        "# scale the title up by 12% to match pctdistance\n",
        "plt.title('Immigration to Canada by Continent [1980 - 2013]', y=1.12) \n",
        "\n",
        "plt.axis('equal') \n",
        "\n",
        "# add legend\n",
        "plt.legend(labels=df_continents.index, loc='upper left') \n",
        "\n",
        "plt.show()\n"
      ]
    },
    {
      "cell_type": "markdown",
      "metadata": {
        "id": "y79HlNtuz4bS"
      },
      "source": [
        "Pertanyaan: Dengan menggunakan diagram lingkaran, telusuri proporsi (persentase) pendatang baru yang dikelompokkan berdasarkan benua pada tahun 2013.\n",
        "\n",
        "Catatan: Anda mungkin perlu bermain dengan nilai explode untuk memperbaiki nilai irisan yang tumpang tindih."
      ]
    },
    {
      "cell_type": "code",
      "execution_count": null,
      "metadata": {
        "colab": {
          "base_uri": "https://localhost:8080/",
          "height": 412
        },
        "id": "0AUWtHPSzjcx",
        "outputId": "cc7af0ef-ef8e-466b-cd60-c81af23260b4"
      },
      "outputs": [],
      "source": [
        "### type your answer here\n",
        "colors_list = ['gold', 'yellowgreen', 'lightcoral', 'lightskyblue', 'lightgreen', 'pink']\n",
        "explode_list = [0.1, 0, 0, 0, 0.05, 0.15] # ratio for each continent with which to offset each wedge.\n",
        "\n",
        "df_continents['2013'].plot(kind='pie',\n",
        "                            figsize=(15, 6),\n",
        "                            autopct='%1.1f%%', \n",
        "                            startangle=90,    \n",
        "                            shadow=True,       \n",
        "                            labels=None,         # turn off labels on pie chart\n",
        "                            pctdistance=1.12,    # the ratio between the center of each pie slice and the start of the text generated by autopct \n",
        "                            colors=colors_list,  # add custom colors\n",
        "                            explode=explode_list # 'explode' lowest 3 continents\n",
        "                            )\n",
        "\n",
        "# scale the title up by 12% to match pctdistance\n",
        "plt.title('Immigration to Canada by Continent Year 2013', y=1.12) \n",
        "\n",
        "plt.axis('equal') \n",
        "\n",
        "# add legend\n",
        "plt.legend(labels=df_continents.index, loc='upper left') \n",
        "\n",
        "plt.show()"
      ]
    },
    {
      "cell_type": "markdown",
      "metadata": {
        "id": "z_o5lc5-0Avw"
      },
      "source": [
        "### Box Plots\n",
        "Box plot adalah cara untuk secara statistik merepresentasikan distribusi data melalui lima dimensi utama:\n",
        "\n",
        "Minimum: Smallest number in the dataset.\n",
        "\n",
        "First quartile: Middle number between the minimum and the median.\n",
        "\n",
        "Second quartile (Median): Middle number of the (sorted) dataset.\n",
        "\n",
        "Third quartile: Middle number between median and maximum.\n",
        "\n",
        "Maximum: Highest number in the dataset."
      ]
    },
    {
      "cell_type": "markdown",
      "metadata": {
        "id": "RByLGh170EIN"
      },
      "source": [
        "<img src=\"https://i.ibb.co/Sn9GCpL/img2.png\" width=\"350\" align=\"center\">"
      ]
    },
    {
      "cell_type": "markdown",
      "metadata": {
        "id": "QUHPKUy30VXl"
      },
      "source": [
        "Untuk membuat box plot, kita dapat menggunakan metode kind=box pada plot yang dipanggil pada serie pandas atau dataframe.\n",
        "\n",
        "Mari kita plot box plot untuk para imigran Jepang antara 1980 - 2013.\n",
        "\n",
        "Step 1: Dapatkan datasetnya. Meskipun kita mengekstrak data hanya untuk satu negara, kita akan menyimpannya sebagai dataframe. Ini akan membantu kita memanggil metode dataframe.describe() untuk melihat persentil."
      ]
    },
    {
      "cell_type": "code",
      "execution_count": null,
      "metadata": {
        "colab": {
          "base_uri": "https://localhost:8080/",
          "height": 206
        },
        "id": "rH2NyZ9VzjYB",
        "outputId": "4f441153-2229-48b9-a28a-e73803d76c80"
      },
      "outputs": [],
      "source": [
        "# to get a dataframe, place extra square brackets around 'Japan'.\n",
        "df_japan = df_can.loc[['Japan'], years].transpose()\n",
        "df_japan.head()"
      ]
    },
    {
      "cell_type": "markdown",
      "metadata": {
        "id": "f8fp5Al10cBd"
      },
      "source": [
        "Step 2: Plot by Passing in kind='box"
      ]
    },
    {
      "cell_type": "code",
      "execution_count": null,
      "metadata": {
        "colab": {
          "base_uri": "https://localhost:8080/",
          "height": 391
        },
        "id": "lvzK90ntzjTN",
        "outputId": "fd2b1837-7568-43e0-8445-ef570743710e"
      },
      "outputs": [],
      "source": [
        "df_japan.plot(kind='box', figsize=(8, 6))\n",
        "\n",
        "plt.title('Box plot of Japanese Immigrants from 1980 - 2013')\n",
        "plt.ylabel('Number of Immigrants')\n",
        "\n",
        "plt.show()"
      ]
    },
    {
      "cell_type": "markdown",
      "metadata": {
        "id": "46c3Wvj-0pz_"
      },
      "source": [
        "Kami dapat segera membuat beberapa observasi penting dari plot di atas:\n",
        "\n",
        "\n",
        "Jumlah minimum imigran sekitar 200 (min), \n",
        "jumlah maksimum sekitar 1300 (max), \n",
        "dan jumlah rata-rata imigran sekitar 900 (median).\n",
        "\n",
        "25%  untuk periode 1980 - 2013 memiliki jumlah imigran tahunan ~500 atau kurang (Kuartil pertama).\n",
        "75%  untuk periode 1980 - 2013 memiliki jumlah imigran tahunan ~1100 atau kurang (kuartil ketiga).\n",
        "\n",
        "Kita bisa melihat angka aktual dengan memanggil metode describe() pada dataframe."
      ]
    },
    {
      "cell_type": "code",
      "execution_count": null,
      "metadata": {
        "colab": {
          "base_uri": "https://localhost:8080/",
          "height": 300
        },
        "id": "Hg1ezykV0jRD",
        "outputId": "71063a91-47ae-48b3-bc98-5ba368b03e63"
      },
      "outputs": [],
      "source": [
        "df_japan.describe()"
      ]
    },
    {
      "cell_type": "markdown",
      "metadata": {
        "id": "K0ICEMJs02ND"
      },
      "source": [
        "Salah satu manfaat utama dari box plots adalah membandingkan distribusi beberapa kumpulan data. \n",
        "\n",
        "Di salah satu plot sebelumnya, kita mengamati bahwa China dan India memiliki tren imigrasi yang sangat mirip. \n",
        "\n",
        "Mari kita analisis kedua negara ini lebih jauh menggunakan box plot.\n",
        "\n",
        "Pertanyaan: Bandingkan distribusi jumlah pendatang baru dari India dan China periode 1980 - 2013.\n",
        "\n",
        "Langkah 1: Dapatkan dataset untuk China dan India dan panggil dataframe df_CI."
      ]
    },
    {
      "cell_type": "code",
      "execution_count": null,
      "metadata": {
        "colab": {
          "base_uri": "https://localhost:8080/",
          "height": 206
        },
        "id": "rJl7mWG20inU",
        "outputId": "bf6a6e24-ec90-4830-ad28-b84a3fd9a3dd"
      },
      "outputs": [],
      "source": [
        "### type your answer here\n",
        "\n",
        "df_CI = df_can.loc[(['China', 'India']), years].transpose()\n",
        "df_CI.head()"
      ]
    },
    {
      "cell_type": "code",
      "execution_count": null,
      "metadata": {
        "colab": {
          "base_uri": "https://localhost:8080/",
          "height": 300
        },
        "id": "YeIFiDNKzjOR",
        "outputId": "4224086c-5580-4bda-cf76-84f3912e4232"
      },
      "outputs": [],
      "source": [
        "df_CI.describe()"
      ]
    },
    {
      "cell_type": "code",
      "execution_count": null,
      "metadata": {
        "colab": {
          "base_uri": "https://localhost:8080/",
          "height": 391
        },
        "id": "fQ86N3w8zjIv",
        "outputId": "cbdc486a-cf81-4554-b1e1-2228e5960d68"
      },
      "outputs": [],
      "source": [
        "### type your answer here\n",
        "df_CI.plot(kind='box', figsize=(8, 6))\n",
        "\n",
        "plt.title('Box plot of China and India Immigrants from 1980 - 2013')\n",
        "plt.ylabel('Number of Immigrants')\n",
        "\n",
        "plt.show()"
      ]
    },
    {
      "cell_type": "markdown",
      "metadata": {
        "id": "TZcpGnec1Ivn"
      },
      "source": [
        "Kita dapat mengamati bahwa, \n",
        "\n",
        "meskipun kedua negara memiliki populasi imigran rata-rata yang sama (~ 20.000), \n",
        "\n",
        "range populasi imigran China lebih tersebar daripada India. \n",
        "\n",
        "Populasi maksimum dari India untuk setiap tahun (36.210) sekitar 15% lebih rendah dari populasi maksimum dari China (42.584).\n",
        "\n",
        "Jika Kalian lebih suka membuat box plot horizontal, \n",
        "\n",
        "kalian dapat meneruskan parameter vert dalam fungsi plot dan menetapkannya ke False. \n",
        "\n",
        "Kalian juga dapat menentukan warna yang berbeda jika Kalian tidak suka warna default."
      ]
    },
    {
      "cell_type": "code",
      "execution_count": null,
      "metadata": {
        "colab": {
          "base_uri": "https://localhost:8080/",
          "height": 462
        },
        "id": "OvUTgsPizjDu",
        "outputId": "7f38ef64-3b28-429f-804f-35649db74f03"
      },
      "outputs": [],
      "source": [
        "# horizontal box plots\n",
        "df_CI.plot(kind='box', figsize=(10, 7), color='blue', vert=False)\n",
        "\n",
        "plt.title('Box plots of Immigrants from China and India (1980 - 2013)')\n",
        "plt.xlabel('Number of Immigrants')\n",
        "\n",
        "plt.show()"
      ]
    },
    {
      "cell_type": "markdown",
      "metadata": {
        "id": "N3gvCsTM1Rrr"
      },
      "source": [
        "Subplots\n",
        "\n",
        "Seringkali kita mungkin ingin memplot beberapa plot dalam figure yang sama. Misalnya, kita ingin melakukan perbandingan box plot secara berdampingan dengan line plot imigrasi China dan India.\n",
        "\n",
        "Untuk memvisualisasikan beberapa plot bersama-sama, kita dapat membuat figure (overall canvas) dan membaginya menjadi subplots, masing-masing berisi plot. Dengan subplots, kita biasanya bekerja dengan artist layer daripada scripting layer.\n",
        "\n",
        "Sintaks secara umum adalah:\n",
        "```\n",
        "fig = plt.figure() # create figure\n",
        "ax = fig.add_subplot(nrows, ncols, plot_number) # create subplots"
      ]
    },
    {
      "cell_type": "markdown",
      "metadata": {
        "id": "0IMU2Uq61V-f"
      },
      "source": [
        "Dimana\n",
        "\n",
        "* nrows and ```ncols``` are used to notionally split the figure into (nrows * ncols) sub-axes,\n",
        "* ```plot_number``` is used to identify the particular subplot that this function is to create within the notional grid. plot_number starts at 1, increments across rows first and has a maximum of nrows * ncols as shown below."
      ]
    },
    {
      "cell_type": "markdown",
      "metadata": {
        "id": "-OQqX86g1cAn"
      },
      "source": [
        "<img src=\"https://i.ibb.co/kDCDyqv/img3.png\" width=\"500\" align=\"center\">"
      ]
    },
    {
      "cell_type": "markdown",
      "metadata": {
        "id": "ICgWjOwV1gAX"
      },
      "source": [
        "Kita kemudian dapat menentukan subplot mana yang akan ditempatkan setiap plot dengan meneruskan parameter ax di plot() sebagai berikut"
      ]
    },
    {
      "cell_type": "code",
      "execution_count": null,
      "metadata": {
        "colab": {
          "base_uri": "https://localhost:8080/",
          "height": 407
        },
        "id": "9vdpJFkOzi-4",
        "outputId": "bdc07624-9998-4300-e4a8-a892c0007698"
      },
      "outputs": [],
      "source": [
        "fig = plt.figure() # create figure\n",
        "\n",
        "ax0 = fig.add_subplot(1, 2, 1) # add subplot 1 (1 row, 2 columns, first plot)\n",
        "ax1 = fig.add_subplot(122) # add subplot 2 (1 row, 2 columns, second plot). See tip below**\n",
        "\n",
        "# Subplot 1: Box plot\n",
        "df_CI.plot(kind='box', color='blue', vert=False, figsize=(20, 6), ax=ax0) # add to subplot 1\n",
        "ax0.set_title('Box Plots of Immigrants from China and India (1980 - 2013)')\n",
        "ax0.set_xlabel('Number of Immigrants')\n",
        "ax0.set_ylabel('Countries')\n",
        "\n",
        "# Subplot 2: Line plot\n",
        "df_CI.plot(kind='line', figsize=(20, 6), ax=ax1) # add to subplot 2\n",
        "ax1.set_title ('Line Plots of Immigrants from China and India (1980 - 2013)')\n",
        "ax1.set_ylabel('Number of Immigrants')\n",
        "ax1.set_xlabel('Years')\n",
        "\n",
        "plt.show()\n"
      ]
    },
    {
      "cell_type": "markdown",
      "metadata": {
        "id": "I9P-4iYK13Ut"
      },
      "source": [
        "** * Tip regarding subplot convention **\n",
        "\n",
        "Dalam kasus ketika nrows, ncols, dan plot_number semuanya kurang dari 10, ada kemudahan sedemikian rupa sehingga angka 3 digit dapat diberikan, di mana ratusan mewakili nrows, puluhan mewakili ncols dan unit mewakili plot_number. Misalnya,\n",
        "\n",
        "   subplot(211) == subplot(2, 1, 1) #211 sama dengan 2, 1, 1\n"
      ]
    },
    {
      "cell_type": "markdown",
      "metadata": {
        "id": "UbUf3hkP14rD"
      },
      "source": [
        "menghasilkan sub-sumbu dalam gambar yang mewakili plot teratas (yaitu yang pertama) dalam 2 baris kali 1 kolom.\n",
        "\n",
        "Mari kita coba sesuatu yang lebih advanced.\n",
        "\n",
        "Sebelumnya kita mengidentifikasi 15 negara teratas berdasarkan total imigrasi dari 1980 - 2013.\n",
        "\n",
        "Question: Create a box plot to visualize the distribution of the top 15 countries (based on total immigration) grouped by the decades 1980s, 1990s, and 2000s.\n",
        "\n",
        "Step 1: Dapatkan datasetnya. Dapatkan 15 negara teratas berdasarkan total populasi imigran. Beri nama dataframe df_top15.\n",
        "\n"
      ]
    },
    {
      "cell_type": "code",
      "execution_count": null,
      "metadata": {
        "colab": {
          "base_uri": "https://localhost:8080/",
          "height": 853
        },
        "id": "K8l-iVD61-Gw",
        "outputId": "404f6266-5707-4b8f-d149-349811252e35"
      },
      "outputs": [],
      "source": [
        "df_top15 = df_can.sort_values(['Total'], ascending=False, axis=0).head(15)\n",
        "df_top15"
      ]
    },
    {
      "cell_type": "markdown",
      "metadata": {
        "id": "y_9zAkX72Iqn"
      },
      "source": [
        "Step 2: Buat dataframe baru yang berisi agregat untuk setiap dekade. Salah satu cara untuk melakukannya:\n",
        "\n",
        "Buat daftar semua tahun dalam dekade 80-an, 90-an, dan 00-an.\n",
        "Iris kerangka data asli df_can untuk membuat seri untuk setiap dekade dan jumlahkan sepanjang tahun untuk setiap negara.\n",
        "Menggabungkan tiga seri menjadi bingkai data baru. Panggil kerangka data Anda new_df."
      ]
    },
    {
      "cell_type": "code",
      "execution_count": null,
      "metadata": {
        "colab": {
          "base_uri": "https://localhost:8080/",
          "height": 206
        },
        "id": "lhfGIW711-Ak",
        "outputId": "505694e1-4820-49dd-b100-619686313dd0"
      },
      "outputs": [],
      "source": [
        "years_80s = list(map(str, range(1980, 1990))) \n",
        "years_90s = list(map(str, range(1990, 2000))) \n",
        "years_00s = list(map(str, range(2000, 2010))) \n",
        "\n",
        "df_80s = df_top15.loc[:, years_80s].sum(axis=1) \n",
        "df_90s = df_top15.loc[:, years_90s].sum(axis=1) \n",
        "df_00s = df_top15.loc[:, years_00s].sum(axis=1)\n",
        "\n",
        "new_df = pd.DataFrame({'1980s': df_80s, '1990s': df_90s, '2000s':df_00s}) \n",
        "new_df.head()"
      ]
    },
    {
      "cell_type": "code",
      "execution_count": null,
      "metadata": {
        "colab": {
          "base_uri": "https://localhost:8080/",
          "height": 300
        },
        "id": "SzQ0SdKj196a",
        "outputId": "8070dc6e-83bf-4f1f-9e09-205e396d6658"
      },
      "outputs": [],
      "source": [
        "new_df.describe()"
      ]
    },
    {
      "cell_type": "code",
      "execution_count": null,
      "metadata": {
        "colab": {
          "base_uri": "https://localhost:8080/",
          "height": 391
        },
        "id": "ikSBas1L19zu",
        "outputId": "d5e5aa0a-cf4f-4ac9-bd32-d6f2bdf0fc26"
      },
      "outputs": [],
      "source": [
        "new_df.plot(kind='box', figsize=(10, 6))\n",
        "plt.title('Immigration from top 15 countries for decades 80s, 90s and 2000s')\n",
        "plt.show()"
      ]
    },
    {
      "cell_type": "markdown",
      "metadata": {
        "id": "qpRygC2n2Yuf"
      },
      "source": [
        "Perhatikan bagaimana box plot berbeda dari summary table yang dibuat. Box plot memindai data dan mengidentifikasi outliers. Untuk menjadi outliers, nilai datanya harus:\n",
        "\n",
        "lebih besar dari Q3 dengan setidaknya 1,5 kali rentang interkuartil (IQR), atau,\n",
        "lebih kecil dari Q1 setidaknya 1,5 kali IQR.\n",
        "\n",
        "Mari kita lihat dekade 2000-an sebagai contoh:\n",
        "\n",
        "Q1 (25%) = 36,101.5\n",
        "Q3 (75%) = 105,505.5\n",
        "IQR = Q3 - Q1 = 69,404\n",
        "\n",
        "Menggunakan definisi outliers, nilai apa pun yang lebih besar dari Q3 sebesar 1,5 kali IQR akan ditandai sebagai outliers.\n",
        "\n",
        "Outlier > 105,505.5 + (1.5 * 69,404)\n",
        "Outlier > 209,611.5"
      ]
    },
    {
      "cell_type": "code",
      "execution_count": null,
      "metadata": {
        "colab": {
          "base_uri": "https://localhost:8080/",
          "height": 112
        },
        "id": "SuW1GYBC19uR",
        "outputId": "3d23633e-abcf-472e-db82-4cad33a46fe9"
      },
      "outputs": [],
      "source": [
        "# let's check how many entries fall above the outlier threshold \n",
        "new_df[new_df['2000s']> 209611.5]"
      ]
    },
    {
      "cell_type": "markdown",
      "metadata": {
        "id": "5AvHwZ5R2f5m"
      },
      "source": [
        "China dan India sama-sama dianggap sebagai outliers karena populasi mereka selama dekade tersebut melebihi 209.611,5.\n",
        "\n",
        "Box plot adalah advanced visualizaiton tool, dan ada banyak opsi dan penyesuaian yang melebihi cakupan section ini. Silakan merujuk ke Matplotlib documentation pada box plot untuk informasi lebih lanjut.\n",
        "\n",
        "### Scatter Plots\n",
        "Scatter plot (2D) adalah metode yang berguna untuk membandingkan variabel satu sama lain. Scatter  plot terlihat mirip dengan line plot karena keduanya memetakan variabel independen dan dependen pada grafik 2D. Sementara datapoints  dihubungkan bersama oleh garis dalam line plot , datapoints tidak terhubung dalam scatter plot. Data dalam scatter plot dianggap mengekspresikan suatu tren. Dengan analisis lebih lanjut menggunakan tools seperti regresi, kita dapat menghitung hubungan ini secara matematis dan menggunakannya untuk memprediksi tren di luar kumpulan data.\n",
        "\n",
        "Mari kita mulai dengan menjelajahi yang berikut ini:\n",
        "\n",
        "Dengan menggunakan scatter plot, mari kita visualisasikan tren imigran total ke Kanada (semua negara digabungkan) untuk tahun 1980 - 2013.\n",
        "\n",
        "Step 1: Dapatkan datasetnya. Karena kita menggunakan hubungan antara years dan total population, kita akan mengubah years menjadi tipe int ."
      ]
    },
    {
      "cell_type": "code",
      "execution_count": null,
      "metadata": {
        "colab": {
          "base_uri": "https://localhost:8080/",
          "height": 206
        },
        "id": "xTiUxlcQw6p7",
        "outputId": "fa626ad3-63cd-4587-b9cc-6be94cff24d4"
      },
      "outputs": [],
      "source": [
        "# we can use the sum() method to get the total population per year\n",
        "df_tot = pd.DataFrame(df_can[years].sum(axis=0))\n",
        "\n",
        "# change the years to type int (useful for regression later on)\n",
        "df_tot.index = map(int, df_tot.index)\n",
        "\n",
        "# reset the index to put in back in as a column in the df_tot dataframe\n",
        "df_tot.reset_index(inplace = True)\n",
        "\n",
        "# rename columns\n",
        "df_tot.columns = ['year', 'total']\n",
        "\n",
        "# view the final dataframe\n",
        "df_tot.head()"
      ]
    },
    {
      "cell_type": "markdown",
      "metadata": {
        "id": "_fvUZEkL2u3r"
      },
      "source": [
        "Step 2: Plot datanya. Di Matplotlib, kita dapat membuat kumpulan scatter plot dengan meneruskan kind='scatter' sebagai argumen plot. Kita juga perlu memasukkan kata kunci x dan y untuk menentukan kolom yang berada pada sumbu x dan y.\n",
        "\n"
      ]
    },
    {
      "cell_type": "code",
      "execution_count": null,
      "metadata": {
        "colab": {
          "base_uri": "https://localhost:8080/",
          "height": 407
        },
        "id": "DPBw6SER21SR",
        "outputId": "d4bf2ca7-a24a-4d50-f472-904996caf59b"
      },
      "outputs": [],
      "source": [
        "df_tot.plot(kind='scatter', x='year', y='total', figsize=(10, 6), color='darkblue')\n",
        "\n",
        "plt.title('Total Immigration to Canada from 1980 - 2013')\n",
        "plt.xlabel('Year')\n",
        "plt.ylabel('Number of Immigrants')\n",
        "\n",
        "plt.show()"
      ]
    },
    {
      "cell_type": "markdown",
      "metadata": {
        "id": "VG9UPBEh28Qs"
      },
      "source": [
        "Notice how the scatter plot does not connect the datapoints together. We can clearly observe an upward trend in the data: as the years go by, the total number of immigrants increases. We can mathematically analyze this upward trend using a regression line (line of best fit).\n",
        "\n",
        "Perhatikan bagaimana scatter plot tidak menghubungkan antar datapoints. Kita dapat dengan jelas mengamati tren peningkatan dalam data: seiring berlalunya waktu, jumlah total imigran meningkat. Kita dapat menganalisis tren naik ini secara matematis menggunakan regression line (line of best fit).\n",
        "\n",
        "Question: Create a scatter plot of the total immigration from Denmark, Norway, and Sweden to Canada from 1980 to 2013?\n",
        "\n",
        "Step 1: Get the data:\n",
        "\n",
        "Create a dataframe the consists of the numbers associated with Denmark, Norway, and Sweden only. Name it df_countries.\n",
        "Sum the immigration numbers across all three countries for each year and turn the result into a dataframe. Name this new dataframe df_total.\n",
        "Reset the index in place.\n",
        "Rename the columns to year and total.\n",
        "Display the resulting dataframe."
      ]
    },
    {
      "cell_type": "code",
      "execution_count": null,
      "metadata": {
        "colab": {
          "base_uri": "https://localhost:8080/",
          "height": 206
        },
        "id": "zUol2sl622S_",
        "outputId": "6ebf72e7-056d-4f01-90e4-89567aed5066"
      },
      "outputs": [],
      "source": [
        "df_countries = df_can.loc[['Denmark', 'Norway', 'Sweden'], years].transpose()\n",
        "df_total = pd.DataFrame(df_countries.sum(axis=1))\n",
        "df_total.reset_index(inplace=True)\n",
        "df_total.columns = ['year', 'total']\n",
        "df_total['year'] = df_total['year'].astype(int)\n",
        "df_total.head()"
      ]
    },
    {
      "cell_type": "markdown",
      "metadata": {
        "id": "XdtpEMH63JCY"
      },
      "source": [
        "Step 2: Generate the scatter plot by plotting the total versus year in df_total."
      ]
    },
    {
      "cell_type": "code",
      "execution_count": null,
      "metadata": {
        "colab": {
          "base_uri": "https://localhost:8080/",
          "height": 407
        },
        "id": "EDqeCb1_22F1",
        "outputId": "0023d975-0c46-470f-bc95-5954653bcce3"
      },
      "outputs": [],
      "source": [
        "df_total.plot(kind='scatter', x='year', y='total', figsize=(10, 6), color='darkblue')\n",
        "plt.title('Immigration from Denmark, Norway, and Sweden to Canada from 1980 - 2013')\n",
        "plt.xlabel('Year')\n",
        "plt.ylabel('Number of Immigrants')\n",
        "plt.show()"
      ]
    },
    {
      "cell_type": "markdown",
      "metadata": {
        "id": "J1GpRDEg3Pxk"
      },
      "source": [
        "Bubble Plots (Optional)\n",
        "Bubble plot adalah variasi dari scatter plot yang menampilkan tiga dimensi data (x, y, z). Titik data diganti dengan bubbles, dan ukuran bubbles ditentukan oleh variabel ketiga 'z', yang juga dikenal sebagai bobot. Di maplotlib, kita bisa mengirimkan array atau skalar ke kata kunci s to plot(), yang berisi bobot setiap titik.\n",
        "\n",
        "Let's start by analyzing the effect of Argentina's great depression.\n",
        "\n",
        "Argentina mengalami great depression dari tahun 1998 - 2002, yang menyebabkan meluasnya pengangguran, kerusuhan, jatuhnya pemerintahan, dan gagal bayar hutang luar negeri negara tersebut. Dalam hal pendapatan, lebih dari 50% orang Argentina miskin, dan tujuh dari sepuluh anak Argentina miskin pada saat krisis tahun 2002.\n",
        "\n",
        "Let's analyze the effect of this crisis, and compare Argentina's immigration to that of it's neighbour \n",
        "\n",
        "Mari kita analisis dampak krisis ini, dan bandingkan imigrasi Argentina dengan tetangganya Brasil. Mari kita lakukan itu dengan menggunakan bubble plot imigrasi dari Brasil dan Argentina untuk tahun 1980 - 2013. Kita akan menetapkan bobot gelembung sebagai nilai populasi yang dinormalisasi untuk setiap tahun.\n",
        "\n",
        "Step 1: Get the data for Brazil and Argentina. Like in the previous example, we will convert the Years to type int and bring it in the dataframe."
      ]
    },
    {
      "cell_type": "code",
      "execution_count": null,
      "metadata": {
        "colab": {
          "base_uri": "https://localhost:8080/",
          "height": 403
        },
        "id": "sZiiNceU217X",
        "outputId": "f6c66e3c-68e6-4d81-bbea-6a944e47a887"
      },
      "outputs": [],
      "source": [
        "df_can_t = df_can[years].transpose() # transposed dataframe\n",
        "\n",
        "# cast the Years (the index) to type int\n",
        "df_can_t.index = map(int, df_can_t.index)\n",
        "\n",
        "# let's label the index. This will automatically be the column name when we reset the index\n",
        "df_can_t.index.name = 'Year'\n",
        "\n",
        "# reset index to bring the Year in as a column\n",
        "df_can_t.reset_index(inplace=True)\n",
        "\n",
        "# view the changes\n",
        "df_can_t.head()"
      ]
    },
    {
      "cell_type": "markdown",
      "metadata": {
        "id": "OSbOxLKb3Zyn"
      },
      "source": [
        "Step 2: Create the normalized weights.\n",
        "\n",
        "Ada beberapa metode normalisasi dalam statistik, masing-masing dengan kegunaannya sendiri. Dalam kasus ini, kita akan menggunakan feature scaling untuk membawa semua nilai ke dalam kisaran [0,1]. Rumus umumnya adalah:\n",
        "\n",
        "<img src=\"https://i.ibb.co/KFNP2jh/img5.png\" width=\"300\" align=\"center\">\n",
        "\n",
        "\n",
        "\n",
        "di mana X adalah nilai original, X' adalah nilai yang dinormalisasi. Rumusnya menetapkan nilai maksimal dalam kumpulan data ke 1, dan menetapkan nilai min ke 0. Titik data lainnya diskalakan ke nilai antara 0-1."
      ]
    },
    {
      "cell_type": "code",
      "execution_count": null,
      "metadata": {
        "id": "Hvj7NPpC3dWx"
      },
      "outputs": [],
      "source": [
        "# normalize Brazil data\n",
        "norm_brazil = (df_can_t['Brazil'] - df_can_t['Brazil'].min()) / (df_can_t['Brazil'].max() - df_can_t['Brazil'].min())\n",
        "\n",
        "# normalize Argentina data\n",
        "norm_argentina = (df_can_t['Argentina'] - df_can_t['Argentina'].min()) / (df_can_t['Argentina'].max() - df_can_t['Argentina'].min())"
      ]
    },
    {
      "cell_type": "markdown",
      "metadata": {
        "id": "aOtky5JW3llP"
      },
      "source": [
        "Step 3: Plot the data.\n",
        "\n",
        "Untuk memplot dua plot pencar yang berbeda dalam satu plot, kita dapat memasukkan sumbu satu plot ke plot lainnya dengan melewatkannya melalui parameter axe.\n",
        "Kami juga akan meneruskan bobot menggunakan parameter s. Mengingat bahwa bobot yang dinormalisasi adalah antara 0-1, bobot tersebut tidak akan terlihat di plot. Oleh karena itu kami akan:\n",
        "kalikan bobot dengan 2000 untuk meningkatkannya pada grafik, dan,\n",
        "tambahkan 10 untuk mengkompensasi nilai min (yang memiliki bobot 0 dan karenanya skala dengan x2000)."
      ]
    },
    {
      "cell_type": "code",
      "execution_count": null,
      "metadata": {
        "colab": {
          "base_uri": "https://localhost:8080/",
          "height": 937
        },
        "id": "vYBxj_hD3eTv",
        "outputId": "44597c37-cc25-4f1a-c37a-f66f6db2627b"
      },
      "outputs": [],
      "source": [
        "# Brazil\n",
        "ax0 = df_can_t.plot(kind='scatter',\n",
        "                    x='Year',\n",
        "                    y='Brazil',\n",
        "                    figsize=(14, 8),\n",
        "                    alpha=0.5,                  # transparency\n",
        "                    color='green',\n",
        "                    s=norm_brazil * 2000 + 10,  # pass in weights \n",
        "                    xlim=(1975, 2015)\n",
        "                   )\n",
        "\n",
        "# Argentina\n",
        "ax1 = df_can_t.plot(kind='scatter',\n",
        "                    x='Year',\n",
        "                    y='Argentina',\n",
        "                    alpha=0.5,\n",
        "                    color=\"blue\",\n",
        "                    s=norm_argentina * 2000 + 10,\n",
        "                    ax = ax0\n",
        "                   )\n",
        "\n",
        "ax0.set_ylabel('Number of Immigrants')\n",
        "ax0.set_title('Immigration from Brazil and Argentina from 1980 - 2013')\n",
        "ax0.legend(['Brazil', 'Argentina'], loc='upper left', fontsize='x-large')"
      ]
    },
    {
      "cell_type": "code",
      "execution_count": null,
      "metadata": {
        "id": "_c2enwhS3eHN"
      },
      "outputs": [],
      "source": []
    },
    {
      "cell_type": "markdown",
      "metadata": {
        "id": "ciHKAGG_3xQN"
      },
      "source": [
        "Ukuran bubble sesuai dengan besarnya populasi yang berimigrasi untuk tahun itu, dibandingkan dengan data 1980 - 2013. Semakin besar bubble, semakin banyak imigran di tahun tersebut.\n",
        "\n",
        "Dari plot di atas, kita dapat melihat peningkatan terkait imigrasi dari Argentina selama great depression 1998 - 2002. Kita juga dapat mengamati lonjakan serupa sekitar tahun 1985 hingga 1993. Faktanya, Argentina pernah mengalami great depression dari tahun 1974 - 1990, sebelum dimulainya great depression tahun 1998 - 2002.\n",
        "\n",
        "Pada note yang sama, Brazil menderita Samba Effect dimana mata uang Brazil turun hampir 35% pada tahun 1999. Ada ketakutan akan krisis keuangan Amerika Selatan karena banyak negara Amerika Selatan sangat bergantung pada ekspor industri dari Brazil. Pemerintah Brasil kemudian mengadopsi program penghematan, dan ekonomi perlahan pulih selama bertahun-tahun, yang berpuncak pada lonjakan pada tahun 2010. Data imigrasi mencerminkan peristiwa ini.\n",
        "\n",
        "Pertanyaan: Sebelumnya di bagian ini, kami membuat plot kotak untuk membandingkan imigrasi dari Cina dan India ke Kanada. Buat plot gelembung imigrasi dari Cina dan India untuk memvisualisasikan perbedaan apa pun dengan waktu dari tahun 1980 hingga 2013. Anda dapat menggunakan df_can_t yang telah kami definisikan dan gunakan pada contoh sebelumnya.\n",
        "\n",
        "\n",
        "Step 1: Normalize the data pertaining to China and India."
      ]
    },
    {
      "cell_type": "code",
      "execution_count": null,
      "metadata": {
        "id": "WfuJykQo4Kpo"
      },
      "outputs": [],
      "source": [
        "### type your answer here\n",
        "norm_china = (df_can_t['China'] - df_can_t['China'].min()) / (df_can_t['China'].max() - df_can_t['China'].min())\n",
        "norm_india = (df_can_t['India'] - df_can_t['India'].min()) / (df_can_t['India'].max() - df_can_t['India'].min())\n"
      ]
    },
    {
      "cell_type": "markdown",
      "metadata": {
        "id": "GHVZ0T7n4QGF"
      },
      "source": [
        "Step 2: Generate the bubble plots"
      ]
    },
    {
      "cell_type": "code",
      "execution_count": null,
      "metadata": {
        "colab": {
          "base_uri": "https://localhost:8080/",
          "height": 937
        },
        "id": "ezJxkPZ14T-1",
        "outputId": "06e64a11-aa69-4d40-aa5f-badbc2a7493b"
      },
      "outputs": [],
      "source": [
        "ax0 = df_can_t.plot(kind='scatter',\n",
        "                    x='Year',\n",
        "                    y='China',\n",
        "                    figsize=(14, 8),\n",
        "                    alpha=0.5,                  # transparency\n",
        "                    color='green',\n",
        "                    s=norm_china * 1300 + 10,  # pass in weights \n",
        "                    xlim=(1975, 2015)\n",
        "                   )\n",
        "\n",
        "ax1 = df_can_t.plot(kind='scatter',\n",
        "                    x='Year',\n",
        "                    y='India',\n",
        "                    alpha=0.5,\n",
        "                    color=\"blue\",\n",
        "                    s=norm_india * 1300 + 10,\n",
        "                    ax = ax0\n",
        "                   )\n",
        "\n",
        "ax0.set_ylabel('Number of Immigrants')\n",
        "ax0.set_title('Immigration from China and India from 1980 - 2013')\n",
        "ax0.legend(['China', 'India'], loc='upper left', fontsize='x-large')"
      ]
    },
    {
      "cell_type": "code",
      "execution_count": null,
      "metadata": {
        "colab": {
          "base_uri": "https://localhost:8080/",
          "height": 450
        },
        "id": "5u7j92_O4hIb",
        "outputId": "32e21bf1-b444-438b-b241-d1a48314cb9e"
      },
      "outputs": [],
      "source": [
        "df = pd.read_excel('https://query.data.world/s/jswyvlfesptdycikd37t5ahgahi64f')"
      ]
    },
    {
      "cell_type": "code",
      "execution_count": null,
      "metadata": {
        "id": "OCFmlFjS5RPU"
      },
      "outputs": [],
      "source": [
        "def_head()"
      ]
    },
    {
      "cell_type": "code",
      "execution_count": null,
      "metadata": {
        "id": "Eb2la_Aj5U5a"
      },
      "outputs": [],
      "source": [
        "segments = list(df[\"Segment\"])\n",
        "print(segments[:5])"
      ]
    },
    {
      "cell_type": "code",
      "execution_count": null,
      "metadata": {
        "id": "gdP2adKf5Wli"
      },
      "outputs": [],
      "source": [
        "rekap_segment = {} \n",
        "for s in segments:\n",
        "    if s in rekap_segment:\n",
        "        rekap_segment[s] +=1 \n",
        "    else: \n",
        "        rekap_segment[s] = 1\n",
        "\n",
        "rekap_segment "
      ]
    },
    {
      "cell_type": "code",
      "execution_count": null,
      "metadata": {
        "id": "UwMqkHwq5X_0"
      },
      "outputs": [],
      "source": [
        "import matplotlib.pyplot as plt \n",
        "\n",
        "segment_type = rekap_segment.keys() \n",
        "print(segment_type)\n",
        "jml_segment = rekap_segment.values()"
      ]
    },
    {
      "cell_type": "code",
      "execution_count": null,
      "metadata": {
        "id": "j6rd8hLk5aA4"
      },
      "outputs": [],
      "source": [
        "plt.pie(jml_segment, \n",
        "        autopct='%1.0f%%',\n",
        "        labels=segment_type, \n",
        "        startangle=60)\n",
        "plt.axis('equal')\n",
        "plt.title(\"Superstore Segmentation Buyer\")\n",
        "plt.show()"
      ]
    },
    {
      "cell_type": "code",
      "execution_count": null,
      "metadata": {
        "id": "YSPkMqBe5b4x"
      },
      "outputs": [],
      "source": [
        "date_order = df['Order Date']\n",
        "date_order.head()"
      ]
    },
    {
      "cell_type": "code",
      "execution_count": null,
      "metadata": {
        "id": "A4CGkcRJ5dAN"
      },
      "outputs": [],
      "source": [
        "date_order_str = list(map(lambda x: str(x), date_order)) \n",
        "date_order_str[:5]"
      ]
    },
    {
      "cell_type": "code",
      "execution_count": null,
      "metadata": {
        "id": "cFk6ABrP5frT"
      },
      "outputs": [],
      "source": [
        "date_order_2015 = list(filter(lambda x : str(x[:4]) ==  '2019', date_order_str))\n",
        "date_order_2015[:5]"
      ]
    },
    {
      "cell_type": "code",
      "execution_count": null,
      "metadata": {
        "id": "V-clYUzH5iK0"
      },
      "outputs": [],
      "source": [
        "rekap_order = {} \n",
        "for tgl in date_order_2015:\n",
        "    if tgl[5:7] in rekap_order:\n",
        "        rekap_order[tgl[5:7]] +=1\n",
        "    else:\n",
        "        rekap_order[tgl[5:7]] =1\n",
        "\n",
        "print(rekap_order)"
      ]
    },
    {
      "cell_type": "code",
      "execution_count": null,
      "metadata": {
        "id": "71VdjTHl5h5q"
      },
      "outputs": [],
      "source": [
        "bulan_order = list(rekap_order.keys()) \n",
        "bulan_order.sort()\n",
        "print(bulan_order)"
      ]
    },
    {
      "cell_type": "code",
      "execution_count": null,
      "metadata": {
        "id": "5ozkvk9f5nBt"
      },
      "outputs": [],
      "source": [
        "jumlah_order = [] \n",
        "\n",
        "for bln in bulan_order:\n",
        "    jumlah_order.append(rekap_order[bln])\n",
        "\n",
        "print(jumlah_order)"
      ]
    },
    {
      "cell_type": "code",
      "execution_count": null,
      "metadata": {
        "id": "YRRy3Owi5ozb"
      },
      "outputs": [],
      "source": [
        "plt.bar(bulan_order,jumlah_order, color=\"blue\")\n",
        "plt.title(\"Jumlah Order di 2020\")\n",
        "plt.ylabel(\"Jumlah\")\n",
        "plt.xlabel(\"Bulan\")\n",
        "plt.show()"
      ]
    }
  ],
  "metadata": {
    "colab": {
      "collapsed_sections": [
        "wUzBa0pHuGh0",
        "szke8OghuGid",
        "Mh-jvT8kuGiq",
        "AS6iED1EuGiu",
        "WRre_Ha-uGi7",
        "j7jib-uYuGi9",
        "sqMdsoSiuGjB",
        "hBHLU_wPuGjE",
        "oSMnnKGMuGjH",
        "WyPY43_TuGjK",
        "ueVxYIKmuGjM",
        "rRYnEvDhuGjQ",
        "-bLJDNspuGjW",
        "mSVK46IDuGjY",
        "B6VSB0_GuGjc",
        "jCy1S7SHuGjj",
        "BFxoFD9ouGjn",
        "D3GdyHIQuGjq",
        "04nyn6fEuGjz",
        "ESE3D03MuGj4",
        "9TmRYv2quGj6",
        "9SK0Ig6EuGj6",
        "hem9vQuEuGkh",
        "0j36o_LRuGks"
      ],
      "name": "Basic Visualization.ipynb",
      "provenance": []
    },
    "interpreter": {
      "hash": "5c2fd4004812fc01bb065aec279401a35a5d0e66b1835ba1f617760cc98ab288"
    },
    "kernelspec": {
      "display_name": "Python 3.10.2 64-bit (windows store)",
      "language": "python",
      "name": "python3"
    },
    "language_info": {
      "codemirror_mode": {
        "name": "ipython",
        "version": 3
      },
      "file_extension": ".py",
      "mimetype": "text/x-python",
      "name": "python",
      "nbconvert_exporter": "python",
      "pygments_lexer": "ipython3",
      "version": "3.10.2"
    },
    "orig_nbformat": 4
  },
  "nbformat": 4,
  "nbformat_minor": 0
}
