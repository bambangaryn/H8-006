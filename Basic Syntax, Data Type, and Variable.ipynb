{
 "cells": [
  {
   "cell_type": "code",
   "execution_count": null,
   "id": "89c830fd",
   "metadata": {},
   "outputs": [],
   "source": [
    "# Integers\n",
    "print(10)\n",
    "print(type(10))"
   ]
  },
  {
   "cell_type": "code",
   "execution_count": null,
   "id": "2b433f08",
   "metadata": {},
   "outputs": [],
   "source": [
    "# FLoat\n",
    "print(4.2)\n",
    "print(type(4.2))\n",
    "\n",
    "print(.4)\n",
    "\n",
    "print(.4e7)\n",
    "\n",
    "print(4.2e-4)"
   ]
  },
  {
   "cell_type": "code",
   "execution_count": null,
   "id": "392edf2e",
   "metadata": {},
   "outputs": [],
   "source": [
    "# Srings\n",
    "print('Ayo Belajar')\n",
    "print(type('Ayo Belajar'))"
   ]
  },
  {
   "cell_type": "code",
   "execution_count": null,
   "id": "cd4b1c62",
   "metadata": {},
   "outputs": [],
   "source": [
    "# Boolean\n",
    "print(type(True))\n",
    "print(type(False))"
   ]
  },
  {
   "cell_type": "code",
   "execution_count": null,
   "id": "dbfd1efb",
   "metadata": {},
   "outputs": [],
   "source": [
    "# Variable\n",
    "n = 500\n",
    "print(n)\n",
    "\n",
    "a = b = c = 100\n",
    "print(a, b , c)\n"
   ]
  },
  {
   "cell_type": "code",
   "execution_count": null,
   "id": "fd6859ca",
   "metadata": {},
   "outputs": [],
   "source": [
    "name = 'Bambang Ary Nugroho'\n",
    "Age = 22\n",
    "has_laptops = True\n",
    "print(name, Age, has_laptops)"
   ]
  },
  {
   "cell_type": "code",
   "execution_count": null,
   "id": "ddc4b305",
   "metadata": {},
   "outputs": [],
   "source": [
    "#Operators and Expressions in Python\n",
    "a = 20\n",
    "b = 30\n",
    "print( a + b - 4)\n",
    "\n"
   ]
  },
  {
   "cell_type": "code",
   "execution_count": null,
   "id": "ceca6d2d",
   "metadata": {},
   "outputs": [],
   "source": [
    "#Artihmetic Operators\n",
    "a = 4\n",
    "b = 5\n",
    "\n",
    "print( a + b)\n",
    "print(a - b)\n",
    "print(a * b)\n",
    "print(a / b)\n",
    "print(a % b)\n",
    "print(a ** b)\n",
    "print(a // b)\n"
   ]
  },
  {
   "cell_type": "code",
   "execution_count": null,
   "id": "604243b5",
   "metadata": {},
   "outputs": [],
   "source": [
    "# Comparison Operators\n",
    "\n",
    "a = 10\n",
    "b = 20\n",
    "\n",
    "print( a == b)\n",
    "\n",
    "print(a != b)\n",
    "\n",
    "print(a <= b)\n",
    "\n",
    "print(a >= b)\n",
    "\n",
    "\n",
    "a = 30\n",
    "b = 30\n",
    "\n",
    "print(a == b)\n",
    "\n",
    "print( a <= b)\n",
    "\n",
    "print(a >= b)"
   ]
  },
  {
   "cell_type": "code",
   "execution_count": null,
   "id": "e5884a82",
   "metadata": {},
   "outputs": [],
   "source": [
    "# String Manipulation\n",
    "\n",
    "s = 'foo'\n",
    "t = 'bar'\n",
    "u = 'baz'\n",
    "\n",
    "print(s + t)\n",
    "\n",
    "print(s + t + u)\n",
    "\n",
    "print('Tamado' + 'Tanjiro')"
   ]
  },
  {
   "cell_type": "code",
   "execution_count": null,
   "id": "7f304592",
   "metadata": {},
   "outputs": [],
   "source": [
    "# *Operators\n",
    "s = 'foo'\n",
    "s * 5"
   ]
  },
  {
   "cell_type": "code",
   "execution_count": null,
   "id": "dc35a727",
   "metadata": {},
   "outputs": [],
   "source": [
    "# Case Conversion\n",
    "s = 'rengoku'\n",
    "\n",
    "# capitalize\n",
    "print(s.capitalize())\n",
    "\n",
    "# Lower\n",
    "print(s.lower())\n",
    "\n",
    "# Swapcase\n",
    "print(s.swapcase())\n",
    "\n",
    "# Title\n",
    "print(s.title())\n",
    "\n",
    "# Uppercase\n",
    "print(s.upper())\n"
   ]
  },
  {
   "cell_type": "code",
   "execution_count": null,
   "id": "475f2317",
   "metadata": {},
   "outputs": [],
   "source": [
    "# Python list\n",
    "a = ['Ayam', 'Ikan', 'Buah', 'Sayur']\n",
    "print(a)"
   ]
  },
  {
   "cell_type": "code",
   "execution_count": null,
   "id": "8bd6bc50",
   "metadata": {},
   "outputs": [],
   "source": [
    "# List Are Ordered\n",
    "a = ['Ayam', 'Ikan', 'Buah', 'Sayur']\n",
    "b = ['Ayam', 'Ikan', 'Buah', 'Tumbuhan']\n",
    "\n",
    "a == b"
   ]
  },
  {
   "cell_type": "code",
   "execution_count": null,
   "id": "898ca038",
   "metadata": {},
   "outputs": [],
   "source": [
    "# List can conatain Arbitrary Objects\n",
    "a = [21,8 , 'Ayam', 3, 'Daging', 34]\n",
    "print(a)"
   ]
  },
  {
   "cell_type": "code",
   "execution_count": null,
   "id": "f25708ed",
   "metadata": {},
   "outputs": [],
   "source": [
    "# List Elements Can Be Accessed by Index\n",
    "a = ['Ayam', 'Ikan', 'Buah', 'Sayur']\n",
    "\n",
    "print(a[0])\n",
    "print(a[3])\n",
    "print(a[-3])\n",
    "print(a[:3])\n",
    "print(a[2:3])\n",
    "print(a[-2:1])"
   ]
  },
  {
   "cell_type": "code",
   "execution_count": null,
   "id": "000442b5",
   "metadata": {},
   "outputs": [],
   "source": [
    "# The concanetation (+) and replication (*) Operators\n",
    "a = ['Ayam', 'Ikan', 'Buah', 'Sayur']\n",
    "\n",
    "print(a + ['Daging', 'Bumbu'])\n",
    "print(a * 2)"
   ]
  },
  {
   "cell_type": "code",
   "execution_count": null,
   "id": "d748eee0",
   "metadata": {},
   "outputs": [],
   "source": [
    "#len(), min(), max()\n",
    "a = ['Ayam', 'Ikan', 'Buah', 'Sayur']\n",
    "\n",
    "print(len(a))\n",
    "print(min(a))\n",
    "print(max(a))"
   ]
  },
  {
   "cell_type": "code",
   "execution_count": null,
   "id": "61b233b2",
   "metadata": {},
   "outputs": [],
   "source": [
    "a = ['Ayam', 'Ikan', 'Buah', 'Sayur']\n",
    "print(a)\n",
    "\n",
    "a[2] = 30\n",
    "a[1] = 10\n",
    "print(a)\n",
    "\n",
    "#delete\n",
    "del a[3]\n",
    "print(a)"
   ]
  },
  {
   "cell_type": "code",
   "execution_count": null,
   "id": "845d3b1f",
   "metadata": {},
   "outputs": [],
   "source": [
    "#Modifiying Multiple List Values\n",
    "a = ['Ayam', 'Ikan', 'Buah', 'Sayur', 'Daging']\n",
    "\n",
    "print(a[1:4])\n",
    "a[1:4] = [1, 2, 3, 4]\n",
    "print(a)"
   ]
  },
  {
   "cell_type": "markdown",
   "id": "7caf2dcc",
   "metadata": {},
   "source": [
    "# Python Tuples"
   ]
  },
  {
   "cell_type": "code",
   "execution_count": null,
   "id": "39e50eb0",
   "metadata": {},
   "outputs": [],
   "source": [
    "a = ('Ayam', 'Ikan', 'Buah', 'Sayur', 'Daging')\n",
    "print(a)\n",
    "print(a[1])\n",
    "print(a[2])"
   ]
  },
  {
   "cell_type": "markdown",
   "id": "bde8e52e",
   "metadata": {},
   "source": [
    "### Python Dictionary"
   ]
  },
  {
   "cell_type": "code",
   "execution_count": null,
   "id": "7be19455",
   "metadata": {},
   "outputs": [],
   "source": [
    "MLB_team = {'colorado': 'Rockies', 'Boston':'Red Sox',\n",
    "           'Minnesota':'Twins', 'Milwaukee':'Brewers',\n",
    "           'Seattle':'Marines'}\n",
    "\n",
    "# Accesing Dictionary Values\n",
    "print(MLB_team['colorado'])\n",
    "print(MLB_team['Minnesota'])"
   ]
  },
  {
   "cell_type": "code",
   "execution_count": null,
   "id": "ce6b6e74",
   "metadata": {},
   "outputs": [],
   "source": [
    "# Adding an entry to an exixting dictionary\n",
    "MLB_team['Kansas City'] = 'Royals'\n",
    "MLB_team"
   ]
  },
  {
   "cell_type": "code",
   "execution_count": null,
   "id": "f763fdfe",
   "metadata": {},
   "outputs": [],
   "source": [
    "#update dictionary\n",
    "MLB_team['Seattle'] = 'Seahawks'\n",
    "MLB_team"
   ]
  },
  {
   "cell_type": "code",
   "execution_count": null,
   "id": "a6aafeb6",
   "metadata": {},
   "outputs": [],
   "source": [
    "# Delete\n",
    "del MLB_team['Seattle']\n",
    "MLB_team"
   ]
  },
  {
   "cell_type": "markdown",
   "id": "4f039533",
   "metadata": {},
   "source": [
    "### Building a Dictionary Incrementaly "
   ]
  },
  {
   "cell_type": "code",
   "execution_count": null,
   "id": "bf3ca290",
   "metadata": {
    "scrolled": true
   },
   "outputs": [],
   "source": [
    "person = {}\n",
    "type(person)\n",
    "\n",
    "person['name'] = 'Ary'\n",
    "person['Age'] = '22'\n",
    "person['School'] = 'Telkom University'\n",
    "person['Study'] = 'Telecomunication Technology'\n",
    "person['Organization'] = ['MBKM', 'ADJ','AGS']\n",
    "person"
   ]
  },
  {
   "cell_type": "code",
   "execution_count": null,
   "id": "3e57b128",
   "metadata": {},
   "outputs": [],
   "source": [
    "print(person['name'])\n",
    "print(person['Organization'][2])"
   ]
  },
  {
   "cell_type": "code",
   "execution_count": null,
   "id": "22b234eb",
   "metadata": {},
   "outputs": [],
   "source": [
    "# Built-in Methods\n",
    "d = {'a':10, 'b':20, 'c':30}\n",
    "\n",
    "#items\n",
    "print(d.items())\n",
    "\n",
    "#keys\n",
    "print(d.keys())\n",
    "\n",
    "# values\n",
    "print(d.values())"
   ]
  },
  {
   "cell_type": "markdown",
   "id": "8e862e5d",
   "metadata": {},
   "source": [
    "### Line Continuation"
   ]
  },
  {
   "cell_type": "code",
   "execution_count": null,
   "id": "fe96e403",
   "metadata": {},
   "outputs": [],
   "source": [
    "person1_age = 42\n",
    "person2_age = 16\n",
    "person3_age = 71\n",
    "\n",
    "someone_is_of_working_age = (person1_age >=18 and person1_age <= 65) or (person2_age >= 18 and person2_age <= 65) or (person3_age >= 18 and person3_age <= 65)\n",
    "someone_is_of_working_age"
   ]
  },
  {
   "cell_type": "code",
   "execution_count": null,
   "id": "09a64a48",
   "metadata": {},
   "outputs": [],
   "source": [
    "person1_age = 42\n",
    "person2_age = 16\n",
    "person3_age = 71\n",
    "\n",
    "someone_is_of_working_age = (\n",
    "    (person1_age >=18 and person1_age <= 65) \n",
    "    or (person2_age >= 18 and person2_age <= 65)\n",
    "    or (person3_age >= 18 and person3_age <= 65)\n",
    "    )\n",
    "someone_is_of_working_age"
   ]
  },
  {
   "cell_type": "code",
   "execution_count": null,
   "id": "55356732",
   "metadata": {},
   "outputs": [],
   "source": []
  }
 ],
 "metadata": {
  "kernelspec": {
   "display_name": "Python 3 (ipykernel)",
   "language": "python",
   "name": "python3"
  },
  "language_info": {
   "codemirror_mode": {
    "name": "ipython",
    "version": 3
   },
   "file_extension": ".py",
   "mimetype": "text/x-python",
   "name": "python",
   "nbconvert_exporter": "python",
   "pygments_lexer": "ipython3",
   "version": "3.9.7"
  }
 },
 "nbformat": 4,
 "nbformat_minor": 5
}
